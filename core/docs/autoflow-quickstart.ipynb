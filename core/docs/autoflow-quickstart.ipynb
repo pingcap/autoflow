{
 "cells": [
  {
   "cell_type": "markdown",
   "id": "b7e2255151321350",
   "metadata": {},
   "source": [
    "# Autoflow\n",
    "\n",
    "Autoflow is a RAG framework supported:\n",
    "\n",
    "- Vector Search Based RAG\n",
    "- Knowledge Graph Based RAG (aka. GraphRAG)\n",
    "- Knowledge Base and Document Management"
   ]
  },
  {
   "cell_type": "markdown",
   "id": "f4c3f49f",
   "metadata": {},
   "source": [
    "## Installation"
   ]
  },
  {
   "metadata": {},
   "cell_type": "code",
   "source": [
    "%pip install autoflow-ai==0.0.1.dev31\n",
    "%pip install autoflow-ai[experiment]==0.0.1.dev31\n",
    "%pip install ipywidgets"
   ],
   "id": "7bbed79850462cfe",
   "outputs": [],
   "execution_count": null
  },
  {
   "cell_type": "markdown",
   "id": "0b6d5be6",
   "metadata": {},
   "source": [
    "## Prerequisites\n",
    "\n",
    "- Go [tidbcloud.com](https://tidbcloud.com/) or using [tiup playground](https://docs.pingcap.com/tidb/stable/tiup-playground/) to create a free TiDB database cluster.\n",
    "- Go [OpenAI platform](https://platform.openai.com/api-keys) to create your API key."
   ]
  },
  {
   "cell_type": "markdown",
   "id": "66ea056f213efcae",
   "metadata": {},
   "source": [
    "#### For Jupyter Notebook\n",
    "\n",
    "Configuration can be provided through environment variables, or using `.env`:"
   ]
  },
  {
   "cell_type": "code",
   "execution_count": null,
   "id": "7de9ab2c65f1880e",
   "metadata": {},
   "outputs": [],
   "source": [
    "# Create .env file, then edit your .env, for example:\n",
    "# $ cat .env\n",
    "# TIDB_HOST=localhost\n",
    "# TIDB_PORT=4000\n",
    "# TIDB_USERNAME=root\n",
    "# TIDB_PASSWORD=\n",
    "# OPENAI_API_KEY='your_openai_api_key'\n",
    "%cp .env.example .env"
   ]
  },
  {
   "cell_type": "code",
   "id": "b6cdb4d5",
   "metadata": {
    "ExecuteTime": {
     "end_time": "2025-03-18T06:19:31.056655Z",
     "start_time": "2025-03-18T06:19:31.047949Z"
    }
   },
   "source": [
    "import os\n",
    "import dotenv\n",
    "\n",
    "dotenv.load_dotenv()"
   ],
   "outputs": [
    {
     "data": {
      "text/plain": [
       "True"
      ]
     },
     "execution_count": 3,
     "metadata": {},
     "output_type": "execute_result"
    }
   ],
   "execution_count": 3
  },
  {
   "cell_type": "markdown",
   "id": "ae015b5d518734b",
   "metadata": {},
   "source": [
    "#### For Google Colab"
   ]
  },
  {
   "cell_type": "code",
   "execution_count": null,
   "id": "813b85ae694284a5",
   "metadata": {},
   "outputs": [],
   "source": [
    "from google.colab import userdata\n",
    "\n",
    "os.environ[\"TIDB_HOST\"] = userdata.get(\"TIDB_HOST\")\n",
    "os.environ[\"TIDB_PORT\"] = userdata.get(\"TIDB_PORT\")\n",
    "os.environ[\"TIDB_USERNAME\"] = userdata.get(\"TIDB_USERNAME\")\n",
    "os.environ[\"TIDB_PASSWORD\"] = userdata.get(\"TIDB_PASSWORD\")\n",
    "os.environ[\"OPENAI_API_KEY\"] = userdata.get(\"OPENAI_API_KEY\")"
   ]
  },
  {
   "cell_type": "markdown",
   "id": "f8897854c897bf17",
   "metadata": {},
   "source": [
    "## Quickstart"
   ]
  },
  {
   "cell_type": "markdown",
   "id": "a38fde21",
   "metadata": {},
   "source": [
    "### Init Autoflow"
   ]
  },
  {
   "cell_type": "code",
   "id": "84f43a00",
   "metadata": {
    "ExecuteTime": {
     "end_time": "2025-03-18T06:19:36.576572Z",
     "start_time": "2025-03-18T06:19:34.624392Z"
    }
   },
   "source": [
    "import os\n",
    "from autoflow import Autoflow\n",
    "\n",
    "af = Autoflow.from_config(\n",
    "    db_host=os.getenv(\"TIDB_HOST\"),\n",
    "    db_port=int(os.getenv(\"TIDB_PORT\")),\n",
    "    db_username=os.getenv(\"TIDB_USERNAME\"),\n",
    "    db_password=os.getenv(\"TIDB_PASSWORD\"),\n",
    "    db_name=os.getenv(\"TIDB_DATABASE\"),\n",
    ")"
   ],
   "outputs": [],
   "execution_count": 4
  },
  {
   "cell_type": "markdown",
   "id": "5afea9b7",
   "metadata": {},
   "source": [
    "### Create knowledge base"
   ]
  },
  {
   "cell_type": "code",
   "id": "9e1ff63c",
   "metadata": {
    "ExecuteTime": {
     "end_time": "2025-03-18T06:19:40.905985Z",
     "start_time": "2025-03-18T06:19:40.118983Z"
    }
   },
   "source": [
    "from uuid import UUID\n",
    "from autoflow.schema import IndexMethod\n",
    "from autoflow.llms.chat_models import ChatModel\n",
    "from autoflow.llms.embeddings import EmbeddingModel\n",
    "\n",
    "chat_model = ChatModel(\"gpt-4o-mini\")\n",
    "embed_model = EmbeddingModel(model_name=\"text-embedding-3-small\", dimensions=1536)\n",
    "\n",
    "kb = af.create_knowledge_base(\n",
    "    id=UUID(\"655b6cf3-8b30-4839-ba8b-5ed3c502f30e\"),\n",
    "    name=\"New KB\",\n",
    "    description=\"This is a knowledge base for testing\",\n",
    "    index_methods=[IndexMethod.VECTOR_SEARCH, IndexMethod.KNOWLEDGE_GRAPH],\n",
    "    chat_model=chat_model,\n",
    "    embedding_model=embed_model,\n",
    ")\n",
    "kb.model_dump()"
   ],
   "outputs": [
    {
     "data": {
      "text/plain": [
       "{'id': UUID('655b6cf3-8b30-4839-ba8b-5ed3c502f30e'),\n",
       " 'name': 'New KB',\n",
       " 'index_methods': [<IndexMethod.VECTOR_SEARCH: 'VECTOR_SEARCH'>,\n",
       "  <IndexMethod.KNOWLEDGE_GRAPH: 'KNOWLEDGE_GRAPH'>],\n",
       " 'description': 'This is a knowledge base for testing',\n",
       " 'chunking_config': {'mode': <ChunkingMode.GENERAL: 'general'>,\n",
       "  'chunk_size': 1200,\n",
       "  'chunk_overlap': 200,\n",
       "  'paragraph_separator': '\\n\\n\\n'},\n",
       " 'data_sources': [],\n",
       " 'class_name': 'base_component'}"
      ]
     },
     "execution_count": 5,
     "metadata": {},
     "output_type": "execute_result"
    }
   ],
   "execution_count": 5
  },
  {
   "cell_type": "markdown",
   "id": "4cfc2d80",
   "metadata": {},
   "source": [
    "### Import documents from files"
   ]
  },
  {
   "cell_type": "code",
   "id": "77dbdac1",
   "metadata": {
    "ExecuteTime": {
     "end_time": "2025-03-18T06:19:48.316454Z",
     "start_time": "2025-03-18T06:19:48.312097Z"
    }
   },
   "source": [
    "current_dir = os.path.dirname(os.path.abspath(\"__file__\"))\n",
    "current_dir"
   ],
   "outputs": [
    {
     "data": {
      "text/plain": [
       "'/Users/liangzhiyuan/Projects/autoflow.ai/core/docs'"
      ]
     },
     "execution_count": 6,
     "metadata": {},
     "output_type": "execute_result"
    }
   ],
   "execution_count": 6
  },
  {
   "cell_type": "code",
   "id": "f729326f",
   "metadata": {
    "ExecuteTime": {
     "end_time": "2025-03-18T06:20:43.525375Z",
     "start_time": "2025-03-18T06:19:50.201174Z"
    }
   },
   "source": [
    "from pathlib import Path\n",
    "\n",
    "kb.import_documents_from_files(\n",
    "    files=[\n",
    "        Path(current_dir) / \"fixtures\" / \"tidb-overview.md\",\n",
    "    ]\n",
    ")"
   ],
   "outputs": [
    {
     "data": {
      "text/plain": [
       "[]"
      ]
     },
     "execution_count": 7,
     "metadata": {},
     "output_type": "execute_result"
    }
   ],
   "execution_count": 7
  },
  {
   "cell_type": "markdown",
   "id": "84fd9b606e6a11a5",
   "metadata": {},
   "source": [
    "### Search Documents"
   ]
  },
  {
   "cell_type": "code",
   "id": "259ad7a9",
   "metadata": {
    "ExecuteTime": {
     "end_time": "2025-03-18T06:20:51.894747Z",
     "start_time": "2025-03-18T06:20:51.877499Z"
    }
   },
   "source": [
    "result = kb.search_documents(\n",
    "    query=\"What is TiDB?\",\n",
    "    similarity_top_k=2,\n",
    ")\n",
    "[(c.score, c.chunk.text) for c in result.chunks]"
   ],
   "outputs": [
    {
     "data": {
      "text/plain": [
       "[(0.7382171054172685,\n",
       "  'What is TiDB Self-Managed Key features\\n<!-- Localization note for TiDB:\\n- English: use distributed SQL, and start to emphasize HTAP\\n- Chinese: can keep \"NewSQL\" and emphasize one-stop real-time HTAP (\"一栈式实时 HTAP\")\\n- Japanese: use NewSQL because it is well-recognized\\n-->\\nTiDB (/\\'taɪdiːbi:/, \"Ti\" stands for Titanium) is an open-source distributed SQL database that supports Hybrid Transactional and Analytical Processing (HTAP) workloads. It is MySQL compatible and features horizontal scalability, strong consistency, and high availability. The goal of TiDB is to provide users with a one-stop database solution that covers OLTP (Online Transactional Processing), OLAP (Online Analytical Processing), and HTAP services. TiDB is suitable for various use cases that require high availability and strong consistency with large-scale data.\\nTiDB Self-Managed is a product option of TiDB, where users or organizations can deploy and manage TiDB on their own infrastructure with complete flexibility. With TiDB Self-Managed, you can enjoy the power of open source, distributed SQL while retaining full control over your environment.\\nThe following video introduces key features of TiDB.\\n\\n- **Easy horizontal scaling**\\nThe TiDB architecture design separates computing from storage, letting you scale out or scale in the computing or storage capacity online as needed. The scaling process is transparent to application operations and maintenance staff.\\n- **Financial-grade high availability**\\nData is stored in multiple replicas, and the Multi-Raft protocol is used to obtain the transaction log. A transaction can only be committed when data has been successfully written into the majority of replicas. This guarantees strong consistency and availability when a minority of replicas go down. You can configure the geographic location and number of replicas as needed to meet different disaster tolerance levels.\\n- **Real-time HTAP**\\nTiDB provides two storage engines: TiKV, a row-based storage engine, and TiFlash, a columnar storage engine. TiFlash uses the Multi-Raft Learner protocol to replicate data from TiKV in real time, ensuring consistent data between the TiKV row-based storage engine and the TiFlash columnar storage engine. TiKV and TiFlash can be deployed on different machines as needed to solve the problem of HTAP resource isolation.\\n- **Cloud-native distributed database**\\nTiDB is a distributed database designed for the cloud, providing flexible scalability, reliability, and security on the cloud platform. Users can elastically scale TiDB to meet the requirements of their changing workloads. In TiDB, each piece of data has at least 3 replicas, which can be scheduled in different cloud availability zones to tolerate the outage of a whole data center. TiDB Operator helps manage TiDB on Kubernetes and automates tasks related to operating the TiDB cluster, making TiDB easier to deploy on any cloud that provides managed Kubernetes. TiDB Cloud, the fully-managed TiDB service, is the easiest, most economical, and most resilient way to unlock the full power of TiDB in the cloud, allowing you to deploy and run TiDB clusters with just a few clicks.\\n- **Compatible with the MySQL protocol and MySQL ecosystem**\\nTiDB is compatible with the MySQL protocol, common features of MySQL, and the MySQL ecosystem. To migrate applications to TiDB, you do not need to change a single line of code in many cases, or only need to modify a small amount of code. In addition, TiDB provides a series of data migration tools to help easily migrate application data into TiDB.'),\n",
       " (0.7382171054172685,\n",
       "  'What is TiDB Self-Managed Key features\\n<!-- Localization note for TiDB:\\n- English: use distributed SQL, and start to emphasize HTAP\\n- Chinese: can keep \"NewSQL\" and emphasize one-stop real-time HTAP (\"一栈式实时 HTAP\")\\n- Japanese: use NewSQL because it is well-recognized\\n-->\\nTiDB (/\\'taɪdiːbi:/, \"Ti\" stands for Titanium) is an open-source distributed SQL database that supports Hybrid Transactional and Analytical Processing (HTAP) workloads. It is MySQL compatible and features horizontal scalability, strong consistency, and high availability. The goal of TiDB is to provide users with a one-stop database solution that covers OLTP (Online Transactional Processing), OLAP (Online Analytical Processing), and HTAP services. TiDB is suitable for various use cases that require high availability and strong consistency with large-scale data.\\nTiDB Self-Managed is a product option of TiDB, where users or organizations can deploy and manage TiDB on their own infrastructure with complete flexibility. With TiDB Self-Managed, you can enjoy the power of open source, distributed SQL while retaining full control over your environment.\\nThe following video introduces key features of TiDB.\\n\\n- **Easy horizontal scaling**\\nThe TiDB architecture design separates computing from storage, letting you scale out or scale in the computing or storage capacity online as needed. The scaling process is transparent to application operations and maintenance staff.\\n- **Financial-grade high availability**\\nData is stored in multiple replicas, and the Multi-Raft protocol is used to obtain the transaction log. A transaction can only be committed when data has been successfully written into the majority of replicas. This guarantees strong consistency and availability when a minority of replicas go down. You can configure the geographic location and number of replicas as needed to meet different disaster tolerance levels.\\n- **Real-time HTAP**\\nTiDB provides two storage engines: TiKV, a row-based storage engine, and TiFlash, a columnar storage engine. TiFlash uses the Multi-Raft Learner protocol to replicate data from TiKV in real time, ensuring consistent data between the TiKV row-based storage engine and the TiFlash columnar storage engine. TiKV and TiFlash can be deployed on different machines as needed to solve the problem of HTAP resource isolation.\\n- **Cloud-native distributed database**\\nTiDB is a distributed database designed for the cloud, providing flexible scalability, reliability, and security on the cloud platform. Users can elastically scale TiDB to meet the requirements of their changing workloads. In TiDB, each piece of data has at least 3 replicas, which can be scheduled in different cloud availability zones to tolerate the outage of a whole data center. TiDB Operator helps manage TiDB on Kubernetes and automates tasks related to operating the TiDB cluster, making TiDB easier to deploy on any cloud that provides managed Kubernetes. TiDB Cloud, the fully-managed TiDB service, is the easiest, most economical, and most resilient way to unlock the full power of TiDB in the cloud, allowing you to deploy and run TiDB clusters with just a few clicks.\\n- **Compatible with the MySQL protocol and MySQL ecosystem**\\nTiDB is compatible with the MySQL protocol, common features of MySQL, and the MySQL ecosystem. To migrate applications to TiDB, you do not need to change a single line of code in many cases, or only need to modify a small amount of code. In addition, TiDB provides a series of data migration tools to help easily migrate application data into TiDB.')]"
      ]
     },
     "execution_count": 8,
     "metadata": {},
     "output_type": "execute_result"
    }
   ],
   "execution_count": 8
  },
  {
   "cell_type": "markdown",
   "id": "f2a0de8057cdf16b",
   "metadata": {},
   "source": [
    "### Search Knowledge Graph"
   ]
  },
  {
   "cell_type": "code",
   "id": "6fc5bc93",
   "metadata": {
    "ExecuteTime": {
     "end_time": "2025-03-18T06:20:57.490286Z",
     "start_time": "2025-03-18T06:20:57.433203Z"
    }
   },
   "source": [
    "kg = kb.search_knowledge_graph(\n",
    "    query=\"What is TiDB?\",\n",
    ")\n",
    "[(r.rag_description) for r in kg.relationships]"
   ],
   "outputs": [
    {
     "data": {
      "text/plain": [
       "['TiDB -> TiDB can be deployed in a Self-Managed model, providing users with control over their database setup. -> Self-Managed',\n",
       " 'TiDB -> TiDB Self-Managed is a deployment option of TiDB that allows users to manage the database on their own infrastructure. -> TiDB Self-Managed',\n",
       " 'TiDB -> TiDB utilizes TiKV as its row-based storage engine to support real-time data replication. -> TiKV',\n",
       " 'TiDB -> TiDB employs TiFlash as its columnar storage engine to ensure consistent data storage and real-time replication from TiKV. -> TiFlash',\n",
       " 'TiDB -> TiDB Operator facilitates the management of TiDB on Kubernetes, automating operational tasks. -> TiDB Operator',\n",
       " 'TiDB -> TiDB Cloud is the fully-managed service that allows users to deploy and run TiDB clusters in the cloud. -> TiDB Cloud',\n",
       " 'TiDB -> TiDB can be deployed in a Self-Managed model, providing users with control over their database setup. -> Self-Managed',\n",
       " 'TiDB -> TiDB Self-Managed is a deployment option of TiDB that allows users to manage the database on their own infrastructure. -> TiDB Self-Managed',\n",
       " 'TiDB -> TiDB utilizes TiKV as its row-based storage engine to support real-time data replication. -> TiKV',\n",
       " 'TiDB -> TiDB employs TiFlash as its columnar storage engine to ensure consistent data storage and real-time replication from TiKV. -> TiFlash',\n",
       " 'TiDB -> TiDB Operator facilitates the management of TiDB on Kubernetes, automating operational tasks. -> TiDB Operator',\n",
       " 'TiDB -> TiDB Cloud is the fully-managed service that allows users to deploy and run TiDB clusters in the cloud. -> TiDB Cloud']"
      ]
     },
     "execution_count": 10,
     "metadata": {},
     "output_type": "execute_result"
    }
   ],
   "execution_count": 10
  }
 ],
 "metadata": {
  "kernelspec": {
   "display_name": ".venv",
   "language": "python",
   "name": "python3"
  },
  "language_info": {
   "codemirror_mode": {
    "name": "ipython",
    "version": 3
   },
   "file_extension": ".py",
   "mimetype": "text/x-python",
   "name": "python",
   "nbconvert_exporter": "python",
   "pygments_lexer": "ipython3",
   "version": "3.12.4"
  }
 },
 "nbformat": 4,
 "nbformat_minor": 5
}
