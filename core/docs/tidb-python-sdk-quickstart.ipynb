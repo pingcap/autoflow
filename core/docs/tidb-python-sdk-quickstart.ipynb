{
 "cells": [
  {
   "cell_type": "markdown",
   "id": "b90e936b724dae40",
   "metadata": {},
   "source": [
    "# TiDB Python SDK V2\n",
    "\n",
    "A powerful Python SDK for vector storage and retrieval operations with TiDB.\n",
    "\n",
    "- 🔄 Automatic embedding generation\n",
    "- 🔍 Vector similarity search\n",
    "- 🎯 Advanced filtering capabilities\n",
    "- 📦 Bulk operations support"
   ]
  },
  {
   "cell_type": "markdown",
   "id": "d774f9944686ca99",
   "metadata": {},
   "source": [
    "## Installation"
   ]
  },
  {
   "cell_type": "code",
   "execution_count": 1,
   "id": "b81aa3ab",
   "metadata": {
    "jupyter": {
     "is_executing": true
    }
   },
   "outputs": [
    {
     "name": "stdout",
     "output_type": "stream",
     "text": [
      "Requirement already satisfied: autoflow-ai==0.0.1.dev20 in /Users/liangzhiyuan/Projects/autoflow.ai/core/.venv/lib/python3.12/site-packages (0.0.1.dev20)\n",
      "Requirement already satisfied: deepdiff>=8.2.0 in /Users/liangzhiyuan/Projects/autoflow.ai/core/.venv/lib/python3.12/site-packages (from autoflow-ai==0.0.1.dev20) (8.2.0)\n",
      "Requirement already satisfied: litellm>=1.61.11 in /Users/liangzhiyuan/Projects/autoflow.ai/core/.venv/lib/python3.12/site-packages (from autoflow-ai==0.0.1.dev20) (1.61.11)\n",
      "Requirement already satisfied: llama-index-core>=0.12.23.post2 in /Users/liangzhiyuan/Projects/autoflow.ai/core/.venv/lib/python3.12/site-packages (from autoflow-ai==0.0.1.dev20) (0.12.23.post2)\n",
      "Requirement already satisfied: llama-index-llms-litellm>=0.3.0 in /Users/liangzhiyuan/Projects/autoflow.ai/core/.venv/lib/python3.12/site-packages (from autoflow-ai==0.0.1.dev20) (0.3.0)\n",
      "Requirement already satisfied: pymysql>=1.1.1 in /Users/liangzhiyuan/Projects/autoflow.ai/core/.venv/lib/python3.12/site-packages (from autoflow-ai==0.0.1.dev20) (1.1.1)\n",
      "Requirement already satisfied: sqlmodel==0.0.22 in /Users/liangzhiyuan/Projects/autoflow.ai/core/.venv/lib/python3.12/site-packages (from autoflow-ai==0.0.1.dev20) (0.0.22)\n",
      "Requirement already satisfied: tidb-vector>=0.0.14 in /Users/liangzhiyuan/Projects/autoflow.ai/core/.venv/lib/python3.12/site-packages (from autoflow-ai==0.0.1.dev20) (0.0.14)\n",
      "Requirement already satisfied: SQLAlchemy<2.1.0,>=2.0.14 in /Users/liangzhiyuan/Projects/autoflow.ai/core/.venv/lib/python3.12/site-packages (from sqlmodel==0.0.22->autoflow-ai==0.0.1.dev20) (2.0.38)\n",
      "Requirement already satisfied: pydantic<3.0.0,>=1.10.13 in /Users/liangzhiyuan/Projects/autoflow.ai/core/.venv/lib/python3.12/site-packages (from sqlmodel==0.0.22->autoflow-ai==0.0.1.dev20) (2.10.6)\n",
      "Requirement already satisfied: orderly-set<6,>=5.3.0 in /Users/liangzhiyuan/Projects/autoflow.ai/core/.venv/lib/python3.12/site-packages (from deepdiff>=8.2.0->autoflow-ai==0.0.1.dev20) (5.3.0)\n",
      "Requirement already satisfied: aiohttp in /Users/liangzhiyuan/Projects/autoflow.ai/core/.venv/lib/python3.12/site-packages (from litellm>=1.61.11->autoflow-ai==0.0.1.dev20) (3.11.12)\n",
      "Requirement already satisfied: click in /Users/liangzhiyuan/Projects/autoflow.ai/core/.venv/lib/python3.12/site-packages (from litellm>=1.61.11->autoflow-ai==0.0.1.dev20) (8.1.8)\n",
      "Requirement already satisfied: httpx>=0.23.0 in /Users/liangzhiyuan/Projects/autoflow.ai/core/.venv/lib/python3.12/site-packages (from litellm>=1.61.11->autoflow-ai==0.0.1.dev20) (0.28.1)\n",
      "Requirement already satisfied: importlib-metadata>=6.8.0 in /Users/liangzhiyuan/Projects/autoflow.ai/core/.venv/lib/python3.12/site-packages (from litellm>=1.61.11->autoflow-ai==0.0.1.dev20) (8.6.1)\n",
      "Requirement already satisfied: jinja2<4.0.0,>=3.1.2 in /Users/liangzhiyuan/Projects/autoflow.ai/core/.venv/lib/python3.12/site-packages (from litellm>=1.61.11->autoflow-ai==0.0.1.dev20) (3.1.5)\n",
      "Requirement already satisfied: jsonschema<5.0.0,>=4.22.0 in /Users/liangzhiyuan/Projects/autoflow.ai/core/.venv/lib/python3.12/site-packages (from litellm>=1.61.11->autoflow-ai==0.0.1.dev20) (4.23.0)\n",
      "Requirement already satisfied: openai>=1.61.0 in /Users/liangzhiyuan/Projects/autoflow.ai/core/.venv/lib/python3.12/site-packages (from litellm>=1.61.11->autoflow-ai==0.0.1.dev20) (1.63.2)\n",
      "Requirement already satisfied: python-dotenv>=0.2.0 in /Users/liangzhiyuan/Projects/autoflow.ai/core/.venv/lib/python3.12/site-packages (from litellm>=1.61.11->autoflow-ai==0.0.1.dev20) (1.0.1)\n",
      "Requirement already satisfied: tiktoken>=0.7.0 in /Users/liangzhiyuan/Projects/autoflow.ai/core/.venv/lib/python3.12/site-packages (from litellm>=1.61.11->autoflow-ai==0.0.1.dev20) (0.9.0)\n",
      "Requirement already satisfied: tokenizers in /Users/liangzhiyuan/Projects/autoflow.ai/core/.venv/lib/python3.12/site-packages (from litellm>=1.61.11->autoflow-ai==0.0.1.dev20) (0.21.0)\n",
      "Requirement already satisfied: PyYAML>=6.0.1 in /Users/liangzhiyuan/Projects/autoflow.ai/core/.venv/lib/python3.12/site-packages (from llama-index-core>=0.12.23.post2->autoflow-ai==0.0.1.dev20) (6.0.2)\n",
      "Requirement already satisfied: dataclasses-json in /Users/liangzhiyuan/Projects/autoflow.ai/core/.venv/lib/python3.12/site-packages (from llama-index-core>=0.12.23.post2->autoflow-ai==0.0.1.dev20) (0.6.7)\n",
      "Requirement already satisfied: deprecated>=1.2.9.3 in /Users/liangzhiyuan/Projects/autoflow.ai/core/.venv/lib/python3.12/site-packages (from llama-index-core>=0.12.23.post2->autoflow-ai==0.0.1.dev20) (1.2.18)\n",
      "Requirement already satisfied: dirtyjson<2.0.0,>=1.0.8 in /Users/liangzhiyuan/Projects/autoflow.ai/core/.venv/lib/python3.12/site-packages (from llama-index-core>=0.12.23.post2->autoflow-ai==0.0.1.dev20) (1.0.8)\n",
      "Requirement already satisfied: filetype<2.0.0,>=1.2.0 in /Users/liangzhiyuan/Projects/autoflow.ai/core/.venv/lib/python3.12/site-packages (from llama-index-core>=0.12.23.post2->autoflow-ai==0.0.1.dev20) (1.2.0)\n",
      "Requirement already satisfied: fsspec>=2023.5.0 in /Users/liangzhiyuan/Projects/autoflow.ai/core/.venv/lib/python3.12/site-packages (from llama-index-core>=0.12.23.post2->autoflow-ai==0.0.1.dev20) (2024.6.1)\n",
      "Requirement already satisfied: nest-asyncio<2.0.0,>=1.5.8 in /Users/liangzhiyuan/Projects/autoflow.ai/core/.venv/lib/python3.12/site-packages (from llama-index-core>=0.12.23.post2->autoflow-ai==0.0.1.dev20) (1.6.0)\n",
      "Requirement already satisfied: networkx>=3.0 in /Users/liangzhiyuan/Projects/autoflow.ai/core/.venv/lib/python3.12/site-packages (from llama-index-core>=0.12.23.post2->autoflow-ai==0.0.1.dev20) (3.4.2)\n",
      "Requirement already satisfied: nltk>3.8.1 in /Users/liangzhiyuan/Projects/autoflow.ai/core/.venv/lib/python3.12/site-packages (from llama-index-core>=0.12.23.post2->autoflow-ai==0.0.1.dev20) (3.9.1)\n",
      "Requirement already satisfied: numpy in /Users/liangzhiyuan/Projects/autoflow.ai/core/.venv/lib/python3.12/site-packages (from llama-index-core>=0.12.23.post2->autoflow-ai==0.0.1.dev20) (1.26.4)\n",
      "Requirement already satisfied: pillow>=9.0.0 in /Users/liangzhiyuan/Projects/autoflow.ai/core/.venv/lib/python3.12/site-packages (from llama-index-core>=0.12.23.post2->autoflow-ai==0.0.1.dev20) (11.1.0)\n",
      "Requirement already satisfied: requests>=2.31.0 in /Users/liangzhiyuan/Projects/autoflow.ai/core/.venv/lib/python3.12/site-packages (from llama-index-core>=0.12.23.post2->autoflow-ai==0.0.1.dev20) (2.32.3)\n",
      "Requirement already satisfied: tenacity!=8.4.0,<10.0.0,>=8.2.0 in /Users/liangzhiyuan/Projects/autoflow.ai/core/.venv/lib/python3.12/site-packages (from llama-index-core>=0.12.23.post2->autoflow-ai==0.0.1.dev20) (9.0.0)\n",
      "Requirement already satisfied: tqdm<5.0.0,>=4.66.1 in /Users/liangzhiyuan/Projects/autoflow.ai/core/.venv/lib/python3.12/site-packages (from llama-index-core>=0.12.23.post2->autoflow-ai==0.0.1.dev20) (4.67.1)\n",
      "Requirement already satisfied: typing-extensions>=4.5.0 in /Users/liangzhiyuan/Projects/autoflow.ai/core/.venv/lib/python3.12/site-packages (from llama-index-core>=0.12.23.post2->autoflow-ai==0.0.1.dev20) (4.12.2)\n",
      "Requirement already satisfied: typing-inspect>=0.8.0 in /Users/liangzhiyuan/Projects/autoflow.ai/core/.venv/lib/python3.12/site-packages (from llama-index-core>=0.12.23.post2->autoflow-ai==0.0.1.dev20) (0.9.0)\n",
      "Requirement already satisfied: wrapt in /Users/liangzhiyuan/Projects/autoflow.ai/core/.venv/lib/python3.12/site-packages (from llama-index-core>=0.12.23.post2->autoflow-ai==0.0.1.dev20) (1.17.2)\n",
      "Requirement already satisfied: aiohappyeyeballs>=2.3.0 in /Users/liangzhiyuan/Projects/autoflow.ai/core/.venv/lib/python3.12/site-packages (from aiohttp->litellm>=1.61.11->autoflow-ai==0.0.1.dev20) (2.4.6)\n",
      "Requirement already satisfied: aiosignal>=1.1.2 in /Users/liangzhiyuan/Projects/autoflow.ai/core/.venv/lib/python3.12/site-packages (from aiohttp->litellm>=1.61.11->autoflow-ai==0.0.1.dev20) (1.3.2)\n",
      "Requirement already satisfied: attrs>=17.3.0 in /Users/liangzhiyuan/Projects/autoflow.ai/core/.venv/lib/python3.12/site-packages (from aiohttp->litellm>=1.61.11->autoflow-ai==0.0.1.dev20) (25.1.0)\n",
      "Requirement already satisfied: frozenlist>=1.1.1 in /Users/liangzhiyuan/Projects/autoflow.ai/core/.venv/lib/python3.12/site-packages (from aiohttp->litellm>=1.61.11->autoflow-ai==0.0.1.dev20) (1.5.0)\n",
      "Requirement already satisfied: multidict<7.0,>=4.5 in /Users/liangzhiyuan/Projects/autoflow.ai/core/.venv/lib/python3.12/site-packages (from aiohttp->litellm>=1.61.11->autoflow-ai==0.0.1.dev20) (6.1.0)\n",
      "Requirement already satisfied: propcache>=0.2.0 in /Users/liangzhiyuan/Projects/autoflow.ai/core/.venv/lib/python3.12/site-packages (from aiohttp->litellm>=1.61.11->autoflow-ai==0.0.1.dev20) (0.3.0)\n",
      "Requirement already satisfied: yarl<2.0,>=1.17.0 in /Users/liangzhiyuan/Projects/autoflow.ai/core/.venv/lib/python3.12/site-packages (from aiohttp->litellm>=1.61.11->autoflow-ai==0.0.1.dev20) (1.18.3)\n",
      "Requirement already satisfied: anyio in /Users/liangzhiyuan/Projects/autoflow.ai/core/.venv/lib/python3.12/site-packages (from httpx>=0.23.0->litellm>=1.61.11->autoflow-ai==0.0.1.dev20) (4.8.0)\n",
      "Requirement already satisfied: certifi in /Users/liangzhiyuan/Projects/autoflow.ai/core/.venv/lib/python3.12/site-packages (from httpx>=0.23.0->litellm>=1.61.11->autoflow-ai==0.0.1.dev20) (2025.1.31)\n",
      "Requirement already satisfied: httpcore==1.* in /Users/liangzhiyuan/Projects/autoflow.ai/core/.venv/lib/python3.12/site-packages (from httpx>=0.23.0->litellm>=1.61.11->autoflow-ai==0.0.1.dev20) (1.0.7)\n",
      "Requirement already satisfied: idna in /Users/liangzhiyuan/Projects/autoflow.ai/core/.venv/lib/python3.12/site-packages (from httpx>=0.23.0->litellm>=1.61.11->autoflow-ai==0.0.1.dev20) (3.10)\n",
      "Requirement already satisfied: h11<0.15,>=0.13 in /Users/liangzhiyuan/Projects/autoflow.ai/core/.venv/lib/python3.12/site-packages (from httpcore==1.*->httpx>=0.23.0->litellm>=1.61.11->autoflow-ai==0.0.1.dev20) (0.14.0)\n",
      "Requirement already satisfied: zipp>=3.20 in /Users/liangzhiyuan/Projects/autoflow.ai/core/.venv/lib/python3.12/site-packages (from importlib-metadata>=6.8.0->litellm>=1.61.11->autoflow-ai==0.0.1.dev20) (3.21.0)\n",
      "Requirement already satisfied: MarkupSafe>=2.0 in /Users/liangzhiyuan/Projects/autoflow.ai/core/.venv/lib/python3.12/site-packages (from jinja2<4.0.0,>=3.1.2->litellm>=1.61.11->autoflow-ai==0.0.1.dev20) (3.0.2)\n",
      "Requirement already satisfied: jsonschema-specifications>=2023.03.6 in /Users/liangzhiyuan/Projects/autoflow.ai/core/.venv/lib/python3.12/site-packages (from jsonschema<5.0.0,>=4.22.0->litellm>=1.61.11->autoflow-ai==0.0.1.dev20) (2024.10.1)\n",
      "Requirement already satisfied: referencing>=0.28.4 in /Users/liangzhiyuan/Projects/autoflow.ai/core/.venv/lib/python3.12/site-packages (from jsonschema<5.0.0,>=4.22.0->litellm>=1.61.11->autoflow-ai==0.0.1.dev20) (0.36.2)\n",
      "Requirement already satisfied: rpds-py>=0.7.1 in /Users/liangzhiyuan/Projects/autoflow.ai/core/.venv/lib/python3.12/site-packages (from jsonschema<5.0.0,>=4.22.0->litellm>=1.61.11->autoflow-ai==0.0.1.dev20) (0.23.0)\n",
      "Requirement already satisfied: joblib in /Users/liangzhiyuan/Projects/autoflow.ai/core/.venv/lib/python3.12/site-packages (from nltk>3.8.1->llama-index-core>=0.12.23.post2->autoflow-ai==0.0.1.dev20) (1.4.2)\n",
      "Requirement already satisfied: regex>=2021.8.3 in /Users/liangzhiyuan/Projects/autoflow.ai/core/.venv/lib/python3.12/site-packages (from nltk>3.8.1->llama-index-core>=0.12.23.post2->autoflow-ai==0.0.1.dev20) (2024.11.6)\n",
      "Requirement already satisfied: distro<2,>=1.7.0 in /Users/liangzhiyuan/Projects/autoflow.ai/core/.venv/lib/python3.12/site-packages (from openai>=1.61.0->litellm>=1.61.11->autoflow-ai==0.0.1.dev20) (1.9.0)\n",
      "Requirement already satisfied: jiter<1,>=0.4.0 in /Users/liangzhiyuan/Projects/autoflow.ai/core/.venv/lib/python3.12/site-packages (from openai>=1.61.0->litellm>=1.61.11->autoflow-ai==0.0.1.dev20) (0.8.2)\n",
      "Requirement already satisfied: sniffio in /Users/liangzhiyuan/Projects/autoflow.ai/core/.venv/lib/python3.12/site-packages (from openai>=1.61.0->litellm>=1.61.11->autoflow-ai==0.0.1.dev20) (1.3.1)\n",
      "Requirement already satisfied: annotated-types>=0.6.0 in /Users/liangzhiyuan/Projects/autoflow.ai/core/.venv/lib/python3.12/site-packages (from pydantic<3.0.0,>=1.10.13->sqlmodel==0.0.22->autoflow-ai==0.0.1.dev20) (0.7.0)\n",
      "Requirement already satisfied: pydantic-core==2.27.2 in /Users/liangzhiyuan/Projects/autoflow.ai/core/.venv/lib/python3.12/site-packages (from pydantic<3.0.0,>=1.10.13->sqlmodel==0.0.22->autoflow-ai==0.0.1.dev20) (2.27.2)\n",
      "Requirement already satisfied: charset-normalizer<4,>=2 in /Users/liangzhiyuan/Projects/autoflow.ai/core/.venv/lib/python3.12/site-packages (from requests>=2.31.0->llama-index-core>=0.12.23.post2->autoflow-ai==0.0.1.dev20) (3.4.1)\n",
      "Requirement already satisfied: urllib3<3,>=1.21.1 in /Users/liangzhiyuan/Projects/autoflow.ai/core/.venv/lib/python3.12/site-packages (from requests>=2.31.0->llama-index-core>=0.12.23.post2->autoflow-ai==0.0.1.dev20) (2.3.0)\n",
      "Requirement already satisfied: greenlet!=0.4.17 in /Users/liangzhiyuan/Projects/autoflow.ai/core/.venv/lib/python3.12/site-packages (from SQLAlchemy[asyncio]>=1.4.49->llama-index-core>=0.12.23.post2->autoflow-ai==0.0.1.dev20) (3.1.1)\n",
      "Requirement already satisfied: mypy-extensions>=0.3.0 in /Users/liangzhiyuan/Projects/autoflow.ai/core/.venv/lib/python3.12/site-packages (from typing-inspect>=0.8.0->llama-index-core>=0.12.23.post2->autoflow-ai==0.0.1.dev20) (1.0.0)\n",
      "Requirement already satisfied: marshmallow<4.0.0,>=3.18.0 in /Users/liangzhiyuan/Projects/autoflow.ai/core/.venv/lib/python3.12/site-packages (from dataclasses-json->llama-index-core>=0.12.23.post2->autoflow-ai==0.0.1.dev20) (3.26.1)\n",
      "Requirement already satisfied: huggingface-hub<1.0,>=0.16.4 in /Users/liangzhiyuan/Projects/autoflow.ai/core/.venv/lib/python3.12/site-packages (from tokenizers->litellm>=1.61.11->autoflow-ai==0.0.1.dev20) (0.29.1)\n",
      "Requirement already satisfied: filelock in /Users/liangzhiyuan/Projects/autoflow.ai/core/.venv/lib/python3.12/site-packages (from huggingface-hub<1.0,>=0.16.4->tokenizers->litellm>=1.61.11->autoflow-ai==0.0.1.dev20) (3.17.0)\n",
      "Requirement already satisfied: packaging>=20.9 in /Users/liangzhiyuan/Projects/autoflow.ai/core/.venv/lib/python3.12/site-packages (from huggingface-hub<1.0,>=0.16.4->tokenizers->litellm>=1.61.11->autoflow-ai==0.0.1.dev20) (24.2)\n",
      "Note: you may need to restart the kernel to use updated packages.\n"
     ]
    }
   ],
   "source": [
    "%pip install autoflow-ai==0.0.1.dev20"
   ]
  },
  {
   "cell_type": "markdown",
   "id": "279c55c04195fad0",
   "metadata": {},
   "source": [
    "## Configuration\n",
    "\n",
    "- Go [tidbcloud.com](https://tidbcloud.com/) or using [tiup playground](https://docs.pingcap.com/tidb/stable/tiup-playground/) to create a free TiDB database cluster.\n",
    "- Go [OpenAI platform](https://platform.openai.com/api-keys) to create your API key.\n",
    "\n",
    "Configuration can be provided through environment variables, or using `.env`:"
   ]
  },
  {
   "cell_type": "code",
   "execution_count": null,
   "id": "a4d9eecc110097aa",
   "metadata": {},
   "outputs": [],
   "source": [
    "# Create .env file, then edit your .env, for example:\n",
    "# $ cat .env\n",
    "# TIDB_HOST=localhost\n",
    "# TIDB_PORT=4000\n",
    "# TIDB_USERNAME=root\n",
    "# TIDB_PASSWORD=\n",
    "# OPENAI_API_KEY='your_openai_api_key'\n",
    "#\n",
    "# Or you can use DATABASE_URL to connect to TiDB, for example:\n",
    "# $ cat .env\n",
    "# DATABASE_URL=mysql+pymysql://root:@localhost:4000/test\n",
    "#\n",
    "# If you are using TiDB Serverless, the DATABASE_URL should be like:\n",
    "# DATABASE_URL=mysql+pymysql://<USERNAME:<PASSWORD>@<HOST>:4000/test&ssl_verify_cert=true&ssl_verify_identity=true\n",
    "%cp .env.example .env"
   ]
  },
  {
   "cell_type": "code",
   "execution_count": 2,
   "id": "9c75d924557c8de7",
   "metadata": {},
   "outputs": [
    {
     "data": {
      "text/plain": [
       "True"
      ]
     },
     "execution_count": 2,
     "metadata": {},
     "output_type": "execute_result"
    }
   ],
   "source": [
    "import dotenv\n",
    "\n",
    "dotenv.load_dotenv()"
   ]
  },
  {
   "cell_type": "markdown",
   "id": "22bfc51ebffcd51a",
   "metadata": {},
   "source": [
    "## Quickstart"
   ]
  },
  {
   "cell_type": "markdown",
   "id": "dc2df9bbafbf7080",
   "metadata": {},
   "source": [
    "### Connect to TiDB"
   ]
  },
  {
   "cell_type": "code",
   "execution_count": 3,
   "id": "4995a54f311c4b1c",
   "metadata": {
    "ExecuteTime": {
     "end_time": "2025-03-10T09:07:46.948040Z",
     "start_time": "2025-03-10T09:07:46.940850Z"
    }
   },
   "outputs": [],
   "source": [
    "import os\n",
    "from autoflow.storage.tidb import TiDBClient\n",
    "\n",
    "db = TiDBClient.connect(\n",
    "    host=os.getenv(\"TIDB_HOST\"),\n",
    "    port=int(os.getenv(\"TIDB_PORT\")),\n",
    "    username=os.getenv(\"TIDB_USERNAME\"),\n",
    "    password=os.getenv(\"TIDB_PASSWORD\"),\n",
    "    database=os.getenv(\"TIDB_DATABASE\"),\n",
    ")\n",
    "\n",
    "# If you are using DATABASE_URL\n",
    "# db = TiDBClient.connect(database_url=os.getenv(\"DATABASE_URL\"))"
   ]
  },
  {
   "cell_type": "markdown",
   "id": "efe66290f9e9df4b",
   "metadata": {},
   "source": [
    "### Create table"
   ]
  },
  {
   "cell_type": "code",
   "execution_count": 4,
   "id": "bdddb9f0a005b74d",
   "metadata": {
    "ExecuteTime": {
     "end_time": "2025-03-10T09:08:00.446752Z",
     "start_time": "2025-03-10T09:08:00.434551Z"
    }
   },
   "outputs": [],
   "source": [
    "from typing import Optional, Any\n",
    "from autoflow.storage.tidb import TiDBModel, Field\n",
    "from autoflow.llms.embeddings import EmbeddingFunction\n",
    "\n",
    "# Define your embedding model.\n",
    "text_embed = EmbeddingFunction(\"openai/text-embedding-3-small\")\n",
    "\n",
    "\n",
    "class Chunk(TiDBModel, table=True):\n",
    "    __tablename__ = \"chunks\"\n",
    "    __table_args__ = {\"extend_existing\": True}\n",
    "\n",
    "    id: int = Field(primary_key=True)\n",
    "    text: str = Field()\n",
    "    text_vec: Optional[Any] = text_embed.VectorField(\n",
    "        source_field=\"text\"\n",
    "    )  # 👈 Define the vector field.\n",
    "    user_id: int = Field()\n",
    "\n",
    "\n",
    "table = db.create_table(schema=Chunk)"
   ]
  },
  {
   "cell_type": "markdown",
   "id": "3eab5d6eaaaaa868",
   "metadata": {},
   "source": [
    "### Insert Data\n",
    "\n",
    "🔢 Auto embedding: when you insert new data, the SDK automatically embeds the corpus for you."
   ]
  },
  {
   "cell_type": "code",
   "execution_count": 5,
   "id": "baec9a5ae06231be",
   "metadata": {
    "ExecuteTime": {
     "end_time": "2025-03-10T09:08:05.150129Z",
     "start_time": "2025-03-10T09:08:05.116162Z"
    }
   },
   "outputs": [
    {
     "data": {
      "text/plain": [
       "4"
      ]
     },
     "execution_count": 5,
     "metadata": {},
     "output_type": "execute_result"
    }
   ],
   "source": [
    "table.insert(\n",
    "    Chunk(text=\"The quick brown fox jumps over the lazy dog\", user_id=1),\n",
    ")\n",
    "table.bulk_insert(\n",
    "    [\n",
    "        Chunk(text=\"A quick brown dog runs in the park\", user_id=2),\n",
    "        Chunk(text=\"The lazy fox sleeps under the tree\", user_id=2),\n",
    "        Chunk(text=\"A dog and a fox play in the park\", user_id=3),\n",
    "    ]\n",
    ")\n",
    "table.rows()"
   ]
  },
  {
   "cell_type": "markdown",
   "id": "c985564294102cd3",
   "metadata": {},
   "source": [
    "### Vector Search"
   ]
  },
  {
   "cell_type": "code",
   "execution_count": 6,
   "id": "3c4313022f06bd3e",
   "metadata": {
    "ExecuteTime": {
     "end_time": "2025-03-10T09:08:07.911227Z",
     "start_time": "2025-03-10T09:08:07.893758Z"
    }
   },
   "outputs": [
    {
     "data": {
      "text/plain": [
       "[('A quick brown dog runs in the park', 0.665493189763966),\n",
       " ('The lazy fox sleeps under the tree', 0.554631888866523)]"
      ]
     },
     "execution_count": 6,
     "metadata": {},
     "output_type": "execute_result"
    }
   ],
   "source": [
    "chunks = (\n",
    "    table.search(\n",
    "        \"A quick fox in the park\"\n",
    "    )  # 👈 The query will be embedding automatically.\n",
    "    .filter({\"user_id\": 2})\n",
    "    .limit(2)\n",
    "    .to_pydantic()\n",
    ")\n",
    "[(c.text, c.score) for c in chunks]"
   ]
  },
  {
   "cell_type": "markdown",
   "id": "6d0f67ab",
   "metadata": {},
   "source": [
    "### Advanced Filtering\n",
    "\n",
    "TiDB Client supports various filter operators for flexible querying:\n",
    "\n",
    "| Operator | Description | Example |\n",
    "|----------|-------------|---------|\n",
    "| `$eq` | Equal to | `{\"field\": {\"$eq\": \"hello\"}}` |\n",
    "| `$gt` | Greater than | `{\"field\": {\"$gt\": 1}}` |\n",
    "| `$gte` | Greater than or equal | `{\"field\": {\"$gte\": 1}}` |\n",
    "| `$lt` | Less than | `{\"field\": {\"$lt\": 1}}` |\n",
    "| `$lte` | Less than or equal | `{\"field\": {\"$lte\": 1}}` |\n",
    "| `$in` | In array | `{\"field\": {\"$in\": [1, 2, 3]}}` |\n",
    "| `$nin` | Not in array | `{\"field\": {\"$nin\": [1, 2, 3]}}` |\n",
    "| `$and` | Logical AND | `{\"$and\": [{\"field1\": 1}, {\"field2\": 2}]}` |\n",
    "| `$or` | Logical OR | `{\"$or\": [{\"field1\": 1}, {\"field2\": 2}]}` |\n"
   ]
  },
  {
   "cell_type": "code",
   "execution_count": 7,
   "id": "ace02b45",
   "metadata": {
    "ExecuteTime": {
     "end_time": "2025-03-10T09:08:12.012911Z",
     "start_time": "2025-03-10T09:08:12.004958Z"
    }
   },
   "outputs": [
    {
     "data": {
      "text/plain": [
       "[(1, 'The quick brown fox jumps over the lazy dog', 1)]"
      ]
     },
     "execution_count": 7,
     "metadata": {},
     "output_type": "execute_result"
    }
   ],
   "source": [
    "chunks = table.query({\"user_id\": 1})\n",
    "[(c.id, c.text, c.user_id) for c in chunks]"
   ]
  },
  {
   "cell_type": "markdown",
   "id": "824bdb8530bf9f23",
   "metadata": {},
   "source": [
    "### Multiple Tables Join"
   ]
  },
  {
   "cell_type": "code",
   "execution_count": 8,
   "id": "dac4ea8f9052f393",
   "metadata": {},
   "outputs": [],
   "source": [
    "# Create a table to stored user data:\n",
    "class User(TiDBModel, table=True):\n",
    "    __tablename__ = \"users\"\n",
    "    __table_args__ = {\"extend_existing\": True}\n",
    "\n",
    "    id: int = Field(primary_key=True)\n",
    "    name: str = Field(max_length=20)\n",
    "\n",
    "\n",
    "user_table = db.create_table(schema=User)"
   ]
  },
  {
   "cell_type": "code",
   "execution_count": 12,
   "id": "11a91f7f489bf78f",
   "metadata": {},
   "outputs": [
    {
     "data": {
      "text/plain": [
       "User(name='Alice', id=1)"
      ]
     },
     "execution_count": 12,
     "metadata": {},
     "output_type": "execute_result"
    }
   ],
   "source": [
    "user_table.insert(User(id=1, name=\"Alice\"))"
   ]
  },
  {
   "cell_type": "code",
   "execution_count": 9,
   "id": "b2ec4ea1bd64108c",
   "metadata": {},
   "outputs": [
    {
     "data": {
      "text/plain": [
       "[(1, 'The quick brown fox jumps over the lazy dog', 1)]"
      ]
     },
     "execution_count": 9,
     "metadata": {},
     "output_type": "execute_result"
    }
   ],
   "source": [
    "from sqlmodel import select, Session\n",
    "\n",
    "db_engine = db.db_engine\n",
    "with Session(db_engine) as db_session:\n",
    "    query = (\n",
    "        select(Chunk).join(User, Chunk.user_id == User.id).where(User.name == \"Alice\")\n",
    "    )\n",
    "    chunks = db_session.exec(query).all()\n",
    "\n",
    "[(c.id, c.text, c.user_id) for c in chunks]"
   ]
  },
  {
   "cell_type": "markdown",
   "id": "414e362b",
   "metadata": {},
   "source": [
    "### Delete Data"
   ]
  },
  {
   "cell_type": "code",
   "execution_count": 10,
   "id": "c302f994",
   "metadata": {},
   "outputs": [
    {
     "data": {
      "text/plain": [
       "2"
      ]
     },
     "execution_count": 10,
     "metadata": {},
     "output_type": "execute_result"
    }
   ],
   "source": [
    "table.delete(filters={\"user_id\": 2})\n",
    "table.rows()"
   ]
  },
  {
   "cell_type": "markdown",
   "id": "f8dd3bc68287ade1",
   "metadata": {},
   "source": [
    "### Execute raw SQL"
   ]
  },
  {
   "cell_type": "code",
   "execution_count": 11,
   "id": "124cc1a2463c474d",
   "metadata": {
    "jupyter": {
     "is_executing": true
    }
   },
   "outputs": [
    {
     "data": {
      "text/plain": [
       "{'success': True,\n",
       " 'result': [(1, 'The quick brown fox jumps over the lazy dog', 1),\n",
       "  (4, 'A dog and a fox play in the park', 3)],\n",
       " 'error': None}"
      ]
     },
     "execution_count": 11,
     "metadata": {},
     "output_type": "execute_result"
    }
   ],
   "source": [
    "db.execute(\"SELECT id, text, user_id FROM chunks\")"
   ]
  },
  {
   "cell_type": "markdown",
   "id": "af9c3428",
   "metadata": {},
   "source": [
    "### Truncate table\n",
    "\n",
    "Clear all data in the table:"
   ]
  },
  {
   "cell_type": "code",
   "execution_count": 12,
   "id": "cceb0bf0",
   "metadata": {
    "ExecuteTime": {
     "end_time": "2025-03-10T09:08:15.840977Z",
     "start_time": "2025-03-10T09:08:15.780367Z"
    }
   },
   "outputs": [
    {
     "data": {
      "text/plain": [
       "0"
      ]
     },
     "execution_count": 12,
     "metadata": {},
     "output_type": "execute_result"
    }
   ],
   "source": [
    "table.truncate()\n",
    "table.rows()"
   ]
  }
 ],
 "metadata": {
  "kernelspec": {
   "display_name": ".venv",
   "language": "python",
   "name": "python3"
  },
  "language_info": {
   "codemirror_mode": {
    "name": "ipython",
    "version": 3
   },
   "file_extension": ".py",
   "mimetype": "text/x-python",
   "name": "python",
   "nbconvert_exporter": "python",
   "pygments_lexer": "ipython3",
   "version": "3.12.4"
  }
 },
 "nbformat": 4,
 "nbformat_minor": 5
}
