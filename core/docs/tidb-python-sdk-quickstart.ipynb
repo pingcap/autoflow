{
 "cells": [
  {
   "cell_type": "markdown",
   "id": "b90e936b724dae40",
   "metadata": {},
   "source": [
    "# TiDB Python SDK V2\n",
    "\n",
    "A powerful Python SDK for vector storage and retrieval operations with TiDB.\n",
    "\n",
    "- 🔄 Automatic embedding generation\n",
    "- 🔍 Vector similarity search\n",
    "- 🎯 Advanced filtering capabilities\n",
    "- 📦 Bulk operations support"
   ]
  },
  {
   "cell_type": "markdown",
   "id": "d774f9944686ca99",
   "metadata": {},
   "source": [
    "## Installation"
   ]
  },
  {
   "cell_type": "code",
   "execution_count": null,
   "id": "b81aa3ab",
   "metadata": {
    "jupyter": {
     "is_executing": true
    }
   },
   "outputs": [],
   "source": [
    "%pip install autoflow-ai==0.0.1.dev25"
   ]
  },
  {
   "cell_type": "markdown",
   "id": "279c55c04195fad0",
   "metadata": {},
   "source": [
    "## Configuration\n",
    "\n",
    "- Go [tidbcloud.com](https://tidbcloud.com/) or using [tiup playground](https://docs.pingcap.com/tidb/stable/tiup-playground/) to create a free TiDB database cluster.\n",
    "- Go [OpenAI platform](https://platform.openai.com/api-keys) to create your API key.\n",
    "\n",
    "Configuration can be provided through environment variables, or using `.env`:"
   ]
  },
  {
   "cell_type": "code",
   "execution_count": null,
   "id": "a4d9eecc110097aa",
   "metadata": {},
   "outputs": [],
   "source": [
    "# Create .env file, then edit your .env, for example:\n",
    "# $ cat .env\n",
    "# TIDB_HOST=localhost\n",
    "# TIDB_PORT=4000\n",
    "# TIDB_USERNAME=root\n",
    "# TIDB_PASSWORD=\n",
    "# OPENAI_API_KEY='your_openai_api_key'\n",
    "#\n",
    "# Or you can use DATABASE_URL to connect to TiDB, for example:\n",
    "# $ cat .env\n",
    "# DATABASE_URL=mysql+pymysql://root:@localhost:4000/test\n",
    "#\n",
    "# If you are using TiDB Serverless, the DATABASE_URL should be like:\n",
    "# DATABASE_URL=mysql+pymysql://<USERNAME:<PASSWORD>@<HOST>:4000/test&ssl_verify_cert=true&ssl_verify_identity=true\n",
    "%cp .env.example .env"
   ]
  },
  {
   "cell_type": "code",
   "execution_count": 2,
   "id": "9c75d924557c8de7",
   "metadata": {},
   "outputs": [
    {
     "data": {
      "text/plain": [
       "True"
      ]
     },
     "execution_count": 2,
     "metadata": {},
     "output_type": "execute_result"
    }
   ],
   "source": [
    "import dotenv\n",
    "\n",
    "dotenv.load_dotenv()"
   ]
  },
  {
   "cell_type": "markdown",
   "id": "22bfc51ebffcd51a",
   "metadata": {},
   "source": [
    "## Quickstart"
   ]
  },
  {
   "cell_type": "markdown",
   "id": "dc2df9bbafbf7080",
   "metadata": {},
   "source": [
    "### Connect to TiDB"
   ]
  },
  {
   "cell_type": "code",
   "execution_count": 3,
   "id": "4995a54f311c4b1c",
   "metadata": {
    "ExecuteTime": {
     "end_time": "2025-03-10T09:07:46.948040Z",
     "start_time": "2025-03-10T09:07:46.940850Z"
    }
   },
   "outputs": [],
   "source": [
    "import os\n",
    "from autoflow.storage.tidb import TiDBClient\n",
    "\n",
    "db = TiDBClient.connect(\n",
    "    host=os.getenv(\"TIDB_HOST\"),\n",
    "    port=int(os.getenv(\"TIDB_PORT\")),\n",
    "    username=os.getenv(\"TIDB_USERNAME\"),\n",
    "    password=os.getenv(\"TIDB_PASSWORD\"),\n",
    "    database=os.getenv(\"TIDB_DATABASE\"),\n",
    ")\n",
    "\n",
    "# If you are using DATABASE_URL\n",
    "# db = TiDBClient.connect(database_url=os.getenv(\"DATABASE_URL\"))"
   ]
  },
  {
   "cell_type": "markdown",
   "id": "efe66290f9e9df4b",
   "metadata": {},
   "source": [
    "### Create table"
   ]
  },
  {
   "cell_type": "code",
   "execution_count": 4,
   "id": "bdddb9f0a005b74d",
   "metadata": {
    "ExecuteTime": {
     "end_time": "2025-03-10T09:08:00.446752Z",
     "start_time": "2025-03-10T09:08:00.434551Z"
    }
   },
   "outputs": [],
   "source": [
    "from typing import Optional, Any\n",
    "from autoflow.storage.tidb import TiDBModel, Field\n",
    "from autoflow.llms.embeddings import EmbeddingFunction\n",
    "\n",
    "# Define your embedding model.\n",
    "text_embed = EmbeddingFunction(\"openai/text-embedding-3-small\")\n",
    "\n",
    "\n",
    "class Chunk(TiDBModel, table=True):\n",
    "    __tablename__ = \"chunks\"\n",
    "    __table_args__ = {\"extend_existing\": True}\n",
    "\n",
    "    id: int = Field(primary_key=True)\n",
    "    text: str = Field()\n",
    "    text_vec: Optional[Any] = text_embed.VectorField(\n",
    "        source_field=\"text\"\n",
    "    )  # 👈 Define the vector field.\n",
    "    user_id: int = Field()\n",
    "\n",
    "\n",
    "table = db.create_table(schema=Chunk)"
   ]
  },
  {
   "cell_type": "markdown",
   "id": "3eab5d6eaaaaa868",
   "metadata": {},
   "source": [
    "### Insert Data\n",
    "\n",
    "🔢 Auto embedding: when you insert new data, the SDK automatically embeds the corpus for you."
   ]
  },
  {
   "cell_type": "code",
   "execution_count": 6,
   "id": "baec9a5ae06231be",
   "metadata": {
    "ExecuteTime": {
     "end_time": "2025-03-10T09:08:05.150129Z",
     "start_time": "2025-03-10T09:08:05.116162Z"
    }
   },
   "outputs": [
    {
     "data": {
      "text/plain": [
       "4"
      ]
     },
     "execution_count": 6,
     "metadata": {},
     "output_type": "execute_result"
    }
   ],
   "source": [
    "table.insert(\n",
    "    Chunk(text=\"The quick brown fox jumps over the lazy dog\", user_id=1),\n",
    ")\n",
    "table.bulk_insert(\n",
    "    [\n",
    "        Chunk(text=\"A quick brown dog runs in the park\", user_id=2),\n",
    "        Chunk(text=\"The lazy fox sleeps under the tree\", user_id=2),\n",
    "        Chunk(text=\"A dog and a fox play in the park\", user_id=3),\n",
    "    ]\n",
    ")\n",
    "table.rows()"
   ]
  },
  {
   "cell_type": "markdown",
   "id": "c985564294102cd3",
   "metadata": {},
   "source": [
    "### Vector Search"
   ]
  },
  {
   "cell_type": "code",
   "execution_count": 7,
   "id": "3c4313022f06bd3e",
   "metadata": {
    "ExecuteTime": {
     "end_time": "2025-03-10T09:08:07.911227Z",
     "start_time": "2025-03-10T09:08:07.893758Z"
    }
   },
   "outputs": [
    {
     "data": {
      "text/plain": [
       "[('A quick brown dog runs in the park', 0.665493189763966),\n",
       " ('The lazy fox sleeps under the tree', 0.554631888866523)]"
      ]
     },
     "execution_count": 7,
     "metadata": {},
     "output_type": "execute_result"
    }
   ],
   "source": [
    "chunks = (\n",
    "    table.search(\n",
    "        \"A quick fox in the park\"\n",
    "    )  # 👈 The query will be embedding automatically.\n",
    "    .filter({\"user_id\": 2})\n",
    "    .limit(2)\n",
    "    .to_pydantic()\n",
    ")\n",
    "[(c.text, c.score) for c in chunks]"
   ]
  },
  {
   "cell_type": "markdown",
   "id": "6d0f67ab",
   "metadata": {},
   "source": [
    "### Advanced Filtering\n",
    "\n",
    "TiDB Client supports various filter operators for flexible querying:\n",
    "\n",
    "| Operator | Description | Example |\n",
    "|----------|-------------|---------|\n",
    "| `$eq` | Equal to | `{\"field\": {\"$eq\": \"hello\"}}` |\n",
    "| `$gt` | Greater than | `{\"field\": {\"$gt\": 1}}` |\n",
    "| `$gte` | Greater than or equal | `{\"field\": {\"$gte\": 1}}` |\n",
    "| `$lt` | Less than | `{\"field\": {\"$lt\": 1}}` |\n",
    "| `$lte` | Less than or equal | `{\"field\": {\"$lte\": 1}}` |\n",
    "| `$in` | In array | `{\"field\": {\"$in\": [1, 2, 3]}}` |\n",
    "| `$nin` | Not in array | `{\"field\": {\"$nin\": [1, 2, 3]}}` |\n",
    "| `$and` | Logical AND | `{\"$and\": [{\"field1\": 1}, {\"field2\": 2}]}` |\n",
    "| `$or` | Logical OR | `{\"$or\": [{\"field1\": 1}, {\"field2\": 2}]}` |\n"
   ]
  },
  {
   "cell_type": "code",
   "execution_count": 8,
   "id": "ace02b45",
   "metadata": {
    "ExecuteTime": {
     "end_time": "2025-03-10T09:08:12.012911Z",
     "start_time": "2025-03-10T09:08:12.004958Z"
    }
   },
   "outputs": [
    {
     "data": {
      "text/plain": [
       "[(1, 'The quick brown fox jumps over the lazy dog', 1)]"
      ]
     },
     "execution_count": 8,
     "metadata": {},
     "output_type": "execute_result"
    }
   ],
   "source": [
    "chunks = table.query({\"user_id\": 1})\n",
    "[(c.id, c.text, c.user_id) for c in chunks]"
   ]
  },
  {
   "cell_type": "markdown",
   "id": "824bdb8530bf9f23",
   "metadata": {},
   "source": [
    "### Multiple Tables Join"
   ]
  },
  {
   "cell_type": "code",
   "execution_count": 9,
   "id": "dac4ea8f9052f393",
   "metadata": {},
   "outputs": [],
   "source": [
    "# Create a table to stored user data:\n",
    "class User(TiDBModel, table=True):\n",
    "    __tablename__ = \"users\"\n",
    "    __table_args__ = {\"extend_existing\": True}\n",
    "\n",
    "    id: int = Field(primary_key=True)\n",
    "    name: str = Field(max_length=20)\n",
    "\n",
    "\n",
    "user_table = db.create_table(schema=User)"
   ]
  },
  {
   "cell_type": "code",
   "execution_count": 11,
   "id": "11a91f7f489bf78f",
   "metadata": {},
   "outputs": [
    {
     "data": {
      "text/plain": [
       "User(name='Alice', id=1)"
      ]
     },
     "execution_count": 11,
     "metadata": {},
     "output_type": "execute_result"
    }
   ],
   "source": [
    "user_table.truncate()\n",
    "user_table.insert(User(id=1, name=\"Alice\"))"
   ]
  },
  {
   "cell_type": "code",
   "execution_count": 12,
   "id": "b2ec4ea1bd64108c",
   "metadata": {},
   "outputs": [
    {
     "data": {
      "text/plain": [
       "[(1, 'The quick brown fox jumps over the lazy dog', 1)]"
      ]
     },
     "execution_count": 12,
     "metadata": {},
     "output_type": "execute_result"
    }
   ],
   "source": [
    "from sqlmodel import select, Session\n",
    "\n",
    "db_engine = db.db_engine\n",
    "with Session(db_engine) as db_session:\n",
    "    query = (\n",
    "        select(Chunk).join(User, Chunk.user_id == User.id).where(User.name == \"Alice\")\n",
    "    )\n",
    "    chunks = db_session.exec(query).all()\n",
    "\n",
    "[(c.id, c.text, c.user_id) for c in chunks]"
   ]
  },
  {
   "cell_type": "markdown",
   "id": "8588f41c966af685",
   "metadata": {},
   "source": [
    "### Update Data"
   ]
  },
  {
   "cell_type": "code",
   "execution_count": 24,
   "id": "9709eaa17f375cc4",
   "metadata": {
    "jupyter": {
     "is_executing": true
    }
   },
   "outputs": [
    {
     "data": {
      "text/plain": [
       "('A quick brown dog runs in the park',\n",
       " array([-0.0412815 , -0.00934362,  0.01239674, ..., -0.00587278,\n",
       "        -0.00735941,  0.01383422], dtype=float32))"
      ]
     },
     "execution_count": 24,
     "metadata": {},
     "output_type": "execute_result"
    }
   ],
   "source": [
    "old_chunk = table.query({\"text\": \"A quick brown dog runs in the park\"})[0]\n",
    "chunk_id = old_chunk.id\n",
    "(old_chunk.text, old_chunk.text_vec)"
   ]
  },
  {
   "cell_type": "code",
   "execution_count": 25,
   "id": "2f60ed130e223985",
   "metadata": {},
   "outputs": [],
   "source": [
    "table.update(\n",
    "    values={\n",
    "        \"text\": \"foo\"  # 👈 Only provide the fields you want to update.\n",
    "    },\n",
    "    filters={\"id\": chunk_id},\n",
    ")"
   ]
  },
  {
   "cell_type": "code",
   "execution_count": 26,
   "id": "99208275",
   "metadata": {},
   "outputs": [
    {
     "data": {
      "text/plain": [
       "('foo',\n",
       " array([-0.00584331, -0.0131113 , -0.01458535, ..., -0.00907705,\n",
       "        -0.0073632 , -0.01883118], dtype=float32))"
      ]
     },
     "execution_count": 26,
     "metadata": {},
     "output_type": "execute_result"
    }
   ],
   "source": [
    "new_chunk = table.get(chunk_id)\n",
    "(new_chunk.text, new_chunk.text_vec)  # 👈 The vector field is updated automatically."
   ]
  },
  {
   "cell_type": "markdown",
   "id": "414e362b",
   "metadata": {},
   "source": [
    "### Delete Data"
   ]
  },
  {
   "cell_type": "code",
   "execution_count": 27,
   "id": "c302f994",
   "metadata": {},
   "outputs": [
    {
     "data": {
      "text/plain": [
       "2"
      ]
     },
     "execution_count": 27,
     "metadata": {},
     "output_type": "execute_result"
    }
   ],
   "source": [
    "table.delete(filters={\"user_id\": 2})\n",
    "table.rows()"
   ]
  },
  {
   "cell_type": "markdown",
   "id": "f8dd3bc68287ade1",
   "metadata": {},
   "source": [
    "### Execute raw SQL"
   ]
  },
  {
   "cell_type": "code",
   "execution_count": 28,
   "id": "124cc1a2463c474d",
   "metadata": {
    "jupyter": {
     "is_executing": true
    }
   },
   "outputs": [
    {
     "data": {
      "text/plain": [
       "{'success': True,\n",
       " 'result': [(1, 'The quick brown fox jumps over the lazy dog', 1),\n",
       "  (4, 'A dog and a fox play in the park', 3)],\n",
       " 'error': None}"
      ]
     },
     "execution_count": 28,
     "metadata": {},
     "output_type": "execute_result"
    }
   ],
   "source": [
    "db.execute(\"SELECT id, text, user_id FROM chunks\")"
   ]
  },
  {
   "cell_type": "markdown",
   "id": "af9c3428",
   "metadata": {},
   "source": [
    "### Truncate table\n",
    "\n",
    "Clear all data in the table:"
   ]
  },
  {
   "cell_type": "code",
   "execution_count": 29,
   "id": "cceb0bf0",
   "metadata": {
    "ExecuteTime": {
     "end_time": "2025-03-10T09:08:15.840977Z",
     "start_time": "2025-03-10T09:08:15.780367Z"
    }
   },
   "outputs": [
    {
     "data": {
      "text/plain": [
       "0"
      ]
     },
     "execution_count": 29,
     "metadata": {},
     "output_type": "execute_result"
    }
   ],
   "source": [
    "table.truncate()\n",
    "table.rows()"
   ]
  }
 ],
 "metadata": {
  "kernelspec": {
   "display_name": ".venv",
   "language": "python",
   "name": "python3"
  },
  "language_info": {
   "codemirror_mode": {
    "name": "ipython",
    "version": 3
   },
   "file_extension": ".py",
   "mimetype": "text/x-python",
   "name": "python",
   "nbconvert_exporter": "python",
   "pygments_lexer": "ipython3",
   "version": "3.11.8"
  }
 },
 "nbformat": 4,
 "nbformat_minor": 5
}
