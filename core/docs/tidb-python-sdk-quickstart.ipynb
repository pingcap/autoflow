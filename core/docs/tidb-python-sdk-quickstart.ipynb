{
 "cells": [
  {
   "cell_type": "markdown",
   "id": "b90e936b724dae40",
   "metadata": {},
   "source": [
    "# TiDB Python SDK\n",
    "\n",
    "A powerful Python SDK for vector storage and retrieval operations with TiDB.\n",
    "\n",
    "- 🔄 Automatic embedding generation\n",
    "- 🔍 Vector similarity search\n",
    "- 🎯 Advanced filtering capabilities\n",
    "- 📦 Bulk operations support"
   ]
  },
  {
   "cell_type": "markdown",
   "id": "d774f9944686ca99",
   "metadata": {},
   "source": [
    "## Installation"
   ]
  },
  {
   "cell_type": "code",
   "id": "f121a72fade8d446",
   "metadata": {},
   "source": [
    "%pip install autoflow-ai==0.0.1.dev29"
   ],
   "outputs": [],
   "execution_count": null
  },
  {
   "cell_type": "markdown",
   "id": "792b9e129382d176",
   "metadata": {},
   "source": [
    "## Configuration\n",
    "\n",
    "- Go [tidbcloud.com](https://tidbcloud.com/) or using [tiup playground](https://docs.pingcap.com/tidb/stable/tiup-playground/) to create a free TiDB database cluster.\n",
    "- Go [OpenAI platform](https://platform.openai.com/api-keys) to create your API key.\n",
    "\n",
    "Configuration can be provided through environment variables, or using `.env`:"
   ]
  },
  {
   "cell_type": "code",
   "execution_count": null,
   "id": "d03f8fd3f35f45f5",
   "metadata": {},
   "outputs": [],
   "source": [
    "# Create .env file, then edit your .env, for example:\n",
    "# $ cat .env\n",
    "# TIDB_HOST=localhost\n",
    "# TIDB_PORT=4000\n",
    "# TIDB_USERNAME=root\n",
    "# TIDB_PASSWORD=\n",
    "# OPENAI_API_KEY='your_openai_api_key'\n",
    "#\n",
    "# Or you can use DATABASE_URL to connect to TiDB, for example:\n",
    "# $ cat .env\n",
    "# DATABASE_URL=mysql+pymysql://root:@localhost:4000/test\n",
    "#\n",
    "# If you are using TiDB Serverless, the DATABASE_URL should be like:\n",
    "# DATABASE_URL=mysql+pymysql://<USERNAME:<PASSWORD>@<HOST>:4000/test&ssl_verify_cert=true&ssl_verify_identity=true\n",
    "%cp .env.example .env"
   ]
  },
  {
   "cell_type": "code",
   "id": "9c75d924557c8de7",
   "metadata": {
    "ExecuteTime": {
     "end_time": "2025-03-17T16:07:43.715134Z",
     "start_time": "2025-03-17T16:07:43.709887Z"
    }
   },
   "source": [
    "import dotenv\n",
    "\n",
    "dotenv.load_dotenv()"
   ],
   "outputs": [
    {
     "data": {
      "text/plain": [
       "True"
      ]
     },
     "execution_count": 28,
     "metadata": {},
     "output_type": "execute_result"
    }
   ],
   "execution_count": 28
  },
  {
   "cell_type": "markdown",
   "id": "22bfc51ebffcd51a",
   "metadata": {},
   "source": [
    "## Quickstart"
   ]
  },
  {
   "cell_type": "markdown",
   "id": "dc2df9bbafbf7080",
   "metadata": {},
   "source": [
    "### Connect to TiDB"
   ]
  },
  {
   "cell_type": "code",
   "id": "4995a54f311c4b1c",
   "metadata": {
    "ExecuteTime": {
     "end_time": "2025-03-17T16:07:48.227420Z",
     "start_time": "2025-03-17T16:07:48.215293Z"
    }
   },
   "source": [
    "import os\n",
    "from autoflow.storage.tidb import TiDBClient\n",
    "\n",
    "db = TiDBClient.connect(\n",
    "    host=os.getenv(\"TIDB_HOST\"),\n",
    "    port=int(os.getenv(\"TIDB_PORT\")),\n",
    "    username=os.getenv(\"TIDB_USERNAME\"),\n",
    "    password=os.getenv(\"TIDB_PASSWORD\"),\n",
    "    database=os.getenv(\"TIDB_DATABASE\"),\n",
    ")\n",
    "\n",
    "# If you are using DATABASE_URL\n",
    "# db = TiDBClient.connect(database_url=os.getenv(\"DATABASE_URL\"))"
   ],
   "outputs": [],
   "execution_count": 29
  },
  {
   "cell_type": "markdown",
   "id": "efe66290f9e9df4b",
   "metadata": {},
   "source": [
    "### Create table"
   ]
  },
  {
   "cell_type": "code",
   "id": "9e3bec57603df4c5",
   "metadata": {
    "ExecuteTime": {
     "end_time": "2025-03-17T16:08:05.757669Z",
     "start_time": "2025-03-17T16:08:05.673749Z"
    }
   },
   "source": [
    "from typing import Optional, Any\n",
    "from autoflow.storage.tidb.schema import TableModel, Field\n",
    "from autoflow.storage.tidb.embeddings import EmbeddingFunction\n",
    "\n",
    "# Define your embedding model.\n",
    "text_embed = EmbeddingFunction(\"openai/text-embedding-3-small\")\n",
    "\n",
    "\n",
    "class Chunk(TableModel, table=True):\n",
    "    __tablename__ = \"chunks\"\n",
    "    __table_args__ = {\"extend_existing\": True}\n",
    "\n",
    "    id: int = Field(primary_key=True)\n",
    "    text: str = Field()\n",
    "    text_vec: Optional[Any] = text_embed.VectorField(\n",
    "        source_field=\"text\"\n",
    "    )  # 👈 Define the vector field.\n",
    "    user_id: int = Field()\n",
    "\n",
    "\n",
    "table = db.create_table(schema=Chunk)"
   ],
   "outputs": [
    {
     "ename": "ValueError",
     "evalue": "Vector index is only supported for fixed dimension vectors",
     "output_type": "error",
     "traceback": [
      "\u001B[31m---------------------------------------------------------------------------\u001B[39m",
      "\u001B[31mValueError\u001B[39m                                Traceback (most recent call last)",
      "\u001B[36mCell\u001B[39m\u001B[36m \u001B[39m\u001B[32mIn[32]\u001B[39m\u001B[32m, line 21\u001B[39m\n\u001B[32m     15\u001B[39m     text_vec: Optional[Any] = text_embed.VectorField(\n\u001B[32m     16\u001B[39m         source_field=\u001B[33m\"\u001B[39m\u001B[33mtext\u001B[39m\u001B[33m\"\u001B[39m\n\u001B[32m     17\u001B[39m     )  \u001B[38;5;66;03m# 👈 Define the vector field.\u001B[39;00m\n\u001B[32m     18\u001B[39m     user_id: \u001B[38;5;28mint\u001B[39m = Field()\n\u001B[32m---> \u001B[39m\u001B[32m21\u001B[39m table = \u001B[43mdb\u001B[49m\u001B[43m.\u001B[49m\u001B[43mcreate_table\u001B[49m\u001B[43m(\u001B[49m\u001B[43mschema\u001B[49m\u001B[43m=\u001B[49m\u001B[43mChunk\u001B[49m\u001B[43m)\u001B[49m\n",
      "\u001B[36mFile \u001B[39m\u001B[32m~/Projects/autoflow.ai/core/autoflow/storage/tidb/client.py:111\u001B[39m, in \u001B[36mTiDBClient.create_table\u001B[39m\u001B[34m(self, schema)\u001B[39m\n\u001B[32m    106\u001B[39m \u001B[38;5;28;01mdef\u001B[39;00m\u001B[38;5;250m \u001B[39m\u001B[34mcreate_table\u001B[39m(\n\u001B[32m    107\u001B[39m     \u001B[38;5;28mself\u001B[39m,\n\u001B[32m    108\u001B[39m     *,\n\u001B[32m    109\u001B[39m     schema: Optional[TableModel] = \u001B[38;5;28;01mNone\u001B[39;00m,\n\u001B[32m    110\u001B[39m ) -> Table:\n\u001B[32m--> \u001B[39m\u001B[32m111\u001B[39m     table = \u001B[43mTable\u001B[49m\u001B[43m(\u001B[49m\u001B[43mschema\u001B[49m\u001B[43m=\u001B[49m\u001B[43mschema\u001B[49m\u001B[43m,\u001B[49m\u001B[43m \u001B[49m\u001B[43mdb_engine\u001B[49m\u001B[43m=\u001B[49m\u001B[38;5;28;43mself\u001B[39;49m\u001B[43m.\u001B[49m\u001B[43m_db_engine\u001B[49m\u001B[43m)\u001B[49m\n\u001B[32m    112\u001B[39m     \u001B[38;5;28;01mreturn\u001B[39;00m table\n",
      "\u001B[36mFile \u001B[39m\u001B[32m~/Projects/autoflow.ai/core/autoflow/storage/tidb/table.py:70\u001B[39m, in \u001B[36m__init__\u001B[39m\u001B[34m(self, db_engine, schema, vector_column, distance_metric, checkfirst)\u001B[39m\n\u001B[32m     68\u001B[39m \u001B[38;5;28;01mfor\u001B[39;00m col \u001B[38;5;129;01min\u001B[39;00m \u001B[38;5;28mself\u001B[39m._vector_columns:\n\u001B[32m     69\u001B[39m     \u001B[38;5;28;01mif\u001B[39;00m vector_adaptor.has_vector_index(col):\n\u001B[32m---> \u001B[39m\u001B[32m70\u001B[39m         \u001B[38;5;28;01mcontinue\u001B[39;00m\n\u001B[32m     71\u001B[39m     vector_adaptor.create_vector_index(col, distance_metric)\n\u001B[32m     73\u001B[39m \u001B[38;5;66;03m# Determine vector column for search.\u001B[39;00m\n",
      "\u001B[36mFile \u001B[39m\u001B[32m~/Projects/autoflow.ai/core/.venv/lib/python3.12/site-packages/tidb_vector/sqlalchemy/adaptor.py:77\u001B[39m, in \u001B[36mVectorAdaptor.create_vector_index\u001B[39m\u001B[34m(self, column, distance_metric, skip_existing)\u001B[39m\n\u001B[32m     74\u001B[39m \u001B[38;5;28mself\u001B[39m._check_vector_column(column)\n\u001B[32m     76\u001B[39m \u001B[38;5;28;01mif\u001B[39;00m column.type.dim \u001B[38;5;129;01mis\u001B[39;00m \u001B[38;5;28;01mNone\u001B[39;00m:\n\u001B[32m---> \u001B[39m\u001B[32m77\u001B[39m     \u001B[38;5;28;01mraise\u001B[39;00m \u001B[38;5;167;01mValueError\u001B[39;00m(\n\u001B[32m     78\u001B[39m         \u001B[33m\"\u001B[39m\u001B[33mVector index is only supported for fixed dimension vectors\u001B[39m\u001B[33m\"\u001B[39m\n\u001B[32m     79\u001B[39m     )\n\u001B[32m     81\u001B[39m \u001B[38;5;28;01mif\u001B[39;00m skip_existing:\n\u001B[32m     82\u001B[39m     \u001B[38;5;28;01mif\u001B[39;00m \u001B[38;5;28mself\u001B[39m.has_vector_index(column):\n\u001B[32m     83\u001B[39m         \u001B[38;5;66;03m# TODO: Currently there is no easy way to verify whether the distance\u001B[39;00m\n\u001B[32m     84\u001B[39m         \u001B[38;5;66;03m# metric is correct. We should check it and throw error if distance metric is not matching\u001B[39;00m\n",
      "\u001B[31mValueError\u001B[39m: Vector index is only supported for fixed dimension vectors"
     ]
    }
   ],
   "execution_count": 32
  },
  {
   "cell_type": "markdown",
   "id": "3eab5d6eaaaaa868",
   "metadata": {},
   "source": [
    "### Insert Data\n",
    "\n",
    "🔢 Auto embedding: when you insert new data, the SDK automatically embeds the corpus for you."
   ]
  },
  {
   "cell_type": "code",
   "execution_count": 5,
   "id": "fc742b2328df41f7",
   "metadata": {
    "ExecuteTime": {
     "end_time": "2025-03-17T15:52:49.435786Z",
     "start_time": "2025-03-17T15:52:47.153075Z"
    }
   },
   "outputs": [
    {
     "data": {
      "text/plain": [
       "4"
      ]
     },
     "execution_count": 5,
     "metadata": {},
     "output_type": "execute_result"
    }
   ],
   "source": [
    "table.truncate()\n",
    "table.insert(\n",
    "    Chunk(text=\"The quick brown fox jumps over the lazy dog\", user_id=1),\n",
    ")\n",
    "table.bulk_insert(\n",
    "    [\n",
    "        Chunk(text=\"A quick brown dog runs in the park\", user_id=2),\n",
    "        Chunk(text=\"The lazy fox sleeps under the tree\", user_id=2),\n",
    "        Chunk(text=\"A dog and a fox play in the park\", user_id=3),\n",
    "    ]\n",
    ")\n",
    "table.rows()"
   ]
  },
  {
   "cell_type": "markdown",
   "id": "c985564294102cd3",
   "metadata": {},
   "source": [
    "### Vector Search"
   ]
  },
  {
   "metadata": {
    "ExecuteTime": {
     "end_time": "2025-03-17T16:07:04.770909Z",
     "start_time": "2025-03-17T16:07:02.734528Z"
    }
   },
   "cell_type": "code",
   "source": [
    "res = (\n",
    "    table.search(\n",
    "        \"A quick fox in the park\"\n",
    "    )  # 👈 The query will be embedding automatically.\n",
    "    .filter({\"user_id\": 2})\n",
    "    .limit(2)\n",
    "    .to_pandas()\n",
    ")\n",
    "res"
   ],
   "id": "bb18652332f9338f",
   "outputs": [
    {
     "ename": "ProgrammingError",
     "evalue": "(pymysql.err.ProgrammingError) (1146, \"Table 'test.chunks' doesn't exist\")\n[SQL: SELECT candidates.id, candidates.text, candidates.text_vec, candidates.user_id, candidates._distance, %(distance_1)s - candidates._distance AS similarity_score, %(distance_2)s - candidates._distance AS score \nFROM (SELECT chunks.id AS id, chunks.text AS text, chunks.text_vec AS text_vec, chunks.user_id AS user_id, VEC_COSINE_DISTANCE(chunks.text_vec, %(VEC_COSINE_DISTANCE_1)s) AS _distance \nFROM chunks ORDER BY _distance ASC \n LIMIT %(param_1)s) AS candidates \nWHERE candidates.user_id = %(user_id_1)s ORDER BY similarity_score DESC \n LIMIT %(param_2)s]\n[parameters: {'distance_1': 1, 'distance_2': 1, 'VEC_COSINE_DISTANCE_1': '[-0.02620607614517212, -0.011909238062798977, -0.03339764475822449, -0.015404339879751205, -0.039553627371788025, -0.0016441723564639688, -0.01636801 ... (33891 characters truncated) ... 88667106628418, 0.012527712620794773, 0.025141725316643715, 0.036274272948503494, -0.0032883447129279375, -0.03385790437459946, 0.011966770514845848]', 'param_1': 20, 'user_id_1': 2, 'param_2': 2}]\n(Background on this error at: https://sqlalche.me/e/20/f405)",
     "output_type": "error",
     "traceback": [
      "\u001B[31m---------------------------------------------------------------------------\u001B[39m",
      "\u001B[31mProgrammingError\u001B[39m                          Traceback (most recent call last)",
      "\u001B[36mFile \u001B[39m\u001B[32m~/Projects/autoflow.ai/core/.venv/lib/python3.12/site-packages/sqlalchemy/engine/base.py:1964\u001B[39m, in \u001B[36mConnection._exec_single_context\u001B[39m\u001B[34m(self, dialect, context, statement, parameters)\u001B[39m\n\u001B[32m   1963\u001B[39m     \u001B[38;5;28;01mif\u001B[39;00m \u001B[38;5;129;01mnot\u001B[39;00m evt_handled:\n\u001B[32m-> \u001B[39m\u001B[32m1964\u001B[39m         \u001B[38;5;28;43mself\u001B[39;49m\u001B[43m.\u001B[49m\u001B[43mdialect\u001B[49m\u001B[43m.\u001B[49m\u001B[43mdo_execute\u001B[49m\u001B[43m(\u001B[49m\n\u001B[32m   1965\u001B[39m \u001B[43m            \u001B[49m\u001B[43mcursor\u001B[49m\u001B[43m,\u001B[49m\u001B[43m \u001B[49m\u001B[43mstr_statement\u001B[49m\u001B[43m,\u001B[49m\u001B[43m \u001B[49m\u001B[43meffective_parameters\u001B[49m\u001B[43m,\u001B[49m\u001B[43m \u001B[49m\u001B[43mcontext\u001B[49m\n\u001B[32m   1966\u001B[39m \u001B[43m        \u001B[49m\u001B[43m)\u001B[49m\n\u001B[32m   1968\u001B[39m \u001B[38;5;28;01mif\u001B[39;00m \u001B[38;5;28mself\u001B[39m._has_events \u001B[38;5;129;01mor\u001B[39;00m \u001B[38;5;28mself\u001B[39m.engine._has_events:\n",
      "\u001B[36mFile \u001B[39m\u001B[32m~/Projects/autoflow.ai/core/.venv/lib/python3.12/site-packages/sqlalchemy/engine/default.py:942\u001B[39m, in \u001B[36mDefaultDialect.do_execute\u001B[39m\u001B[34m(self, cursor, statement, parameters, context)\u001B[39m\n\u001B[32m    941\u001B[39m \u001B[38;5;28;01mdef\u001B[39;00m\u001B[38;5;250m \u001B[39m\u001B[34mdo_execute\u001B[39m(\u001B[38;5;28mself\u001B[39m, cursor, statement, parameters, context=\u001B[38;5;28;01mNone\u001B[39;00m):\n\u001B[32m--> \u001B[39m\u001B[32m942\u001B[39m     \u001B[43mcursor\u001B[49m\u001B[43m.\u001B[49m\u001B[43mexecute\u001B[49m\u001B[43m(\u001B[49m\u001B[43mstatement\u001B[49m\u001B[43m,\u001B[49m\u001B[43m \u001B[49m\u001B[43mparameters\u001B[49m\u001B[43m)\u001B[49m\n",
      "\u001B[36mFile \u001B[39m\u001B[32m~/Projects/autoflow.ai/core/.venv/lib/python3.12/site-packages/pymysql/cursors.py:153\u001B[39m, in \u001B[36mCursor.execute\u001B[39m\u001B[34m(self, query, args)\u001B[39m\n\u001B[32m    151\u001B[39m query = \u001B[38;5;28mself\u001B[39m.mogrify(query, args)\n\u001B[32m--> \u001B[39m\u001B[32m153\u001B[39m result = \u001B[38;5;28;43mself\u001B[39;49m\u001B[43m.\u001B[49m\u001B[43m_query\u001B[49m\u001B[43m(\u001B[49m\u001B[43mquery\u001B[49m\u001B[43m)\u001B[49m\n\u001B[32m    154\u001B[39m \u001B[38;5;28mself\u001B[39m._executed = query\n",
      "\u001B[36mFile \u001B[39m\u001B[32m~/Projects/autoflow.ai/core/.venv/lib/python3.12/site-packages/pymysql/cursors.py:322\u001B[39m, in \u001B[36mCursor._query\u001B[39m\u001B[34m(self, q)\u001B[39m\n\u001B[32m    321\u001B[39m \u001B[38;5;28mself\u001B[39m._clear_result()\n\u001B[32m--> \u001B[39m\u001B[32m322\u001B[39m \u001B[43mconn\u001B[49m\u001B[43m.\u001B[49m\u001B[43mquery\u001B[49m\u001B[43m(\u001B[49m\u001B[43mq\u001B[49m\u001B[43m)\u001B[49m\n\u001B[32m    323\u001B[39m \u001B[38;5;28mself\u001B[39m._do_get_result()\n",
      "\u001B[36mFile \u001B[39m\u001B[32m~/Projects/autoflow.ai/core/.venv/lib/python3.12/site-packages/pymysql/connections.py:563\u001B[39m, in \u001B[36mConnection.query\u001B[39m\u001B[34m(self, sql, unbuffered)\u001B[39m\n\u001B[32m    562\u001B[39m \u001B[38;5;28mself\u001B[39m._execute_command(COMMAND.COM_QUERY, sql)\n\u001B[32m--> \u001B[39m\u001B[32m563\u001B[39m \u001B[38;5;28mself\u001B[39m._affected_rows = \u001B[38;5;28;43mself\u001B[39;49m\u001B[43m.\u001B[49m\u001B[43m_read_query_result\u001B[49m\u001B[43m(\u001B[49m\u001B[43munbuffered\u001B[49m\u001B[43m=\u001B[49m\u001B[43munbuffered\u001B[49m\u001B[43m)\u001B[49m\n\u001B[32m    564\u001B[39m \u001B[38;5;28;01mreturn\u001B[39;00m \u001B[38;5;28mself\u001B[39m._affected_rows\n",
      "\u001B[36mFile \u001B[39m\u001B[32m~/Projects/autoflow.ai/core/.venv/lib/python3.12/site-packages/pymysql/connections.py:825\u001B[39m, in \u001B[36mConnection._read_query_result\u001B[39m\u001B[34m(self, unbuffered)\u001B[39m\n\u001B[32m    824\u001B[39m     result = MySQLResult(\u001B[38;5;28mself\u001B[39m)\n\u001B[32m--> \u001B[39m\u001B[32m825\u001B[39m     \u001B[43mresult\u001B[49m\u001B[43m.\u001B[49m\u001B[43mread\u001B[49m\u001B[43m(\u001B[49m\u001B[43m)\u001B[49m\n\u001B[32m    826\u001B[39m \u001B[38;5;28mself\u001B[39m._result = result\n",
      "\u001B[36mFile \u001B[39m\u001B[32m~/Projects/autoflow.ai/core/.venv/lib/python3.12/site-packages/pymysql/connections.py:1199\u001B[39m, in \u001B[36mMySQLResult.read\u001B[39m\u001B[34m(self)\u001B[39m\n\u001B[32m   1198\u001B[39m \u001B[38;5;28;01mtry\u001B[39;00m:\n\u001B[32m-> \u001B[39m\u001B[32m1199\u001B[39m     first_packet = \u001B[38;5;28;43mself\u001B[39;49m\u001B[43m.\u001B[49m\u001B[43mconnection\u001B[49m\u001B[43m.\u001B[49m\u001B[43m_read_packet\u001B[49m\u001B[43m(\u001B[49m\u001B[43m)\u001B[49m\n\u001B[32m   1201\u001B[39m     \u001B[38;5;28;01mif\u001B[39;00m first_packet.is_ok_packet():\n",
      "\u001B[36mFile \u001B[39m\u001B[32m~/Projects/autoflow.ai/core/.venv/lib/python3.12/site-packages/pymysql/connections.py:775\u001B[39m, in \u001B[36mConnection._read_packet\u001B[39m\u001B[34m(self, packet_type)\u001B[39m\n\u001B[32m    774\u001B[39m         \u001B[38;5;28mself\u001B[39m._result.unbuffered_active = \u001B[38;5;28;01mFalse\u001B[39;00m\n\u001B[32m--> \u001B[39m\u001B[32m775\u001B[39m     \u001B[43mpacket\u001B[49m\u001B[43m.\u001B[49m\u001B[43mraise_for_error\u001B[49m\u001B[43m(\u001B[49m\u001B[43m)\u001B[49m\n\u001B[32m    776\u001B[39m \u001B[38;5;28;01mreturn\u001B[39;00m packet\n",
      "\u001B[36mFile \u001B[39m\u001B[32m~/Projects/autoflow.ai/core/.venv/lib/python3.12/site-packages/pymysql/protocol.py:219\u001B[39m, in \u001B[36mMysqlPacket.raise_for_error\u001B[39m\u001B[34m(self)\u001B[39m\n\u001B[32m    218\u001B[39m     \u001B[38;5;28mprint\u001B[39m(\u001B[33m\"\u001B[39m\u001B[33merrno =\u001B[39m\u001B[33m\"\u001B[39m, errno)\n\u001B[32m--> \u001B[39m\u001B[32m219\u001B[39m \u001B[43merr\u001B[49m\u001B[43m.\u001B[49m\u001B[43mraise_mysql_exception\u001B[49m\u001B[43m(\u001B[49m\u001B[38;5;28;43mself\u001B[39;49m\u001B[43m.\u001B[49m\u001B[43m_data\u001B[49m\u001B[43m)\u001B[49m\n",
      "\u001B[36mFile \u001B[39m\u001B[32m~/Projects/autoflow.ai/core/.venv/lib/python3.12/site-packages/pymysql/err.py:150\u001B[39m, in \u001B[36mraise_mysql_exception\u001B[39m\u001B[34m(data)\u001B[39m\n\u001B[32m    149\u001B[39m     errorclass = InternalError \u001B[38;5;28;01mif\u001B[39;00m errno < \u001B[32m1000\u001B[39m \u001B[38;5;28;01melse\u001B[39;00m OperationalError\n\u001B[32m--> \u001B[39m\u001B[32m150\u001B[39m \u001B[38;5;28;01mraise\u001B[39;00m errorclass(errno, errval)\n",
      "\u001B[31mProgrammingError\u001B[39m: (1146, \"Table 'test.chunks' doesn't exist\")",
      "\nThe above exception was the direct cause of the following exception:\n",
      "\u001B[31mProgrammingError\u001B[39m                          Traceback (most recent call last)",
      "\u001B[36mCell\u001B[39m\u001B[36m \u001B[39m\u001B[32mIn[26]\u001B[39m\u001B[32m, line 7\u001B[39m\n\u001B[32m      1\u001B[39m res = (\n\u001B[32m      2\u001B[39m     \u001B[43mtable\u001B[49m\u001B[43m.\u001B[49m\u001B[43msearch\u001B[49m\u001B[43m(\u001B[49m\n\u001B[32m      3\u001B[39m \u001B[43m        \u001B[49m\u001B[33;43m\"\u001B[39;49m\u001B[33;43mA quick fox in the park\u001B[39;49m\u001B[33;43m\"\u001B[39;49m\n\u001B[32m      4\u001B[39m \u001B[43m    \u001B[49m\u001B[43m)\u001B[49m\u001B[43m  \u001B[49m\u001B[38;5;66;43;03m# 👈 The query will be embedding automatically.\u001B[39;49;00m\n\u001B[32m      5\u001B[39m \u001B[43m    \u001B[49m\u001B[43m.\u001B[49m\u001B[43mfilter\u001B[49m\u001B[43m(\u001B[49m\u001B[43m{\u001B[49m\u001B[33;43m\"\u001B[39;49m\u001B[33;43muser_id\u001B[39;49m\u001B[33;43m\"\u001B[39;49m\u001B[43m:\u001B[49m\u001B[43m \u001B[49m\u001B[32;43m2\u001B[39;49m\u001B[43m}\u001B[49m\u001B[43m)\u001B[49m\n\u001B[32m      6\u001B[39m \u001B[43m    \u001B[49m\u001B[43m.\u001B[49m\u001B[43mlimit\u001B[49m\u001B[43m(\u001B[49m\u001B[32;43m2\u001B[39;49m\u001B[43m)\u001B[49m\n\u001B[32m----> \u001B[39m\u001B[32m7\u001B[39m \u001B[43m    \u001B[49m\u001B[43m.\u001B[49m\u001B[43mto_pandas\u001B[49m\u001B[43m(\u001B[49m\u001B[43m)\u001B[49m\n\u001B[32m      8\u001B[39m )\n\u001B[32m      9\u001B[39m res\n",
      "\u001B[36mFile \u001B[39m\u001B[32m~/Projects/autoflow.ai/core/autoflow/storage/tidb/search.py:258\u001B[39m, in \u001B[36mto_pandas\u001B[39m\u001B[34m(self)\u001B[39m\n\u001B[32m    251\u001B[39m             results.append(hit)\n\u001B[32m    252\u001B[39m         \u001B[38;5;28;01melse\u001B[39;00m:\n\u001B[32m    253\u001B[39m             results.append(\n\u001B[32m    254\u001B[39m                 SearchResultModel(\n\u001B[32m    255\u001B[39m                     similarity_score=similarity_score,\n\u001B[32m    256\u001B[39m                     score=score,\n\u001B[32m    257\u001B[39m                     hit=hit,\n\u001B[32m--> \u001B[39m\u001B[32m258\u001B[39m                 )\n\u001B[32m    259\u001B[39m             )\n\u001B[32m    261\u001B[39m \u001B[38;5;28;01mreturn\u001B[39;00m results\n",
      "\u001B[36mFile \u001B[39m\u001B[32m~/Projects/autoflow.ai/core/autoflow/storage/tidb/search.py:213\u001B[39m, in \u001B[36m_execute\u001B[39m\u001B[34m(self, db_session)\u001B[39m\n\u001B[32m    206\u001B[39m query = select(\n\u001B[32m    207\u001B[39m     subquery.c,\n\u001B[32m    208\u001B[39m     (\u001B[32m1\u001B[39m - subquery.c[distance_label]).label(SIMILARITY_SCORE_LABEL),\n\u001B[32m    209\u001B[39m     (\u001B[32m1\u001B[39m - subquery.c[distance_label]).label(SCORE_LABEL),\n\u001B[32m    210\u001B[39m )\n\u001B[32m    212\u001B[39m \u001B[38;5;28;01mif\u001B[39;00m \u001B[38;5;28mself\u001B[39m._filters \u001B[38;5;129;01mis\u001B[39;00m \u001B[38;5;129;01mnot\u001B[39;00m \u001B[38;5;28;01mNone\u001B[39;00m:\n\u001B[32m--> \u001B[39m\u001B[32m213\u001B[39m     filter_clauses = build_filter_clauses(\n\u001B[32m    214\u001B[39m         \u001B[38;5;28mself\u001B[39m._filters, subquery.c, table_model\n\u001B[32m    215\u001B[39m     )\n\u001B[32m    216\u001B[39m     query = query.filter(*filter_clauses)\n\u001B[32m    218\u001B[39m query = query.order_by(desc(SIMILARITY_SCORE_LABEL)).limit(\u001B[38;5;28mself\u001B[39m._limit)\n",
      "\u001B[36mFile \u001B[39m\u001B[32m~/Projects/autoflow.ai/core/.venv/lib/python3.12/site-packages/sqlalchemy/orm/session.py:2365\u001B[39m, in \u001B[36mSession.execute\u001B[39m\u001B[34m(self, statement, params, execution_options, bind_arguments, _parent_execute_state, _add_event)\u001B[39m\n\u001B[32m   2305\u001B[39m \u001B[38;5;28;01mdef\u001B[39;00m\u001B[38;5;250m \u001B[39m\u001B[34mexecute\u001B[39m(\n\u001B[32m   2306\u001B[39m     \u001B[38;5;28mself\u001B[39m,\n\u001B[32m   2307\u001B[39m     statement: Executable,\n\u001B[32m   (...)\u001B[39m\u001B[32m   2313\u001B[39m     _add_event: Optional[Any] = \u001B[38;5;28;01mNone\u001B[39;00m,\n\u001B[32m   2314\u001B[39m ) -> Result[Any]:\n\u001B[32m   2315\u001B[39m \u001B[38;5;250m    \u001B[39m\u001B[33mr\u001B[39m\u001B[33;03m\"\"\"Execute a SQL expression construct.\u001B[39;00m\n\u001B[32m   2316\u001B[39m \n\u001B[32m   2317\u001B[39m \u001B[33;03m    Returns a :class:`_engine.Result` object representing\u001B[39;00m\n\u001B[32m   (...)\u001B[39m\u001B[32m   2363\u001B[39m \n\u001B[32m   2364\u001B[39m \u001B[33;03m    \"\"\"\u001B[39;00m\n\u001B[32m-> \u001B[39m\u001B[32m2365\u001B[39m     \u001B[38;5;28;01mreturn\u001B[39;00m \u001B[38;5;28;43mself\u001B[39;49m\u001B[43m.\u001B[49m\u001B[43m_execute_internal\u001B[49m\u001B[43m(\u001B[49m\n\u001B[32m   2366\u001B[39m \u001B[43m        \u001B[49m\u001B[43mstatement\u001B[49m\u001B[43m,\u001B[49m\n\u001B[32m   2367\u001B[39m \u001B[43m        \u001B[49m\u001B[43mparams\u001B[49m\u001B[43m,\u001B[49m\n\u001B[32m   2368\u001B[39m \u001B[43m        \u001B[49m\u001B[43mexecution_options\u001B[49m\u001B[43m=\u001B[49m\u001B[43mexecution_options\u001B[49m\u001B[43m,\u001B[49m\n\u001B[32m   2369\u001B[39m \u001B[43m        \u001B[49m\u001B[43mbind_arguments\u001B[49m\u001B[43m=\u001B[49m\u001B[43mbind_arguments\u001B[49m\u001B[43m,\u001B[49m\n\u001B[32m   2370\u001B[39m \u001B[43m        \u001B[49m\u001B[43m_parent_execute_state\u001B[49m\u001B[43m=\u001B[49m\u001B[43m_parent_execute_state\u001B[49m\u001B[43m,\u001B[49m\n\u001B[32m   2371\u001B[39m \u001B[43m        \u001B[49m\u001B[43m_add_event\u001B[49m\u001B[43m=\u001B[49m\u001B[43m_add_event\u001B[49m\u001B[43m,\u001B[49m\n\u001B[32m   2372\u001B[39m \u001B[43m    \u001B[49m\u001B[43m)\u001B[49m\n",
      "\u001B[36mFile \u001B[39m\u001B[32m~/Projects/autoflow.ai/core/.venv/lib/python3.12/site-packages/sqlalchemy/orm/session.py:2260\u001B[39m, in \u001B[36mSession._execute_internal\u001B[39m\u001B[34m(self, statement, params, execution_options, bind_arguments, _parent_execute_state, _add_event, _scalar_result)\u001B[39m\n\u001B[32m   2251\u001B[39m     result: Result[Any] = compile_state_cls.orm_execute_statement(\n\u001B[32m   2252\u001B[39m         \u001B[38;5;28mself\u001B[39m,\n\u001B[32m   2253\u001B[39m         statement,\n\u001B[32m   (...)\u001B[39m\u001B[32m   2257\u001B[39m         conn,\n\u001B[32m   2258\u001B[39m     )\n\u001B[32m   2259\u001B[39m \u001B[38;5;28;01melse\u001B[39;00m:\n\u001B[32m-> \u001B[39m\u001B[32m2260\u001B[39m     result = \u001B[43mconn\u001B[49m\u001B[43m.\u001B[49m\u001B[43mexecute\u001B[49m\u001B[43m(\u001B[49m\n\u001B[32m   2261\u001B[39m \u001B[43m        \u001B[49m\u001B[43mstatement\u001B[49m\u001B[43m,\u001B[49m\u001B[43m \u001B[49m\u001B[43mparams\u001B[49m\u001B[43m \u001B[49m\u001B[38;5;129;43;01mor\u001B[39;49;00m\u001B[43m \u001B[49m\u001B[43m{\u001B[49m\u001B[43m}\u001B[49m\u001B[43m,\u001B[49m\u001B[43m \u001B[49m\u001B[43mexecution_options\u001B[49m\u001B[43m=\u001B[49m\u001B[43mexecution_options\u001B[49m\n\u001B[32m   2262\u001B[39m \u001B[43m    \u001B[49m\u001B[43m)\u001B[49m\n\u001B[32m   2264\u001B[39m \u001B[38;5;28;01mif\u001B[39;00m _scalar_result:\n\u001B[32m   2265\u001B[39m     \u001B[38;5;28;01mreturn\u001B[39;00m result.scalar()\n",
      "\u001B[36mFile \u001B[39m\u001B[32m~/Projects/autoflow.ai/core/.venv/lib/python3.12/site-packages/sqlalchemy/engine/base.py:1416\u001B[39m, in \u001B[36mConnection.execute\u001B[39m\u001B[34m(self, statement, parameters, execution_options)\u001B[39m\n\u001B[32m   1414\u001B[39m     \u001B[38;5;28;01mraise\u001B[39;00m exc.ObjectNotExecutableError(statement) \u001B[38;5;28;01mfrom\u001B[39;00m\u001B[38;5;250m \u001B[39m\u001B[34;01merr\u001B[39;00m\n\u001B[32m   1415\u001B[39m \u001B[38;5;28;01melse\u001B[39;00m:\n\u001B[32m-> \u001B[39m\u001B[32m1416\u001B[39m     \u001B[38;5;28;01mreturn\u001B[39;00m \u001B[43mmeth\u001B[49m\u001B[43m(\u001B[49m\n\u001B[32m   1417\u001B[39m \u001B[43m        \u001B[49m\u001B[38;5;28;43mself\u001B[39;49m\u001B[43m,\u001B[49m\n\u001B[32m   1418\u001B[39m \u001B[43m        \u001B[49m\u001B[43mdistilled_parameters\u001B[49m\u001B[43m,\u001B[49m\n\u001B[32m   1419\u001B[39m \u001B[43m        \u001B[49m\u001B[43mexecution_options\u001B[49m\u001B[43m \u001B[49m\u001B[38;5;129;43;01mor\u001B[39;49;00m\u001B[43m \u001B[49m\u001B[43mNO_OPTIONS\u001B[49m\u001B[43m,\u001B[49m\n\u001B[32m   1420\u001B[39m \u001B[43m    \u001B[49m\u001B[43m)\u001B[49m\n",
      "\u001B[36mFile \u001B[39m\u001B[32m~/Projects/autoflow.ai/core/.venv/lib/python3.12/site-packages/sqlalchemy/sql/elements.py:523\u001B[39m, in \u001B[36mClauseElement._execute_on_connection\u001B[39m\u001B[34m(self, connection, distilled_params, execution_options)\u001B[39m\n\u001B[32m    521\u001B[39m     \u001B[38;5;28;01mif\u001B[39;00m TYPE_CHECKING:\n\u001B[32m    522\u001B[39m         \u001B[38;5;28;01massert\u001B[39;00m \u001B[38;5;28misinstance\u001B[39m(\u001B[38;5;28mself\u001B[39m, Executable)\n\u001B[32m--> \u001B[39m\u001B[32m523\u001B[39m     \u001B[38;5;28;01mreturn\u001B[39;00m \u001B[43mconnection\u001B[49m\u001B[43m.\u001B[49m\u001B[43m_execute_clauseelement\u001B[49m\u001B[43m(\u001B[49m\n\u001B[32m    524\u001B[39m \u001B[43m        \u001B[49m\u001B[38;5;28;43mself\u001B[39;49m\u001B[43m,\u001B[49m\u001B[43m \u001B[49m\u001B[43mdistilled_params\u001B[49m\u001B[43m,\u001B[49m\u001B[43m \u001B[49m\u001B[43mexecution_options\u001B[49m\n\u001B[32m    525\u001B[39m \u001B[43m    \u001B[49m\u001B[43m)\u001B[49m\n\u001B[32m    526\u001B[39m \u001B[38;5;28;01melse\u001B[39;00m:\n\u001B[32m    527\u001B[39m     \u001B[38;5;28;01mraise\u001B[39;00m exc.ObjectNotExecutableError(\u001B[38;5;28mself\u001B[39m)\n",
      "\u001B[36mFile \u001B[39m\u001B[32m~/Projects/autoflow.ai/core/.venv/lib/python3.12/site-packages/sqlalchemy/engine/base.py:1638\u001B[39m, in \u001B[36mConnection._execute_clauseelement\u001B[39m\u001B[34m(self, elem, distilled_parameters, execution_options)\u001B[39m\n\u001B[32m   1626\u001B[39m compiled_cache: Optional[CompiledCacheType] = execution_options.get(\n\u001B[32m   1627\u001B[39m     \u001B[33m\"\u001B[39m\u001B[33mcompiled_cache\u001B[39m\u001B[33m\"\u001B[39m, \u001B[38;5;28mself\u001B[39m.engine._compiled_cache\n\u001B[32m   1628\u001B[39m )\n\u001B[32m   1630\u001B[39m compiled_sql, extracted_params, cache_hit = elem._compile_w_cache(\n\u001B[32m   1631\u001B[39m     dialect=dialect,\n\u001B[32m   1632\u001B[39m     compiled_cache=compiled_cache,\n\u001B[32m   (...)\u001B[39m\u001B[32m   1636\u001B[39m     linting=\u001B[38;5;28mself\u001B[39m.dialect.compiler_linting | compiler.WARN_LINTING,\n\u001B[32m   1637\u001B[39m )\n\u001B[32m-> \u001B[39m\u001B[32m1638\u001B[39m ret = \u001B[38;5;28;43mself\u001B[39;49m\u001B[43m.\u001B[49m\u001B[43m_execute_context\u001B[49m\u001B[43m(\u001B[49m\n\u001B[32m   1639\u001B[39m \u001B[43m    \u001B[49m\u001B[43mdialect\u001B[49m\u001B[43m,\u001B[49m\n\u001B[32m   1640\u001B[39m \u001B[43m    \u001B[49m\u001B[43mdialect\u001B[49m\u001B[43m.\u001B[49m\u001B[43mexecution_ctx_cls\u001B[49m\u001B[43m.\u001B[49m\u001B[43m_init_compiled\u001B[49m\u001B[43m,\u001B[49m\n\u001B[32m   1641\u001B[39m \u001B[43m    \u001B[49m\u001B[43mcompiled_sql\u001B[49m\u001B[43m,\u001B[49m\n\u001B[32m   1642\u001B[39m \u001B[43m    \u001B[49m\u001B[43mdistilled_parameters\u001B[49m\u001B[43m,\u001B[49m\n\u001B[32m   1643\u001B[39m \u001B[43m    \u001B[49m\u001B[43mexecution_options\u001B[49m\u001B[43m,\u001B[49m\n\u001B[32m   1644\u001B[39m \u001B[43m    \u001B[49m\u001B[43mcompiled_sql\u001B[49m\u001B[43m,\u001B[49m\n\u001B[32m   1645\u001B[39m \u001B[43m    \u001B[49m\u001B[43mdistilled_parameters\u001B[49m\u001B[43m,\u001B[49m\n\u001B[32m   1646\u001B[39m \u001B[43m    \u001B[49m\u001B[43melem\u001B[49m\u001B[43m,\u001B[49m\n\u001B[32m   1647\u001B[39m \u001B[43m    \u001B[49m\u001B[43mextracted_params\u001B[49m\u001B[43m,\u001B[49m\n\u001B[32m   1648\u001B[39m \u001B[43m    \u001B[49m\u001B[43mcache_hit\u001B[49m\u001B[43m=\u001B[49m\u001B[43mcache_hit\u001B[49m\u001B[43m,\u001B[49m\n\u001B[32m   1649\u001B[39m \u001B[43m\u001B[49m\u001B[43m)\u001B[49m\n\u001B[32m   1650\u001B[39m \u001B[38;5;28;01mif\u001B[39;00m has_events:\n\u001B[32m   1651\u001B[39m     \u001B[38;5;28mself\u001B[39m.dispatch.after_execute(\n\u001B[32m   1652\u001B[39m         \u001B[38;5;28mself\u001B[39m,\n\u001B[32m   1653\u001B[39m         elem,\n\u001B[32m   (...)\u001B[39m\u001B[32m   1657\u001B[39m         ret,\n\u001B[32m   1658\u001B[39m     )\n",
      "\u001B[36mFile \u001B[39m\u001B[32m~/Projects/autoflow.ai/core/.venv/lib/python3.12/site-packages/sqlalchemy/engine/base.py:1843\u001B[39m, in \u001B[36mConnection._execute_context\u001B[39m\u001B[34m(self, dialect, constructor, statement, parameters, execution_options, *args, **kw)\u001B[39m\n\u001B[32m   1841\u001B[39m     \u001B[38;5;28;01mreturn\u001B[39;00m \u001B[38;5;28mself\u001B[39m._exec_insertmany_context(dialect, context)\n\u001B[32m   1842\u001B[39m \u001B[38;5;28;01melse\u001B[39;00m:\n\u001B[32m-> \u001B[39m\u001B[32m1843\u001B[39m     \u001B[38;5;28;01mreturn\u001B[39;00m \u001B[38;5;28;43mself\u001B[39;49m\u001B[43m.\u001B[49m\u001B[43m_exec_single_context\u001B[49m\u001B[43m(\u001B[49m\n\u001B[32m   1844\u001B[39m \u001B[43m        \u001B[49m\u001B[43mdialect\u001B[49m\u001B[43m,\u001B[49m\u001B[43m \u001B[49m\u001B[43mcontext\u001B[49m\u001B[43m,\u001B[49m\u001B[43m \u001B[49m\u001B[43mstatement\u001B[49m\u001B[43m,\u001B[49m\u001B[43m \u001B[49m\u001B[43mparameters\u001B[49m\n\u001B[32m   1845\u001B[39m \u001B[43m    \u001B[49m\u001B[43m)\u001B[49m\n",
      "\u001B[36mFile \u001B[39m\u001B[32m~/Projects/autoflow.ai/core/.venv/lib/python3.12/site-packages/sqlalchemy/engine/base.py:1983\u001B[39m, in \u001B[36mConnection._exec_single_context\u001B[39m\u001B[34m(self, dialect, context, statement, parameters)\u001B[39m\n\u001B[32m   1980\u001B[39m     result = context._setup_result_proxy()\n\u001B[32m   1982\u001B[39m \u001B[38;5;28;01mexcept\u001B[39;00m \u001B[38;5;167;01mBaseException\u001B[39;00m \u001B[38;5;28;01mas\u001B[39;00m e:\n\u001B[32m-> \u001B[39m\u001B[32m1983\u001B[39m     \u001B[38;5;28;43mself\u001B[39;49m\u001B[43m.\u001B[49m\u001B[43m_handle_dbapi_exception\u001B[49m\u001B[43m(\u001B[49m\n\u001B[32m   1984\u001B[39m \u001B[43m        \u001B[49m\u001B[43me\u001B[49m\u001B[43m,\u001B[49m\u001B[43m \u001B[49m\u001B[43mstr_statement\u001B[49m\u001B[43m,\u001B[49m\u001B[43m \u001B[49m\u001B[43meffective_parameters\u001B[49m\u001B[43m,\u001B[49m\u001B[43m \u001B[49m\u001B[43mcursor\u001B[49m\u001B[43m,\u001B[49m\u001B[43m \u001B[49m\u001B[43mcontext\u001B[49m\n\u001B[32m   1985\u001B[39m \u001B[43m    \u001B[49m\u001B[43m)\u001B[49m\n\u001B[32m   1987\u001B[39m \u001B[38;5;28;01mreturn\u001B[39;00m result\n",
      "\u001B[36mFile \u001B[39m\u001B[32m~/Projects/autoflow.ai/core/.venv/lib/python3.12/site-packages/sqlalchemy/engine/base.py:2352\u001B[39m, in \u001B[36mConnection._handle_dbapi_exception\u001B[39m\u001B[34m(self, e, statement, parameters, cursor, context, is_sub_exec)\u001B[39m\n\u001B[32m   2350\u001B[39m \u001B[38;5;28;01melif\u001B[39;00m should_wrap:\n\u001B[32m   2351\u001B[39m     \u001B[38;5;28;01massert\u001B[39;00m sqlalchemy_exception \u001B[38;5;129;01mis\u001B[39;00m \u001B[38;5;129;01mnot\u001B[39;00m \u001B[38;5;28;01mNone\u001B[39;00m\n\u001B[32m-> \u001B[39m\u001B[32m2352\u001B[39m     \u001B[38;5;28;01mraise\u001B[39;00m sqlalchemy_exception.with_traceback(exc_info[\u001B[32m2\u001B[39m]) \u001B[38;5;28;01mfrom\u001B[39;00m\u001B[38;5;250m \u001B[39m\u001B[34;01me\u001B[39;00m\n\u001B[32m   2353\u001B[39m \u001B[38;5;28;01melse\u001B[39;00m:\n\u001B[32m   2354\u001B[39m     \u001B[38;5;28;01massert\u001B[39;00m exc_info[\u001B[32m1\u001B[39m] \u001B[38;5;129;01mis\u001B[39;00m \u001B[38;5;129;01mnot\u001B[39;00m \u001B[38;5;28;01mNone\u001B[39;00m\n",
      "\u001B[36mFile \u001B[39m\u001B[32m~/Projects/autoflow.ai/core/.venv/lib/python3.12/site-packages/sqlalchemy/engine/base.py:1964\u001B[39m, in \u001B[36mConnection._exec_single_context\u001B[39m\u001B[34m(self, dialect, context, statement, parameters)\u001B[39m\n\u001B[32m   1962\u001B[39m                 \u001B[38;5;28;01mbreak\u001B[39;00m\n\u001B[32m   1963\u001B[39m     \u001B[38;5;28;01mif\u001B[39;00m \u001B[38;5;129;01mnot\u001B[39;00m evt_handled:\n\u001B[32m-> \u001B[39m\u001B[32m1964\u001B[39m         \u001B[38;5;28;43mself\u001B[39;49m\u001B[43m.\u001B[49m\u001B[43mdialect\u001B[49m\u001B[43m.\u001B[49m\u001B[43mdo_execute\u001B[49m\u001B[43m(\u001B[49m\n\u001B[32m   1965\u001B[39m \u001B[43m            \u001B[49m\u001B[43mcursor\u001B[49m\u001B[43m,\u001B[49m\u001B[43m \u001B[49m\u001B[43mstr_statement\u001B[49m\u001B[43m,\u001B[49m\u001B[43m \u001B[49m\u001B[43meffective_parameters\u001B[49m\u001B[43m,\u001B[49m\u001B[43m \u001B[49m\u001B[43mcontext\u001B[49m\n\u001B[32m   1966\u001B[39m \u001B[43m        \u001B[49m\u001B[43m)\u001B[49m\n\u001B[32m   1968\u001B[39m \u001B[38;5;28;01mif\u001B[39;00m \u001B[38;5;28mself\u001B[39m._has_events \u001B[38;5;129;01mor\u001B[39;00m \u001B[38;5;28mself\u001B[39m.engine._has_events:\n\u001B[32m   1969\u001B[39m     \u001B[38;5;28mself\u001B[39m.dispatch.after_cursor_execute(\n\u001B[32m   1970\u001B[39m         \u001B[38;5;28mself\u001B[39m,\n\u001B[32m   1971\u001B[39m         cursor,\n\u001B[32m   (...)\u001B[39m\u001B[32m   1975\u001B[39m         context.executemany,\n\u001B[32m   1976\u001B[39m     )\n",
      "\u001B[36mFile \u001B[39m\u001B[32m~/Projects/autoflow.ai/core/.venv/lib/python3.12/site-packages/sqlalchemy/engine/default.py:942\u001B[39m, in \u001B[36mDefaultDialect.do_execute\u001B[39m\u001B[34m(self, cursor, statement, parameters, context)\u001B[39m\n\u001B[32m    941\u001B[39m \u001B[38;5;28;01mdef\u001B[39;00m\u001B[38;5;250m \u001B[39m\u001B[34mdo_execute\u001B[39m(\u001B[38;5;28mself\u001B[39m, cursor, statement, parameters, context=\u001B[38;5;28;01mNone\u001B[39;00m):\n\u001B[32m--> \u001B[39m\u001B[32m942\u001B[39m     \u001B[43mcursor\u001B[49m\u001B[43m.\u001B[49m\u001B[43mexecute\u001B[49m\u001B[43m(\u001B[49m\u001B[43mstatement\u001B[49m\u001B[43m,\u001B[49m\u001B[43m \u001B[49m\u001B[43mparameters\u001B[49m\u001B[43m)\u001B[49m\n",
      "\u001B[36mFile \u001B[39m\u001B[32m~/Projects/autoflow.ai/core/.venv/lib/python3.12/site-packages/pymysql/cursors.py:153\u001B[39m, in \u001B[36mCursor.execute\u001B[39m\u001B[34m(self, query, args)\u001B[39m\n\u001B[32m    149\u001B[39m     \u001B[38;5;28;01mpass\u001B[39;00m\n\u001B[32m    151\u001B[39m query = \u001B[38;5;28mself\u001B[39m.mogrify(query, args)\n\u001B[32m--> \u001B[39m\u001B[32m153\u001B[39m result = \u001B[38;5;28;43mself\u001B[39;49m\u001B[43m.\u001B[49m\u001B[43m_query\u001B[49m\u001B[43m(\u001B[49m\u001B[43mquery\u001B[49m\u001B[43m)\u001B[49m\n\u001B[32m    154\u001B[39m \u001B[38;5;28mself\u001B[39m._executed = query\n\u001B[32m    155\u001B[39m \u001B[38;5;28;01mreturn\u001B[39;00m result\n",
      "\u001B[36mFile \u001B[39m\u001B[32m~/Projects/autoflow.ai/core/.venv/lib/python3.12/site-packages/pymysql/cursors.py:322\u001B[39m, in \u001B[36mCursor._query\u001B[39m\u001B[34m(self, q)\u001B[39m\n\u001B[32m    320\u001B[39m conn = \u001B[38;5;28mself\u001B[39m._get_db()\n\u001B[32m    321\u001B[39m \u001B[38;5;28mself\u001B[39m._clear_result()\n\u001B[32m--> \u001B[39m\u001B[32m322\u001B[39m \u001B[43mconn\u001B[49m\u001B[43m.\u001B[49m\u001B[43mquery\u001B[49m\u001B[43m(\u001B[49m\u001B[43mq\u001B[49m\u001B[43m)\u001B[49m\n\u001B[32m    323\u001B[39m \u001B[38;5;28mself\u001B[39m._do_get_result()\n\u001B[32m    324\u001B[39m \u001B[38;5;28;01mreturn\u001B[39;00m \u001B[38;5;28mself\u001B[39m.rowcount\n",
      "\u001B[36mFile \u001B[39m\u001B[32m~/Projects/autoflow.ai/core/.venv/lib/python3.12/site-packages/pymysql/connections.py:563\u001B[39m, in \u001B[36mConnection.query\u001B[39m\u001B[34m(self, sql, unbuffered)\u001B[39m\n\u001B[32m    561\u001B[39m     sql = sql.encode(\u001B[38;5;28mself\u001B[39m.encoding, \u001B[33m\"\u001B[39m\u001B[33msurrogateescape\u001B[39m\u001B[33m\"\u001B[39m)\n\u001B[32m    562\u001B[39m \u001B[38;5;28mself\u001B[39m._execute_command(COMMAND.COM_QUERY, sql)\n\u001B[32m--> \u001B[39m\u001B[32m563\u001B[39m \u001B[38;5;28mself\u001B[39m._affected_rows = \u001B[38;5;28;43mself\u001B[39;49m\u001B[43m.\u001B[49m\u001B[43m_read_query_result\u001B[49m\u001B[43m(\u001B[49m\u001B[43munbuffered\u001B[49m\u001B[43m=\u001B[49m\u001B[43munbuffered\u001B[49m\u001B[43m)\u001B[49m\n\u001B[32m    564\u001B[39m \u001B[38;5;28;01mreturn\u001B[39;00m \u001B[38;5;28mself\u001B[39m._affected_rows\n",
      "\u001B[36mFile \u001B[39m\u001B[32m~/Projects/autoflow.ai/core/.venv/lib/python3.12/site-packages/pymysql/connections.py:825\u001B[39m, in \u001B[36mConnection._read_query_result\u001B[39m\u001B[34m(self, unbuffered)\u001B[39m\n\u001B[32m    823\u001B[39m \u001B[38;5;28;01melse\u001B[39;00m:\n\u001B[32m    824\u001B[39m     result = MySQLResult(\u001B[38;5;28mself\u001B[39m)\n\u001B[32m--> \u001B[39m\u001B[32m825\u001B[39m     \u001B[43mresult\u001B[49m\u001B[43m.\u001B[49m\u001B[43mread\u001B[49m\u001B[43m(\u001B[49m\u001B[43m)\u001B[49m\n\u001B[32m    826\u001B[39m \u001B[38;5;28mself\u001B[39m._result = result\n\u001B[32m    827\u001B[39m \u001B[38;5;28;01mif\u001B[39;00m result.server_status \u001B[38;5;129;01mis\u001B[39;00m \u001B[38;5;129;01mnot\u001B[39;00m \u001B[38;5;28;01mNone\u001B[39;00m:\n",
      "\u001B[36mFile \u001B[39m\u001B[32m~/Projects/autoflow.ai/core/.venv/lib/python3.12/site-packages/pymysql/connections.py:1199\u001B[39m, in \u001B[36mMySQLResult.read\u001B[39m\u001B[34m(self)\u001B[39m\n\u001B[32m   1197\u001B[39m \u001B[38;5;28;01mdef\u001B[39;00m\u001B[38;5;250m \u001B[39m\u001B[34mread\u001B[39m(\u001B[38;5;28mself\u001B[39m):\n\u001B[32m   1198\u001B[39m     \u001B[38;5;28;01mtry\u001B[39;00m:\n\u001B[32m-> \u001B[39m\u001B[32m1199\u001B[39m         first_packet = \u001B[38;5;28;43mself\u001B[39;49m\u001B[43m.\u001B[49m\u001B[43mconnection\u001B[49m\u001B[43m.\u001B[49m\u001B[43m_read_packet\u001B[49m\u001B[43m(\u001B[49m\u001B[43m)\u001B[49m\n\u001B[32m   1201\u001B[39m         \u001B[38;5;28;01mif\u001B[39;00m first_packet.is_ok_packet():\n\u001B[32m   1202\u001B[39m             \u001B[38;5;28mself\u001B[39m._read_ok_packet(first_packet)\n",
      "\u001B[36mFile \u001B[39m\u001B[32m~/Projects/autoflow.ai/core/.venv/lib/python3.12/site-packages/pymysql/connections.py:775\u001B[39m, in \u001B[36mConnection._read_packet\u001B[39m\u001B[34m(self, packet_type)\u001B[39m\n\u001B[32m    773\u001B[39m     \u001B[38;5;28;01mif\u001B[39;00m \u001B[38;5;28mself\u001B[39m._result \u001B[38;5;129;01mis\u001B[39;00m \u001B[38;5;129;01mnot\u001B[39;00m \u001B[38;5;28;01mNone\u001B[39;00m \u001B[38;5;129;01mand\u001B[39;00m \u001B[38;5;28mself\u001B[39m._result.unbuffered_active \u001B[38;5;129;01mis\u001B[39;00m \u001B[38;5;28;01mTrue\u001B[39;00m:\n\u001B[32m    774\u001B[39m         \u001B[38;5;28mself\u001B[39m._result.unbuffered_active = \u001B[38;5;28;01mFalse\u001B[39;00m\n\u001B[32m--> \u001B[39m\u001B[32m775\u001B[39m     \u001B[43mpacket\u001B[49m\u001B[43m.\u001B[49m\u001B[43mraise_for_error\u001B[49m\u001B[43m(\u001B[49m\u001B[43m)\u001B[49m\n\u001B[32m    776\u001B[39m \u001B[38;5;28;01mreturn\u001B[39;00m packet\n",
      "\u001B[36mFile \u001B[39m\u001B[32m~/Projects/autoflow.ai/core/.venv/lib/python3.12/site-packages/pymysql/protocol.py:219\u001B[39m, in \u001B[36mMysqlPacket.raise_for_error\u001B[39m\u001B[34m(self)\u001B[39m\n\u001B[32m    217\u001B[39m \u001B[38;5;28;01mif\u001B[39;00m DEBUG:\n\u001B[32m    218\u001B[39m     \u001B[38;5;28mprint\u001B[39m(\u001B[33m\"\u001B[39m\u001B[33merrno =\u001B[39m\u001B[33m\"\u001B[39m, errno)\n\u001B[32m--> \u001B[39m\u001B[32m219\u001B[39m \u001B[43merr\u001B[49m\u001B[43m.\u001B[49m\u001B[43mraise_mysql_exception\u001B[49m\u001B[43m(\u001B[49m\u001B[38;5;28;43mself\u001B[39;49m\u001B[43m.\u001B[49m\u001B[43m_data\u001B[49m\u001B[43m)\u001B[49m\n",
      "\u001B[36mFile \u001B[39m\u001B[32m~/Projects/autoflow.ai/core/.venv/lib/python3.12/site-packages/pymysql/err.py:150\u001B[39m, in \u001B[36mraise_mysql_exception\u001B[39m\u001B[34m(data)\u001B[39m\n\u001B[32m    148\u001B[39m \u001B[38;5;28;01mif\u001B[39;00m errorclass \u001B[38;5;129;01mis\u001B[39;00m \u001B[38;5;28;01mNone\u001B[39;00m:\n\u001B[32m    149\u001B[39m     errorclass = InternalError \u001B[38;5;28;01mif\u001B[39;00m errno < \u001B[32m1000\u001B[39m \u001B[38;5;28;01melse\u001B[39;00m OperationalError\n\u001B[32m--> \u001B[39m\u001B[32m150\u001B[39m \u001B[38;5;28;01mraise\u001B[39;00m errorclass(errno, errval)\n",
      "\u001B[31mProgrammingError\u001B[39m: (pymysql.err.ProgrammingError) (1146, \"Table 'test.chunks' doesn't exist\")\n[SQL: SELECT candidates.id, candidates.text, candidates.text_vec, candidates.user_id, candidates._distance, %(distance_1)s - candidates._distance AS similarity_score, %(distance_2)s - candidates._distance AS score \nFROM (SELECT chunks.id AS id, chunks.text AS text, chunks.text_vec AS text_vec, chunks.user_id AS user_id, VEC_COSINE_DISTANCE(chunks.text_vec, %(VEC_COSINE_DISTANCE_1)s) AS _distance \nFROM chunks ORDER BY _distance ASC \n LIMIT %(param_1)s) AS candidates \nWHERE candidates.user_id = %(user_id_1)s ORDER BY similarity_score DESC \n LIMIT %(param_2)s]\n[parameters: {'distance_1': 1, 'distance_2': 1, 'VEC_COSINE_DISTANCE_1': '[-0.02620607614517212, -0.011909238062798977, -0.03339764475822449, -0.015404339879751205, -0.039553627371788025, -0.0016441723564639688, -0.01636801 ... (33891 characters truncated) ... 88667106628418, 0.012527712620794773, 0.025141725316643715, 0.036274272948503494, -0.0032883447129279375, -0.03385790437459946, 0.011966770514845848]', 'param_1': 20, 'user_id_1': 2, 'param_2': 2}]\n(Background on this error at: https://sqlalche.me/e/20/f405)"
     ]
    }
   ],
   "execution_count": 26
  },
  {
   "metadata": {},
   "cell_type": "markdown",
   "source": [
    "### Advanced Filtering\n",
    "\n",
    "TiDB Client supports various filter operators for flexible querying:\n",
    "\n",
    "| Operator | Description | Example |\n",
    "|----------|-------------|---------|\n",
    "| `$eq` | Equal to | `{\"field\": {\"$eq\": \"hello\"}}` |\n",
    "| `$gt` | Greater than | `{\"field\": {\"$gt\": 1}}` |\n",
    "| `$gte` | Greater than or equal | `{\"field\": {\"$gte\": 1}}` |\n",
    "| `$lt` | Less than | `{\"field\": {\"$lt\": 1}}` |\n",
    "| `$lte` | Less than or equal | `{\"field\": {\"$lte\": 1}}` |\n",
    "| `$in` | In array | `{\"field\": {\"$in\": [1, 2, 3]}}` |\n",
    "| `$nin` | Not in array | `{\"field\": {\"$nin\": [1, 2, 3]}}` |\n",
    "| `$and` | Logical AND | `{\"$and\": [{\"field1\": 1}, {\"field2\": 2}]}` |\n",
    "| `$or` | Logical OR | `{\"$or\": [{\"field1\": 1}, {\"field2\": 2}]}` |\n"
   ],
   "id": "9885104818a2d30b"
  },
  {
   "metadata": {},
   "cell_type": "code",
   "outputs": [],
   "execution_count": null,
   "source": [
    "chunks = table.query({\"user_id\": 1})\n",
    "[(c.id, c.text, c.user_id) for c in chunks]"
   ],
   "id": "5b9277c611a0c7f4"
  },
  {
   "cell_type": "markdown",
   "id": "824bdb8530bf9f23",
   "metadata": {},
   "source": [
    "### Multiple Tables Join"
   ]
  },
  {
   "cell_type": "code",
   "execution_count": 8,
   "id": "2125f53dd5ec80c9",
   "metadata": {
    "ExecuteTime": {
     "end_time": "2025-03-17T15:52:58.780020Z",
     "start_time": "2025-03-17T15:52:58.773121Z"
    }
   },
   "outputs": [],
   "source": [
    "# Create a table to stored user data:\n",
    "class User(TableModel, table=True):\n",
    "    __tablename__ = \"users\"\n",
    "    __table_args__ = {\"extend_existing\": True}\n",
    "\n",
    "    id: int = Field(primary_key=True)\n",
    "    name: str = Field(max_length=20)\n",
    "\n",
    "\n",
    "user_table = db.create_table(schema=User)"
   ]
  },
  {
   "cell_type": "code",
   "execution_count": 9,
   "id": "54332bb413b12141",
   "metadata": {
    "ExecuteTime": {
     "end_time": "2025-03-17T15:53:00.938056Z",
     "start_time": "2025-03-17T15:53:00.873360Z"
    }
   },
   "outputs": [
    {
     "data": {
      "text/plain": [
       "User(id=1, name='Alice')"
      ]
     },
     "execution_count": 9,
     "metadata": {},
     "output_type": "execute_result"
    }
   ],
   "source": [
    "user_table.truncate()\n",
    "user_table.insert(User(id=1, name=\"Alice\"))"
   ]
  },
  {
   "cell_type": "code",
   "execution_count": 10,
   "id": "b2ec4ea1bd64108c",
   "metadata": {
    "ExecuteTime": {
     "end_time": "2025-03-17T15:53:02.073388Z",
     "start_time": "2025-03-17T15:53:02.058979Z"
    }
   },
   "outputs": [
    {
     "data": {
      "text/plain": [
       "[(1, 'The quick brown fox jumps over the lazy dog', 1)]"
      ]
     },
     "execution_count": 10,
     "metadata": {},
     "output_type": "execute_result"
    }
   ],
   "source": [
    "from sqlmodel import select, Session\n",
    "\n",
    "db_engine = db.db_engine\n",
    "with Session(db_engine) as db_session:\n",
    "    query = (\n",
    "        select(Chunk).join(User, Chunk.user_id == User.id).where(User.name == \"Alice\")\n",
    "    )\n",
    "    chunks = db_session.exec(query).all()\n",
    "\n",
    "[(c.id, c.text, c.user_id) for c in chunks]"
   ]
  },
  {
   "cell_type": "markdown",
   "id": "8588f41c966af685",
   "metadata": {},
   "source": [
    "### Update Data"
   ]
  },
  {
   "cell_type": "code",
   "execution_count": 11,
   "id": "9709eaa17f375cc4",
   "metadata": {
    "ExecuteTime": {
     "end_time": "2025-03-17T15:53:04.097436Z",
     "start_time": "2025-03-17T15:53:04.086272Z"
    }
   },
   "outputs": [
    {
     "data": {
      "text/plain": [
       "('A quick brown dog runs in the park',\n",
       " array([-0.0412815 , -0.00934362,  0.01239674, ..., -0.00587278,\n",
       "        -0.00735941,  0.01383422], dtype=float32))"
      ]
     },
     "execution_count": 11,
     "metadata": {},
     "output_type": "execute_result"
    }
   ],
   "source": [
    "old_chunk = table.query({\"text\": \"A quick brown dog runs in the park\"})[0]\n",
    "chunk_id = old_chunk.id\n",
    "(old_chunk.text, old_chunk.text_vec)"
   ]
  },
  {
   "cell_type": "code",
   "execution_count": 12,
   "id": "2f60ed130e223985",
   "metadata": {
    "ExecuteTime": {
     "end_time": "2025-03-17T15:53:06.530249Z",
     "start_time": "2025-03-17T15:53:05.872445Z"
    }
   },
   "outputs": [],
   "source": [
    "table.update(\n",
    "    values={\n",
    "        \"text\": \"foo\"  # 👈 Only provide the fields you want to update.\n",
    "    },\n",
    "    filters={\"id\": chunk_id},\n",
    ")"
   ]
  },
  {
   "cell_type": "code",
   "execution_count": 13,
   "id": "99208275",
   "metadata": {
    "ExecuteTime": {
     "end_time": "2025-03-17T15:53:08.662325Z",
     "start_time": "2025-03-17T15:53:08.657188Z"
    }
   },
   "outputs": [
    {
     "data": {
      "text/plain": [
       "('foo',\n",
       " array([-0.00584331, -0.0131113 , -0.01458535, ..., -0.00907705,\n",
       "        -0.0073632 , -0.01883118], dtype=float32))"
      ]
     },
     "execution_count": 13,
     "metadata": {},
     "output_type": "execute_result"
    }
   ],
   "source": [
    "new_chunk = table.get(chunk_id)\n",
    "(new_chunk.text, new_chunk.text_vec)  # 👈 The vector field is updated automatically."
   ]
  },
  {
   "cell_type": "markdown",
   "id": "414e362b",
   "metadata": {},
   "source": [
    "### Delete Data"
   ]
  },
  {
   "cell_type": "code",
   "execution_count": 14,
   "id": "d1c01776adcf166b",
   "metadata": {
    "ExecuteTime": {
     "end_time": "2025-03-17T15:53:10.501672Z",
     "start_time": "2025-03-17T15:53:10.490353Z"
    }
   },
   "outputs": [
    {
     "data": {
      "text/plain": [
       "4"
      ]
     },
     "execution_count": 14,
     "metadata": {},
     "output_type": "execute_result"
    }
   ],
   "source": [
    "table.rows()"
   ]
  },
  {
   "cell_type": "code",
   "execution_count": 15,
   "id": "ebc3854b4428bda6",
   "metadata": {
    "ExecuteTime": {
     "end_time": "2025-03-17T15:53:12.466390Z",
     "start_time": "2025-03-17T15:53:12.445304Z"
    }
   },
   "outputs": [],
   "source": [
    "table.delete(filters={\"user_id\": 2})"
   ]
  },
  {
   "cell_type": "code",
   "execution_count": 16,
   "id": "27c539b8f693991",
   "metadata": {
    "ExecuteTime": {
     "end_time": "2025-03-17T15:53:14.157965Z",
     "start_time": "2025-03-17T15:53:14.146641Z"
    }
   },
   "outputs": [
    {
     "data": {
      "text/plain": [
       "2"
      ]
     },
     "execution_count": 16,
     "metadata": {},
     "output_type": "execute_result"
    }
   ],
   "source": [
    "table.rows()"
   ]
  },
  {
   "cell_type": "markdown",
   "id": "e31dadb5fc1ce970",
   "metadata": {},
   "source": [
    "### Execute raw SQL\n",
    "\n",
    "- Using `execute()` to execute INSERT / UPDATE / DELETE statement.\n",
    "- Using `query()` to execute SELECT / SHOW statement."
   ]
  },
  {
   "cell_type": "markdown",
   "id": "af4e09aba41bf12b",
   "metadata": {},
   "source": "#### Execute SQL"
  },
  {
   "cell_type": "markdown",
   "id": "c0be2cb573fa5ce7",
   "metadata": {},
   "source": "The `execute()` method will return a `SQLExecuteResult` instance."
  },
  {
   "cell_type": "code",
   "execution_count": 17,
   "id": "f4816866cdbbbcfa",
   "metadata": {
    "ExecuteTime": {
     "end_time": "2025-03-17T15:53:16.451690Z",
     "start_time": "2025-03-17T15:53:16.446242Z"
    }
   },
   "outputs": [
    {
     "data": {
      "text/plain": [
       "SQLExecuteResult(rowcount=1, success=True, message=None)"
      ]
     },
     "execution_count": 17,
     "metadata": {},
     "output_type": "execute_result"
    }
   ],
   "source": [
    "db.execute(\"INSERT INTO chunks(text, user_id) VALUES ('inserted from raw sql', 5)\")"
   ]
  },
  {
   "cell_type": "markdown",
   "id": "9ce8553c7bcb2dbe",
   "metadata": {},
   "source": "Both of the `execute` and `query` methods are support the **Parameterized SQL** feature, which help you avoid [SQL injection](https://en.wikipedia.org/wiki/SQL_injection) while using the dynamic SQL feature."
  },
  {
   "cell_type": "code",
   "execution_count": 18,
   "id": "eae7fedce0fc6ffc",
   "metadata": {
    "ExecuteTime": {
     "end_time": "2025-03-17T15:53:18.410607Z",
     "start_time": "2025-03-17T15:53:18.405464Z"
    }
   },
   "outputs": [
    {
     "data": {
      "text/plain": [
       "SQLExecuteResult(rowcount=1, success=True, message=None)"
      ]
     },
     "execution_count": 18,
     "metadata": {},
     "output_type": "execute_result"
    }
   ],
   "source": [
    "db.execute(\n",
    "    \"INSERT INTO chunks(text, user_id) VALUES (:text, :user_id)\",\n",
    "    {\"text\": \"inserted from dynamic sql\", \"user_id\": 6},\n",
    ")"
   ]
  },
  {
   "cell_type": "markdown",
   "id": "30d59b176cd97a70",
   "metadata": {},
   "source": "#### Query SQL"
  },
  {
   "cell_type": "markdown",
   "id": "31113270bb30267e",
   "metadata": {},
   "source": [
    "The `query()` method will return a `SQLQueryResult` instance with some helper methods:\n",
    "\n",
    "- `to_pandas()`\n",
    "- `to_list()`\n",
    "- `to_rows()`\n",
    "- `scalar()`\n",
    "\n",
    "The `to_pandas()` method to convert the query result to a `pandas.DataFrame`, which is displayed as human-friendly style on the notebook:"
   ]
  },
  {
   "cell_type": "code",
   "execution_count": 19,
   "id": "564ebe8e3b8fbee",
   "metadata": {
    "ExecuteTime": {
     "end_time": "2025-03-17T15:53:21.089269Z",
     "start_time": "2025-03-17T15:53:20.741326Z"
    }
   },
   "outputs": [
    {
     "data": {
      "text/html": [
       "<div>\n",
       "<style scoped>\n",
       "    .dataframe tbody tr th:only-of-type {\n",
       "        vertical-align: middle;\n",
       "    }\n",
       "\n",
       "    .dataframe tbody tr th {\n",
       "        vertical-align: top;\n",
       "    }\n",
       "\n",
       "    .dataframe thead th {\n",
       "        text-align: right;\n",
       "    }\n",
       "</style>\n",
       "<table border=\"1\" class=\"dataframe\">\n",
       "  <thead>\n",
       "    <tr style=\"text-align: right;\">\n",
       "      <th></th>\n",
       "      <th>id</th>\n",
       "      <th>text</th>\n",
       "      <th>user_id</th>\n",
       "    </tr>\n",
       "  </thead>\n",
       "  <tbody>\n",
       "    <tr>\n",
       "      <th>0</th>\n",
       "      <td>1</td>\n",
       "      <td>The quick brown fox jumps over the lazy dog</td>\n",
       "      <td>1</td>\n",
       "    </tr>\n",
       "    <tr>\n",
       "      <th>1</th>\n",
       "      <td>4</td>\n",
       "      <td>A dog and a fox play in the park</td>\n",
       "      <td>3</td>\n",
       "    </tr>\n",
       "    <tr>\n",
       "      <th>2</th>\n",
       "      <td>5</td>\n",
       "      <td>inserted from raw sql</td>\n",
       "      <td>5</td>\n",
       "    </tr>\n",
       "    <tr>\n",
       "      <th>3</th>\n",
       "      <td>6</td>\n",
       "      <td>inserted from dynamic sql</td>\n",
       "      <td>6</td>\n",
       "    </tr>\n",
       "  </tbody>\n",
       "</table>\n",
       "</div>"
      ],
      "text/plain": [
       "   id                                         text  user_id\n",
       "0   1  The quick brown fox jumps over the lazy dog        1\n",
       "1   4             A dog and a fox play in the park        3\n",
       "2   5                        inserted from raw sql        5\n",
       "3   6                    inserted from dynamic sql        6"
      ]
     },
     "execution_count": 19,
     "metadata": {},
     "output_type": "execute_result"
    }
   ],
   "source": [
    "db.query(\"SELECT id, text, user_id FROM chunks\").to_pandas()"
   ]
  },
  {
   "cell_type": "markdown",
   "id": "d2abab55038d069b",
   "metadata": {},
   "source": "The `to_list()` method will convert the query result into a list of dict."
  },
  {
   "cell_type": "code",
   "execution_count": 20,
   "id": "97991aed7bd13987",
   "metadata": {
    "ExecuteTime": {
     "end_time": "2025-03-17T15:53:24.165959Z",
     "start_time": "2025-03-17T15:53:24.154198Z"
    }
   },
   "outputs": [
    {
     "data": {
      "text/plain": [
       "[{'id': 4, 'text': 'A dog and a fox play in the park', 'user_id': 3}]"
      ]
     },
     "execution_count": 20,
     "metadata": {},
     "output_type": "execute_result"
    }
   ],
   "source": [
    "db.query(\n",
    "    \"SELECT id, text, user_id FROM chunks WHERE user_id = :user_id\", {\"user_id\": 3}\n",
    ").to_list()"
   ]
  },
  {
   "cell_type": "markdown",
   "id": "7238c2a0fca418bb",
   "metadata": {},
   "source": "The `to_rows` method will return a list of tuple, every tuple represent of one row of data."
  },
  {
   "cell_type": "code",
   "execution_count": 21,
   "id": "54514f65c6f769e1",
   "metadata": {
    "ExecuteTime": {
     "end_time": "2025-03-17T15:53:26.538600Z",
     "start_time": "2025-03-17T15:53:26.535236Z"
    }
   },
   "outputs": [
    {
     "data": {
      "text/plain": [
       "[('INFORMATION_SCHEMA',),\n",
       " ('METRICS_SCHEMA',),\n",
       " ('PERFORMANCE_SCHEMA',),\n",
       " ('mysql',),\n",
       " ('sys',),\n",
       " ('test',)]"
      ]
     },
     "execution_count": 21,
     "metadata": {},
     "output_type": "execute_result"
    }
   ],
   "source": [
    "db.query(\"SHOW DATABASES;\").to_rows()"
   ]
  },
  {
   "cell_type": "code",
   "execution_count": 22,
   "id": "b2f3113a0ea9bb1b",
   "metadata": {
    "ExecuteTime": {
     "end_time": "2025-03-17T15:53:28.571065Z",
     "start_time": "2025-03-17T15:53:28.558255Z"
    }
   },
   "outputs": [
    {
     "data": {
      "text/plain": [
       "4"
      ]
     },
     "execution_count": 22,
     "metadata": {},
     "output_type": "execute_result"
    }
   ],
   "source": [
    "db.query(\"SELECT COUNT(*) FROM chunks;\").scalar()"
   ]
  },
  {
   "cell_type": "markdown",
   "id": "882d642830bd0f11",
   "metadata": {},
   "source": "### Table Management"
  },
  {
   "cell_type": "markdown",
   "id": "7453dac3a51e0481",
   "metadata": {},
   "source": "#### List tables"
  },
  {
   "cell_type": "code",
   "execution_count": 23,
   "id": "8523e1eb22bee8db",
   "metadata": {
    "ExecuteTime": {
     "end_time": "2025-03-17T15:53:31.082265Z",
     "start_time": "2025-03-17T15:53:31.075761Z"
    }
   },
   "outputs": [
    {
     "data": {
      "text/plain": [
       "['chunks',\n",
       " 'chunks_438476e0-74f2-480f-b220-573e3f663d52',\n",
       " 'chunks_655b6cf3-8b30-4839-ba8b-5ed3c502f30e',\n",
       " 'documents',\n",
       " 'entities_438476e0-74f2-480f-b220-573e3f663d52',\n",
       " 'entities_655b6cf3-8b30-4839-ba8b-5ed3c502f30e',\n",
       " 'relationships_438476e0-74f2-480f-b220-573e3f663d52',\n",
       " 'relationships_655b6cf3-8b30-4839-ba8b-5ed3c502f30e',\n",
       " 'test_auto_embedding',\n",
       " 'test_get_data',\n",
       " 'test_raw_sql',\n",
       " 'test_vector_search',\n",
       " 'users']"
      ]
     },
     "execution_count": 23,
     "metadata": {},
     "output_type": "execute_result"
    }
   ],
   "source": [
    "db.table_names()"
   ]
  },
  {
   "cell_type": "markdown",
   "id": "1bb3f62740e78595",
   "metadata": {},
   "source": [
    "#### Truncate table\n",
    "\n",
    "Clear all data in the table:"
   ]
  },
  {
   "cell_type": "code",
   "execution_count": 24,
   "id": "c33600be01633b4e",
   "metadata": {
    "ExecuteTime": {
     "end_time": "2025-03-17T15:53:33.716890Z",
     "start_time": "2025-03-17T15:53:33.649517Z"
    }
   },
   "outputs": [
    {
     "data": {
      "text/plain": [
       "0"
      ]
     },
     "execution_count": 24,
     "metadata": {},
     "output_type": "execute_result"
    }
   ],
   "source": [
    "table.truncate()\n",
    "table.rows()"
   ]
  },
  {
   "cell_type": "markdown",
   "id": "761680f7ea056b10",
   "metadata": {},
   "source": "#### Drop table\n"
  },
  {
   "cell_type": "code",
   "id": "56317418ca9cbbe4",
   "metadata": {
    "ExecuteTime": {
     "end_time": "2025-03-17T16:07:58.665801Z",
     "start_time": "2025-03-17T16:07:58.571469Z"
    }
   },
   "source": [
    "db.drop_table(\"chunks\")"
   ],
   "outputs": [
    {
     "data": {
      "text/plain": [
       "SQLExecuteResult(rowcount=0, success=True, message=None)"
      ]
     },
     "execution_count": 31,
     "metadata": {},
     "output_type": "execute_result"
    }
   ],
   "execution_count": 31
  }
 ],
 "metadata": {
  "kernelspec": {
   "display_name": ".venv",
   "language": "python",
   "name": "python3"
  },
  "language_info": {
   "codemirror_mode": {
    "name": "ipython",
    "version": 3
   },
   "file_extension": ".py",
   "mimetype": "text/x-python",
   "name": "python",
   "nbconvert_exporter": "python",
   "pygments_lexer": "ipython3",
   "version": "3.11.8"
  }
 },
 "nbformat": 4,
 "nbformat_minor": 5
}
