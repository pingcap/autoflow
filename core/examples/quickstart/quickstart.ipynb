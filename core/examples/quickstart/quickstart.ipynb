{
 "cells": [
  {
   "cell_type": "markdown",
   "id": "b7e2255151321350",
   "metadata": {},
   "source": [
    "# Autoflow\n",
    "\n",
    "Autoflow is a RAG framework supported:\n",
    "\n",
    "- Vector Search Based RAG\n",
    "- Knowledge Graph Based RAG (aka. GraphRAG)\n",
    "- Knowledge Base and Document Management"
   ]
  },
  {
   "cell_type": "markdown",
   "id": "f4c3f49f",
   "metadata": {},
   "source": [
    "## Installation"
   ]
  },
  {
   "cell_type": "code",
   "execution_count": null,
   "id": "fa2fbb3fefbebf0f",
   "metadata": {},
   "outputs": [],
   "source": [
    "%pip install uv"
   ]
  },
  {
   "cell_type": "code",
   "execution_count": 4,
   "id": "7bbed79850462cfe",
   "metadata": {
    "ExecuteTime": {
     "end_time": "2025-03-25T17:17:53.746139Z",
     "start_time": "2025-03-25T17:17:49.877520Z"
    }
   },
   "outputs": [
    {
     "name": "stdout",
     "output_type": "stream",
     "text": [
      "Collecting autoflow-ai==0.0.1.dev33\r\n",
      "  Downloading autoflow_ai-0.0.1.dev33-py3-none-any.whl.metadata (885 bytes)\r\n",
      "Requirement already satisfied: deepdiff>=8.2.0 in /Users/liangzhiyuan/Projects/autoflow.ai/core/.venv/lib/python3.12/site-packages (from autoflow-ai==0.0.1.dev33) (8.3.0)\r\n",
      "Requirement already satisfied: litellm>=1.61.11 in /Users/liangzhiyuan/Projects/autoflow.ai/core/.venv/lib/python3.12/site-packages (from autoflow-ai==0.0.1.dev33) (1.63.7)\r\n",
      "Requirement already satisfied: llama-index-core>=0.12.23.post2 in /Users/liangzhiyuan/Projects/autoflow.ai/core/.venv/lib/python3.12/site-packages (from autoflow-ai==0.0.1.dev33) (0.12.24)\r\n",
      "Requirement already satisfied: llama-index-llms-litellm>=0.3.0 in /Users/liangzhiyuan/Projects/autoflow.ai/core/.venv/lib/python3.12/site-packages (from autoflow-ai==0.0.1.dev33) (0.3.0)\r\n",
      "Requirement already satisfied: pytidb-experimental==0.0.1.dev5 in /Users/liangzhiyuan/Projects/autoflow.ai/core/.venv/lib/python3.12/site-packages (from autoflow-ai==0.0.1.dev33) (0.0.1.dev5)\r\n",
      "Requirement already satisfied: pymysql>=1.1.1 in /Users/liangzhiyuan/Projects/autoflow.ai/core/.venv/lib/python3.12/site-packages (from pytidb-experimental==0.0.1.dev5->autoflow-ai==0.0.1.dev33) (1.1.1)\r\n",
      "Requirement already satisfied: sqlmodel==0.0.22 in /Users/liangzhiyuan/Projects/autoflow.ai/core/.venv/lib/python3.12/site-packages (from pytidb-experimental==0.0.1.dev5->autoflow-ai==0.0.1.dev33) (0.0.22)\r\n",
      "Requirement already satisfied: tidb-vector>=0.0.14 in /Users/liangzhiyuan/Projects/autoflow.ai/core/.venv/lib/python3.12/site-packages (from pytidb-experimental==0.0.1.dev5->autoflow-ai==0.0.1.dev33) (0.0.14)\r\n",
      "Requirement already satisfied: SQLAlchemy<2.1.0,>=2.0.14 in /Users/liangzhiyuan/Projects/autoflow.ai/core/.venv/lib/python3.12/site-packages (from sqlmodel==0.0.22->pytidb-experimental==0.0.1.dev5->autoflow-ai==0.0.1.dev33) (2.0.39)\r\n",
      "Requirement already satisfied: pydantic<3.0.0,>=1.10.13 in /Users/liangzhiyuan/Projects/autoflow.ai/core/.venv/lib/python3.12/site-packages (from sqlmodel==0.0.22->pytidb-experimental==0.0.1.dev5->autoflow-ai==0.0.1.dev33) (2.10.6)\r\n",
      "Requirement already satisfied: orderly-set<6,>=5.3.0 in /Users/liangzhiyuan/Projects/autoflow.ai/core/.venv/lib/python3.12/site-packages (from deepdiff>=8.2.0->autoflow-ai==0.0.1.dev33) (5.3.0)\r\n",
      "Requirement already satisfied: aiohttp in /Users/liangzhiyuan/Projects/autoflow.ai/core/.venv/lib/python3.12/site-packages (from litellm>=1.61.11->autoflow-ai==0.0.1.dev33) (3.11.13)\r\n",
      "Requirement already satisfied: click in /Users/liangzhiyuan/Projects/autoflow.ai/core/.venv/lib/python3.12/site-packages (from litellm>=1.61.11->autoflow-ai==0.0.1.dev33) (8.1.8)\r\n",
      "Requirement already satisfied: httpx>=0.23.0 in /Users/liangzhiyuan/Projects/autoflow.ai/core/.venv/lib/python3.12/site-packages (from litellm>=1.61.11->autoflow-ai==0.0.1.dev33) (0.28.1)\r\n",
      "Requirement already satisfied: importlib-metadata>=6.8.0 in /Users/liangzhiyuan/Projects/autoflow.ai/core/.venv/lib/python3.12/site-packages (from litellm>=1.61.11->autoflow-ai==0.0.1.dev33) (8.6.1)\r\n",
      "Requirement already satisfied: jinja2<4.0.0,>=3.1.2 in /Users/liangzhiyuan/Projects/autoflow.ai/core/.venv/lib/python3.12/site-packages (from litellm>=1.61.11->autoflow-ai==0.0.1.dev33) (3.1.6)\r\n",
      "Requirement already satisfied: jsonschema<5.0.0,>=4.22.0 in /Users/liangzhiyuan/Projects/autoflow.ai/core/.venv/lib/python3.12/site-packages (from litellm>=1.61.11->autoflow-ai==0.0.1.dev33) (4.23.0)\r\n",
      "Requirement already satisfied: openai>=1.61.0 in /Users/liangzhiyuan/Projects/autoflow.ai/core/.venv/lib/python3.12/site-packages (from litellm>=1.61.11->autoflow-ai==0.0.1.dev33) (1.66.3)\r\n",
      "Requirement already satisfied: python-dotenv>=0.2.0 in /Users/liangzhiyuan/Projects/autoflow.ai/core/.venv/lib/python3.12/site-packages (from litellm>=1.61.11->autoflow-ai==0.0.1.dev33) (1.0.1)\r\n",
      "Requirement already satisfied: tiktoken>=0.7.0 in /Users/liangzhiyuan/Projects/autoflow.ai/core/.venv/lib/python3.12/site-packages (from litellm>=1.61.11->autoflow-ai==0.0.1.dev33) (0.9.0)\r\n",
      "Requirement already satisfied: tokenizers in /Users/liangzhiyuan/Projects/autoflow.ai/core/.venv/lib/python3.12/site-packages (from litellm>=1.61.11->autoflow-ai==0.0.1.dev33) (0.21.0)\r\n",
      "Requirement already satisfied: PyYAML>=6.0.1 in /Users/liangzhiyuan/Projects/autoflow.ai/core/.venv/lib/python3.12/site-packages (from llama-index-core>=0.12.23.post2->autoflow-ai==0.0.1.dev33) (6.0.2)\r\n",
      "Requirement already satisfied: dataclasses-json in /Users/liangzhiyuan/Projects/autoflow.ai/core/.venv/lib/python3.12/site-packages (from llama-index-core>=0.12.23.post2->autoflow-ai==0.0.1.dev33) (0.6.7)\r\n",
      "Requirement already satisfied: deprecated>=1.2.9.3 in /Users/liangzhiyuan/Projects/autoflow.ai/core/.venv/lib/python3.12/site-packages (from llama-index-core>=0.12.23.post2->autoflow-ai==0.0.1.dev33) (1.2.18)\r\n",
      "Requirement already satisfied: dirtyjson<2.0.0,>=1.0.8 in /Users/liangzhiyuan/Projects/autoflow.ai/core/.venv/lib/python3.12/site-packages (from llama-index-core>=0.12.23.post2->autoflow-ai==0.0.1.dev33) (1.0.8)\r\n",
      "Requirement already satisfied: filetype<2.0.0,>=1.2.0 in /Users/liangzhiyuan/Projects/autoflow.ai/core/.venv/lib/python3.12/site-packages (from llama-index-core>=0.12.23.post2->autoflow-ai==0.0.1.dev33) (1.2.0)\r\n",
      "Requirement already satisfied: fsspec>=2023.5.0 in /Users/liangzhiyuan/Projects/autoflow.ai/core/.venv/lib/python3.12/site-packages (from llama-index-core>=0.12.23.post2->autoflow-ai==0.0.1.dev33) (2024.6.1)\r\n",
      "Requirement already satisfied: nest-asyncio<2.0.0,>=1.5.8 in /Users/liangzhiyuan/Projects/autoflow.ai/core/.venv/lib/python3.12/site-packages (from llama-index-core>=0.12.23.post2->autoflow-ai==0.0.1.dev33) (1.6.0)\r\n",
      "Requirement already satisfied: networkx>=3.0 in /Users/liangzhiyuan/Projects/autoflow.ai/core/.venv/lib/python3.12/site-packages (from llama-index-core>=0.12.23.post2->autoflow-ai==0.0.1.dev33) (3.4.2)\r\n",
      "Requirement already satisfied: nltk>3.8.1 in /Users/liangzhiyuan/Projects/autoflow.ai/core/.venv/lib/python3.12/site-packages (from llama-index-core>=0.12.23.post2->autoflow-ai==0.0.1.dev33) (3.9.1)\r\n",
      "Requirement already satisfied: numpy in /Users/liangzhiyuan/Projects/autoflow.ai/core/.venv/lib/python3.12/site-packages (from llama-index-core>=0.12.23.post2->autoflow-ai==0.0.1.dev33) (1.26.4)\r\n",
      "Requirement already satisfied: pillow>=9.0.0 in /Users/liangzhiyuan/Projects/autoflow.ai/core/.venv/lib/python3.12/site-packages (from llama-index-core>=0.12.23.post2->autoflow-ai==0.0.1.dev33) (11.1.0)\r\n",
      "Requirement already satisfied: requests>=2.31.0 in /Users/liangzhiyuan/Projects/autoflow.ai/core/.venv/lib/python3.12/site-packages (from llama-index-core>=0.12.23.post2->autoflow-ai==0.0.1.dev33) (2.32.3)\r\n",
      "Requirement already satisfied: tenacity!=8.4.0,<10.0.0,>=8.2.0 in /Users/liangzhiyuan/Projects/autoflow.ai/core/.venv/lib/python3.12/site-packages (from llama-index-core>=0.12.23.post2->autoflow-ai==0.0.1.dev33) (9.0.0)\r\n",
      "Requirement already satisfied: tqdm<5.0.0,>=4.66.1 in /Users/liangzhiyuan/Projects/autoflow.ai/core/.venv/lib/python3.12/site-packages (from llama-index-core>=0.12.23.post2->autoflow-ai==0.0.1.dev33) (4.67.1)\r\n",
      "Requirement already satisfied: typing-extensions>=4.5.0 in /Users/liangzhiyuan/Projects/autoflow.ai/core/.venv/lib/python3.12/site-packages (from llama-index-core>=0.12.23.post2->autoflow-ai==0.0.1.dev33) (4.12.2)\r\n",
      "Requirement already satisfied: typing-inspect>=0.8.0 in /Users/liangzhiyuan/Projects/autoflow.ai/core/.venv/lib/python3.12/site-packages (from llama-index-core>=0.12.23.post2->autoflow-ai==0.0.1.dev33) (0.9.0)\r\n",
      "Requirement already satisfied: wrapt in /Users/liangzhiyuan/Projects/autoflow.ai/core/.venv/lib/python3.12/site-packages (from llama-index-core>=0.12.23.post2->autoflow-ai==0.0.1.dev33) (1.17.2)\r\n",
      "Requirement already satisfied: aiohappyeyeballs>=2.3.0 in /Users/liangzhiyuan/Projects/autoflow.ai/core/.venv/lib/python3.12/site-packages (from aiohttp->litellm>=1.61.11->autoflow-ai==0.0.1.dev33) (2.6.1)\r\n",
      "Requirement already satisfied: aiosignal>=1.1.2 in /Users/liangzhiyuan/Projects/autoflow.ai/core/.venv/lib/python3.12/site-packages (from aiohttp->litellm>=1.61.11->autoflow-ai==0.0.1.dev33) (1.3.2)\r\n",
      "Requirement already satisfied: attrs>=17.3.0 in /Users/liangzhiyuan/Projects/autoflow.ai/core/.venv/lib/python3.12/site-packages (from aiohttp->litellm>=1.61.11->autoflow-ai==0.0.1.dev33) (25.2.0)\r\n",
      "Requirement already satisfied: frozenlist>=1.1.1 in /Users/liangzhiyuan/Projects/autoflow.ai/core/.venv/lib/python3.12/site-packages (from aiohttp->litellm>=1.61.11->autoflow-ai==0.0.1.dev33) (1.5.0)\r\n",
      "Requirement already satisfied: multidict<7.0,>=4.5 in /Users/liangzhiyuan/Projects/autoflow.ai/core/.venv/lib/python3.12/site-packages (from aiohttp->litellm>=1.61.11->autoflow-ai==0.0.1.dev33) (6.1.0)\r\n",
      "Requirement already satisfied: propcache>=0.2.0 in /Users/liangzhiyuan/Projects/autoflow.ai/core/.venv/lib/python3.12/site-packages (from aiohttp->litellm>=1.61.11->autoflow-ai==0.0.1.dev33) (0.3.0)\r\n",
      "Requirement already satisfied: yarl<2.0,>=1.17.0 in /Users/liangzhiyuan/Projects/autoflow.ai/core/.venv/lib/python3.12/site-packages (from aiohttp->litellm>=1.61.11->autoflow-ai==0.0.1.dev33) (1.18.3)\r\n",
      "Requirement already satisfied: anyio in /Users/liangzhiyuan/Projects/autoflow.ai/core/.venv/lib/python3.12/site-packages (from httpx>=0.23.0->litellm>=1.61.11->autoflow-ai==0.0.1.dev33) (4.8.0)\r\n",
      "Requirement already satisfied: certifi in /Users/liangzhiyuan/Projects/autoflow.ai/core/.venv/lib/python3.12/site-packages (from httpx>=0.23.0->litellm>=1.61.11->autoflow-ai==0.0.1.dev33) (2025.1.31)\r\n",
      "Requirement already satisfied: httpcore==1.* in /Users/liangzhiyuan/Projects/autoflow.ai/core/.venv/lib/python3.12/site-packages (from httpx>=0.23.0->litellm>=1.61.11->autoflow-ai==0.0.1.dev33) (1.0.7)\r\n",
      "Requirement already satisfied: idna in /Users/liangzhiyuan/Projects/autoflow.ai/core/.venv/lib/python3.12/site-packages (from httpx>=0.23.0->litellm>=1.61.11->autoflow-ai==0.0.1.dev33) (3.10)\r\n",
      "Requirement already satisfied: h11<0.15,>=0.13 in /Users/liangzhiyuan/Projects/autoflow.ai/core/.venv/lib/python3.12/site-packages (from httpcore==1.*->httpx>=0.23.0->litellm>=1.61.11->autoflow-ai==0.0.1.dev33) (0.14.0)\r\n",
      "Requirement already satisfied: zipp>=3.20 in /Users/liangzhiyuan/Projects/autoflow.ai/core/.venv/lib/python3.12/site-packages (from importlib-metadata>=6.8.0->litellm>=1.61.11->autoflow-ai==0.0.1.dev33) (3.21.0)\r\n",
      "Requirement already satisfied: MarkupSafe>=2.0 in /Users/liangzhiyuan/Projects/autoflow.ai/core/.venv/lib/python3.12/site-packages (from jinja2<4.0.0,>=3.1.2->litellm>=1.61.11->autoflow-ai==0.0.1.dev33) (3.0.2)\r\n",
      "Requirement already satisfied: jsonschema-specifications>=2023.03.6 in /Users/liangzhiyuan/Projects/autoflow.ai/core/.venv/lib/python3.12/site-packages (from jsonschema<5.0.0,>=4.22.0->litellm>=1.61.11->autoflow-ai==0.0.1.dev33) (2024.10.1)\r\n",
      "Requirement already satisfied: referencing>=0.28.4 in /Users/liangzhiyuan/Projects/autoflow.ai/core/.venv/lib/python3.12/site-packages (from jsonschema<5.0.0,>=4.22.0->litellm>=1.61.11->autoflow-ai==0.0.1.dev33) (0.36.2)\r\n",
      "Requirement already satisfied: rpds-py>=0.7.1 in /Users/liangzhiyuan/Projects/autoflow.ai/core/.venv/lib/python3.12/site-packages (from jsonschema<5.0.0,>=4.22.0->litellm>=1.61.11->autoflow-ai==0.0.1.dev33) (0.23.1)\r\n",
      "Requirement already satisfied: joblib in /Users/liangzhiyuan/Projects/autoflow.ai/core/.venv/lib/python3.12/site-packages (from nltk>3.8.1->llama-index-core>=0.12.23.post2->autoflow-ai==0.0.1.dev33) (1.4.2)\r\n",
      "Requirement already satisfied: regex>=2021.8.3 in /Users/liangzhiyuan/Projects/autoflow.ai/core/.venv/lib/python3.12/site-packages (from nltk>3.8.1->llama-index-core>=0.12.23.post2->autoflow-ai==0.0.1.dev33) (2024.11.6)\r\n",
      "Requirement already satisfied: distro<2,>=1.7.0 in /Users/liangzhiyuan/Projects/autoflow.ai/core/.venv/lib/python3.12/site-packages (from openai>=1.61.0->litellm>=1.61.11->autoflow-ai==0.0.1.dev33) (1.9.0)\r\n",
      "Requirement already satisfied: jiter<1,>=0.4.0 in /Users/liangzhiyuan/Projects/autoflow.ai/core/.venv/lib/python3.12/site-packages (from openai>=1.61.0->litellm>=1.61.11->autoflow-ai==0.0.1.dev33) (0.9.0)\r\n",
      "Requirement already satisfied: sniffio in /Users/liangzhiyuan/Projects/autoflow.ai/core/.venv/lib/python3.12/site-packages (from openai>=1.61.0->litellm>=1.61.11->autoflow-ai==0.0.1.dev33) (1.3.1)\r\n",
      "Requirement already satisfied: annotated-types>=0.6.0 in /Users/liangzhiyuan/Projects/autoflow.ai/core/.venv/lib/python3.12/site-packages (from pydantic<3.0.0,>=1.10.13->sqlmodel==0.0.22->pytidb-experimental==0.0.1.dev5->autoflow-ai==0.0.1.dev33) (0.7.0)\r\n",
      "Requirement already satisfied: pydantic-core==2.27.2 in /Users/liangzhiyuan/Projects/autoflow.ai/core/.venv/lib/python3.12/site-packages (from pydantic<3.0.0,>=1.10.13->sqlmodel==0.0.22->pytidb-experimental==0.0.1.dev5->autoflow-ai==0.0.1.dev33) (2.27.2)\r\n",
      "Requirement already satisfied: charset-normalizer<4,>=2 in /Users/liangzhiyuan/Projects/autoflow.ai/core/.venv/lib/python3.12/site-packages (from requests>=2.31.0->llama-index-core>=0.12.23.post2->autoflow-ai==0.0.1.dev33) (3.4.1)\r\n",
      "Requirement already satisfied: urllib3<3,>=1.21.1 in /Users/liangzhiyuan/Projects/autoflow.ai/core/.venv/lib/python3.12/site-packages (from requests>=2.31.0->llama-index-core>=0.12.23.post2->autoflow-ai==0.0.1.dev33) (2.3.0)\r\n",
      "Requirement already satisfied: greenlet!=0.4.17 in /Users/liangzhiyuan/Projects/autoflow.ai/core/.venv/lib/python3.12/site-packages (from SQLAlchemy[asyncio]>=1.4.49->llama-index-core>=0.12.23.post2->autoflow-ai==0.0.1.dev33) (3.1.1)\r\n",
      "Requirement already satisfied: mypy-extensions>=0.3.0 in /Users/liangzhiyuan/Projects/autoflow.ai/core/.venv/lib/python3.12/site-packages (from typing-inspect>=0.8.0->llama-index-core>=0.12.23.post2->autoflow-ai==0.0.1.dev33) (1.0.0)\r\n",
      "Requirement already satisfied: marshmallow<4.0.0,>=3.18.0 in /Users/liangzhiyuan/Projects/autoflow.ai/core/.venv/lib/python3.12/site-packages (from dataclasses-json->llama-index-core>=0.12.23.post2->autoflow-ai==0.0.1.dev33) (3.26.1)\r\n",
      "Requirement already satisfied: huggingface-hub<1.0,>=0.16.4 in /Users/liangzhiyuan/Projects/autoflow.ai/core/.venv/lib/python3.12/site-packages (from tokenizers->litellm>=1.61.11->autoflow-ai==0.0.1.dev33) (0.29.3)\r\n",
      "Requirement already satisfied: filelock in /Users/liangzhiyuan/Projects/autoflow.ai/core/.venv/lib/python3.12/site-packages (from huggingface-hub<1.0,>=0.16.4->tokenizers->litellm>=1.61.11->autoflow-ai==0.0.1.dev33) (3.17.0)\r\n",
      "Requirement already satisfied: packaging>=20.9 in /Users/liangzhiyuan/Projects/autoflow.ai/core/.venv/lib/python3.12/site-packages (from huggingface-hub<1.0,>=0.16.4->tokenizers->litellm>=1.61.11->autoflow-ai==0.0.1.dev33) (24.2)\r\n",
      "Downloading autoflow_ai-0.0.1.dev33-py3-none-any.whl (62 kB)\r\n",
      "Installing collected packages: autoflow-ai\r\n",
      "  Attempting uninstall: autoflow-ai\r\n",
      "    Found existing installation: autoflow-ai 0.0.1.dev32\r\n",
      "    Uninstalling autoflow-ai-0.0.1.dev32:\r\n",
      "      Successfully uninstalled autoflow-ai-0.0.1.dev32\r\n",
      "Successfully installed autoflow-ai-0.0.1.dev33\r\n",
      "Note: you may need to restart the kernel to use updated packages.\n",
      "zsh:1: no matches found: autoflow-ai[experiment]==0.0.1.dev33\r\n",
      "Note: you may need to restart the kernel to use updated packages.\n",
      "Collecting ipywidgets\r\n",
      "  Using cached ipywidgets-8.1.5-py3-none-any.whl.metadata (2.3 kB)\r\n",
      "Requirement already satisfied: comm>=0.1.3 in /Users/liangzhiyuan/Projects/autoflow.ai/core/.venv/lib/python3.12/site-packages (from ipywidgets) (0.2.2)\r\n",
      "Requirement already satisfied: ipython>=6.1.0 in /Users/liangzhiyuan/Projects/autoflow.ai/core/.venv/lib/python3.12/site-packages (from ipywidgets) (9.0.2)\r\n",
      "Requirement already satisfied: traitlets>=4.3.1 in /Users/liangzhiyuan/Projects/autoflow.ai/core/.venv/lib/python3.12/site-packages (from ipywidgets) (5.14.3)\r\n",
      "Collecting widgetsnbextension~=4.0.12 (from ipywidgets)\r\n",
      "  Using cached widgetsnbextension-4.0.13-py3-none-any.whl.metadata (1.6 kB)\r\n",
      "Collecting jupyterlab-widgets~=3.0.12 (from ipywidgets)\r\n",
      "  Using cached jupyterlab_widgets-3.0.13-py3-none-any.whl.metadata (4.1 kB)\r\n",
      "Requirement already satisfied: decorator in /Users/liangzhiyuan/Projects/autoflow.ai/core/.venv/lib/python3.12/site-packages (from ipython>=6.1.0->ipywidgets) (5.2.1)\r\n",
      "Requirement already satisfied: ipython-pygments-lexers in /Users/liangzhiyuan/Projects/autoflow.ai/core/.venv/lib/python3.12/site-packages (from ipython>=6.1.0->ipywidgets) (1.1.1)\r\n",
      "Requirement already satisfied: jedi>=0.16 in /Users/liangzhiyuan/Projects/autoflow.ai/core/.venv/lib/python3.12/site-packages (from ipython>=6.1.0->ipywidgets) (0.19.2)\r\n",
      "Requirement already satisfied: matplotlib-inline in /Users/liangzhiyuan/Projects/autoflow.ai/core/.venv/lib/python3.12/site-packages (from ipython>=6.1.0->ipywidgets) (0.1.7)\r\n",
      "Requirement already satisfied: pexpect>4.3 in /Users/liangzhiyuan/Projects/autoflow.ai/core/.venv/lib/python3.12/site-packages (from ipython>=6.1.0->ipywidgets) (4.9.0)\r\n",
      "Requirement already satisfied: prompt_toolkit<3.1.0,>=3.0.41 in /Users/liangzhiyuan/Projects/autoflow.ai/core/.venv/lib/python3.12/site-packages (from ipython>=6.1.0->ipywidgets) (3.0.50)\r\n",
      "Requirement already satisfied: pygments>=2.4.0 in /Users/liangzhiyuan/Projects/autoflow.ai/core/.venv/lib/python3.12/site-packages (from ipython>=6.1.0->ipywidgets) (2.19.1)\r\n",
      "Requirement already satisfied: stack_data in /Users/liangzhiyuan/Projects/autoflow.ai/core/.venv/lib/python3.12/site-packages (from ipython>=6.1.0->ipywidgets) (0.6.3)\r\n",
      "Requirement already satisfied: parso<0.9.0,>=0.8.4 in /Users/liangzhiyuan/Projects/autoflow.ai/core/.venv/lib/python3.12/site-packages (from jedi>=0.16->ipython>=6.1.0->ipywidgets) (0.8.4)\r\n",
      "Requirement already satisfied: ptyprocess>=0.5 in /Users/liangzhiyuan/Projects/autoflow.ai/core/.venv/lib/python3.12/site-packages (from pexpect>4.3->ipython>=6.1.0->ipywidgets) (0.7.0)\r\n",
      "Requirement already satisfied: wcwidth in /Users/liangzhiyuan/Projects/autoflow.ai/core/.venv/lib/python3.12/site-packages (from prompt_toolkit<3.1.0,>=3.0.41->ipython>=6.1.0->ipywidgets) (0.2.13)\r\n",
      "Requirement already satisfied: executing>=1.2.0 in /Users/liangzhiyuan/Projects/autoflow.ai/core/.venv/lib/python3.12/site-packages (from stack_data->ipython>=6.1.0->ipywidgets) (2.2.0)\r\n",
      "Requirement already satisfied: asttokens>=2.1.0 in /Users/liangzhiyuan/Projects/autoflow.ai/core/.venv/lib/python3.12/site-packages (from stack_data->ipython>=6.1.0->ipywidgets) (3.0.0)\r\n",
      "Requirement already satisfied: pure-eval in /Users/liangzhiyuan/Projects/autoflow.ai/core/.venv/lib/python3.12/site-packages (from stack_data->ipython>=6.1.0->ipywidgets) (0.2.3)\r\n",
      "Using cached ipywidgets-8.1.5-py3-none-any.whl (139 kB)\r\n",
      "Using cached jupyterlab_widgets-3.0.13-py3-none-any.whl (214 kB)\r\n",
      "Using cached widgetsnbextension-4.0.13-py3-none-any.whl (2.3 MB)\r\n",
      "Installing collected packages: widgetsnbextension, jupyterlab-widgets, ipywidgets\r\n",
      "Successfully installed ipywidgets-8.1.5 jupyterlab-widgets-3.0.13 widgetsnbextension-4.0.13\r\n",
      "Note: you may need to restart the kernel to use updated packages.\n"
     ]
    }
   ],
   "source": [
    "%pip install autoflow-ai==0.0.1.dev33\n",
    "%pip install autoflow-ai[experiment]==0.0.1.dev33\n",
    "%pip install ipywidgets"
   ]
  },
  {
   "cell_type": "markdown",
   "id": "0b6d5be6",
   "metadata": {},
   "source": [
    "## Prerequisites\n",
    "\n",
    "- Go [tidbcloud.com](https://tidbcloud.com/) or using [tiup playground](https://docs.pingcap.com/tidb/stable/tiup-playground/) to create a free TiDB database cluster.\n",
    "- Go [OpenAI platform](https://platform.openai.com/api-keys) to create your API key."
   ]
  },
  {
   "cell_type": "markdown",
   "id": "66ea056f213efcae",
   "metadata": {},
   "source": [
    "#### For Jupyter Notebook\n",
    "\n",
    "Configuration can be provided through environment variables, or using `.env`:"
   ]
  },
  {
   "cell_type": "code",
   "execution_count": null,
   "id": "7de9ab2c65f1880e",
   "metadata": {},
   "outputs": [],
   "source": [
    "# Create .env file, then edit your .env, for example:\n",
    "# $ cat .env\n",
    "# TIDB_HOST=localhost\n",
    "# TIDB_PORT=4000\n",
    "# TIDB_USERNAME=root\n",
    "# TIDB_PASSWORD=\n",
    "# OPENAI_API_KEY='your_openai_api_key'\n",
    "%cp .env.example .env"
   ]
  },
  {
   "cell_type": "code",
   "execution_count": 1,
   "id": "b6cdb4d5",
   "metadata": {
    "ExecuteTime": {
     "end_time": "2025-03-26T01:47:17.744726Z",
     "start_time": "2025-03-26T01:47:17.726690Z"
    }
   },
   "outputs": [
    {
     "data": {
      "text/plain": [
       "True"
      ]
     },
     "execution_count": 1,
     "metadata": {},
     "output_type": "execute_result"
    }
   ],
   "source": [
    "import os\n",
    "import dotenv\n",
    "\n",
    "dotenv.load_dotenv()"
   ]
  },
  {
   "cell_type": "markdown",
   "id": "ae015b5d518734b",
   "metadata": {},
   "source": [
    "#### For Google Colab"
   ]
  },
  {
   "cell_type": "code",
   "execution_count": null,
   "id": "813b85ae694284a5",
   "metadata": {},
   "outputs": [],
   "source": [
    "from google.colab import userdata\n",
    "\n",
    "os.environ[\"TIDB_HOST\"] = userdata.get(\"TIDB_HOST\")\n",
    "os.environ[\"TIDB_PORT\"] = userdata.get(\"TIDB_PORT\")\n",
    "os.environ[\"TIDB_USERNAME\"] = userdata.get(\"TIDB_USERNAME\")\n",
    "os.environ[\"TIDB_PASSWORD\"] = userdata.get(\"TIDB_PASSWORD\")\n",
    "os.environ[\"OPENAI_API_KEY\"] = userdata.get(\"OPENAI_API_KEY\")"
   ]
  },
  {
   "cell_type": "markdown",
   "id": "f8897854c897bf17",
   "metadata": {},
   "source": [
    "## Quickstart"
   ]
  },
  {
   "cell_type": "markdown",
   "id": "a38fde21",
   "metadata": {},
   "source": [
    "### Init Autoflow"
   ]
  },
  {
   "cell_type": "code",
   "execution_count": 2,
   "id": "84f43a00",
   "metadata": {
    "ExecuteTime": {
     "end_time": "2025-03-26T01:47:22.342773Z",
     "start_time": "2025-03-26T01:47:20.250678Z"
    }
   },
   "outputs": [],
   "source": [
    "import os\n",
    "from autoflow import Autoflow\n",
    "\n",
    "af = Autoflow.from_config(\n",
    "    db_host=os.getenv(\"TIDB_HOST\"),\n",
    "    db_port=int(os.getenv(\"TIDB_PORT\")),\n",
    "    db_username=os.getenv(\"TIDB_USERNAME\"),\n",
    "    db_password=os.getenv(\"TIDB_PASSWORD\"),\n",
    "    db_name=os.getenv(\"TIDB_DATABASE\"),\n",
    ")"
   ]
  },
  {
   "cell_type": "markdown",
   "id": "5afea9b7",
   "metadata": {},
   "source": [
    "### Create knowledge base"
   ]
  },
  {
   "cell_type": "code",
   "execution_count": 3,
   "id": "9e1ff63c",
   "metadata": {
    "ExecuteTime": {
     "end_time": "2025-03-26T01:47:24.510965Z",
     "start_time": "2025-03-26T01:47:24.237194Z"
    }
   },
   "outputs": [
    {
     "ename": "ModuleNotFoundError",
     "evalue": "No module named 'autoflow.models.entity'",
     "output_type": "error",
     "traceback": [
      "\u001b[31m---------------------------------------------------------------------------\u001b[39m",
      "\u001b[31mModuleNotFoundError\u001b[39m                       Traceback (most recent call last)",
      "\u001b[36mCell\u001b[39m\u001b[36m \u001b[39m\u001b[32mIn[3]\u001b[39m\u001b[32m, line 9\u001b[39m\n\u001b[32m      6\u001b[39m chat_model = ChatModel(\u001b[33m\"\u001b[39m\u001b[33mgpt-4o-mini\u001b[39m\u001b[33m\"\u001b[39m)\n\u001b[32m      7\u001b[39m embed_model = EmbeddingModel(model_name=\u001b[33m\"\u001b[39m\u001b[33mtext-embedding-3-small\u001b[39m\u001b[33m\"\u001b[39m, dimensions=\u001b[32m1536\u001b[39m)\n\u001b[32m----> \u001b[39m\u001b[32m9\u001b[39m kb = \u001b[43maf\u001b[49m\u001b[43m.\u001b[49m\u001b[43mcreate_knowledge_base\u001b[49m\u001b[43m(\u001b[49m\n\u001b[32m     10\u001b[39m \u001b[43m    \u001b[49m\u001b[38;5;28;43mid\u001b[39;49m\u001b[43m=\u001b[49m\u001b[43mUUID\u001b[49m\u001b[43m(\u001b[49m\u001b[33;43m\"\u001b[39;49m\u001b[33;43m655b6cf3-8b30-4839-ba8b-5ed3c502f30e\u001b[39;49m\u001b[33;43m\"\u001b[39;49m\u001b[43m)\u001b[49m\u001b[43m,\u001b[49m\n\u001b[32m     11\u001b[39m \u001b[43m    \u001b[49m\u001b[43mname\u001b[49m\u001b[43m=\u001b[49m\u001b[33;43m\"\u001b[39;49m\u001b[33;43mNew KB\u001b[39;49m\u001b[33;43m\"\u001b[39;49m\u001b[43m,\u001b[49m\n\u001b[32m     12\u001b[39m \u001b[43m    \u001b[49m\u001b[43mdescription\u001b[49m\u001b[43m=\u001b[49m\u001b[33;43m\"\u001b[39;49m\u001b[33;43mThis is a knowledge base for testing\u001b[39;49m\u001b[33;43m\"\u001b[39;49m\u001b[43m,\u001b[49m\n\u001b[32m     13\u001b[39m \u001b[43m    \u001b[49m\u001b[43mindex_methods\u001b[49m\u001b[43m=\u001b[49m\u001b[43m[\u001b[49m\u001b[43mIndexMethod\u001b[49m\u001b[43m.\u001b[49m\u001b[43mVECTOR_SEARCH\u001b[49m\u001b[43m,\u001b[49m\u001b[43m \u001b[49m\u001b[43mIndexMethod\u001b[49m\u001b[43m.\u001b[49m\u001b[43mKNOWLEDGE_GRAPH\u001b[49m\u001b[43m]\u001b[49m\u001b[43m,\u001b[49m\n\u001b[32m     14\u001b[39m \u001b[43m    \u001b[49m\u001b[43mchat_model\u001b[49m\u001b[43m=\u001b[49m\u001b[43mchat_model\u001b[49m\u001b[43m,\u001b[49m\n\u001b[32m     15\u001b[39m \u001b[43m    \u001b[49m\u001b[43membedding_model\u001b[49m\u001b[43m=\u001b[49m\u001b[43membed_model\u001b[49m\u001b[43m,\u001b[49m\n\u001b[32m     16\u001b[39m \u001b[43m)\u001b[49m\n\u001b[32m     17\u001b[39m kb.model_dump()\n",
      "\u001b[36mFile \u001b[39m\u001b[32m~/Projects/autoflow.ai/core/autoflow/main.py:74\u001b[39m, in \u001b[36mAutoflow.create_knowledge_base\u001b[39m\u001b[34m(self, name, chat_model, embedding_model, description, index_methods, id)\u001b[39m\n\u001b[32m     65\u001b[39m \u001b[38;5;28;01mdef\u001b[39;00m\u001b[38;5;250m \u001b[39m\u001b[34mcreate_knowledge_base\u001b[39m(\n\u001b[32m     66\u001b[39m     \u001b[38;5;28mself\u001b[39m,\n\u001b[32m     67\u001b[39m     name: \u001b[38;5;28mstr\u001b[39m,\n\u001b[32m   (...)\u001b[39m\u001b[32m     72\u001b[39m     \u001b[38;5;28mid\u001b[39m: Optional[uuid.UUID] = \u001b[38;5;28;01mNone\u001b[39;00m,\n\u001b[32m     73\u001b[39m ):\n\u001b[32m---> \u001b[39m\u001b[32m74\u001b[39m     \u001b[38;5;28;01mfrom\u001b[39;00m\u001b[38;5;250m \u001b[39m\u001b[34;01mautoflow\u001b[39;00m\u001b[34;01m.\u001b[39;00m\u001b[34;01mknowledge_base\u001b[39;00m\u001b[38;5;250m \u001b[39m\u001b[38;5;28;01mimport\u001b[39;00m KnowledgeBase\n\u001b[32m     76\u001b[39m     \u001b[38;5;28;01mreturn\u001b[39;00m KnowledgeBase(\n\u001b[32m     77\u001b[39m         name=name,\n\u001b[32m     78\u001b[39m         description=description,\n\u001b[32m   (...)\u001b[39m\u001b[32m     83\u001b[39m         db_engine=\u001b[38;5;28mself\u001b[39m._db_engine,\n\u001b[32m     84\u001b[39m     )\n",
      "\u001b[36mFile \u001b[39m\u001b[32m~/Projects/autoflow.ai/core/autoflow/knowledge_base/__init__.py:1\u001b[39m\n\u001b[32m----> \u001b[39m\u001b[32m1\u001b[39m \u001b[38;5;28;01mfrom\u001b[39;00m\u001b[38;5;250m \u001b[39m\u001b[34;01m.\u001b[39;00m\u001b[34;01mbase\u001b[39;00m\u001b[38;5;250m \u001b[39m\u001b[38;5;28;01mimport\u001b[39;00m KnowledgeBase\n\u001b[32m      3\u001b[39m __all__ = [\n\u001b[32m      4\u001b[39m     \u001b[33m\"\u001b[39m\u001b[33mKnowledgeBase\u001b[39m\u001b[33m\"\u001b[39m,\n\u001b[32m      5\u001b[39m ]\n",
      "\u001b[36mFile \u001b[39m\u001b[32m~/Projects/autoflow.ai/core/autoflow/knowledge_base/base.py:12\u001b[39m\n\u001b[32m      9\u001b[39m \u001b[38;5;28;01mfrom\u001b[39;00m\u001b[38;5;250m \u001b[39m\u001b[34;01msqlalchemy\u001b[39;00m\u001b[34;01m.\u001b[39;00m\u001b[34;01morm\u001b[39;00m\u001b[34;01m.\u001b[39;00m\u001b[34;01mdecl_api\u001b[39;00m\u001b[38;5;250m \u001b[39m\u001b[38;5;28;01mimport\u001b[39;00m RegistryType\n\u001b[32m     10\u001b[39m \u001b[38;5;28;01mfrom\u001b[39;00m\u001b[38;5;250m \u001b[39m\u001b[34;01msqlmodel\u001b[39;00m\u001b[34;01m.\u001b[39;00m\u001b[34;01mmain\u001b[39;00m\u001b[38;5;250m \u001b[39m\u001b[38;5;28;01mimport\u001b[39;00m default_registry, Field\n\u001b[32m---> \u001b[39m\u001b[32m12\u001b[39m \u001b[38;5;28;01mfrom\u001b[39;00m\u001b[38;5;250m \u001b[39m\u001b[34;01mautoflow\u001b[39;00m\u001b[34;01m.\u001b[39;00m\u001b[34;01mdatasources\u001b[39;00m\u001b[38;5;250m \u001b[39m\u001b[38;5;28;01mimport\u001b[39;00m DataSource\n\u001b[32m     13\u001b[39m \u001b[38;5;28;01mfrom\u001b[39;00m\u001b[38;5;250m \u001b[39m\u001b[34;01mautoflow\u001b[39;00m\u001b[34;01m.\u001b[39;00m\u001b[34;01mdatasources\u001b[39;00m\u001b[34;01m.\u001b[39;00m\u001b[34;01mmime_types\u001b[39;00m\u001b[38;5;250m \u001b[39m\u001b[38;5;28;01mimport\u001b[39;00m SupportedMimeTypes\n\u001b[32m     14\u001b[39m \u001b[38;5;28;01mfrom\u001b[39;00m\u001b[38;5;250m \u001b[39m\u001b[34;01mautoflow\u001b[39;00m\u001b[34;01m.\u001b[39;00m\u001b[34;01mindices\u001b[39;00m\u001b[34;01m.\u001b[39;00m\u001b[34;01mvector_search\u001b[39;00m\u001b[34;01m.\u001b[39;00m\u001b[34;01mbase\u001b[39;00m\u001b[38;5;250m \u001b[39m\u001b[38;5;28;01mimport\u001b[39;00m VectorSearchIndex\n",
      "\u001b[36mFile \u001b[39m\u001b[32m~/Projects/autoflow.ai/core/autoflow/datasources/__init__.py:1\u001b[39m\n\u001b[32m----> \u001b[39m\u001b[32m1\u001b[39m \u001b[38;5;28;01mfrom\u001b[39;00m\u001b[38;5;250m \u001b[39m\u001b[34;01m.\u001b[39;00m\u001b[34;01mbase\u001b[39;00m\u001b[38;5;250m \u001b[39m\u001b[38;5;28;01mimport\u001b[39;00m DataSource\n\u001b[32m      2\u001b[39m \u001b[38;5;28;01mfrom\u001b[39;00m\u001b[38;5;250m \u001b[39m\u001b[34;01m.\u001b[39;00m\u001b[34;01mfile\u001b[39;00m\u001b[38;5;250m \u001b[39m\u001b[38;5;28;01mimport\u001b[39;00m FileDataSource\n\u001b[32m      3\u001b[39m \u001b[38;5;28;01mfrom\u001b[39;00m\u001b[38;5;250m \u001b[39m\u001b[34;01m.\u001b[39;00m\u001b[34;01mweb_sitemap\u001b[39;00m\u001b[38;5;250m \u001b[39m\u001b[38;5;28;01mimport\u001b[39;00m WebSitemapDataSource\n",
      "\u001b[36mFile \u001b[39m\u001b[32m~/Projects/autoflow.ai/core/autoflow/datasources/base.py:6\u001b[39m\n\u001b[32m      3\u001b[39m \u001b[38;5;28;01mfrom\u001b[39;00m\u001b[38;5;250m \u001b[39m\u001b[34;01mtyping\u001b[39;00m\u001b[38;5;250m \u001b[39m\u001b[38;5;28;01mimport\u001b[39;00m Generator, Generic, TypeVar, Optional\n\u001b[32m      4\u001b[39m \u001b[38;5;28;01mfrom\u001b[39;00m\u001b[38;5;250m \u001b[39m\u001b[34;01mpydantic\u001b[39;00m\u001b[38;5;250m \u001b[39m\u001b[38;5;28;01mimport\u001b[39;00m BaseModel, Field\n\u001b[32m----> \u001b[39m\u001b[32m6\u001b[39m \u001b[38;5;28;01mfrom\u001b[39;00m\u001b[38;5;250m \u001b[39m\u001b[34;01mautoflow\u001b[39;00m\u001b[34;01m.\u001b[39;00m\u001b[34;01mmodels\u001b[39;00m\u001b[38;5;250m \u001b[39m\u001b[38;5;28;01mimport\u001b[39;00m DBDocument\n\u001b[32m      7\u001b[39m \u001b[38;5;28;01mfrom\u001b[39;00m\u001b[38;5;250m \u001b[39m\u001b[34;01mautoflow\u001b[39;00m\u001b[34;01m.\u001b[39;00m\u001b[34;01mschema\u001b[39;00m\u001b[38;5;250m \u001b[39m\u001b[38;5;28;01mimport\u001b[39;00m BaseComponent\n\u001b[32m      9\u001b[39m C = TypeVar(\u001b[33m\"\u001b[39m\u001b[33mC\u001b[39m\u001b[33m\"\u001b[39m, bound=BaseModel)\n",
      "\u001b[36mFile \u001b[39m\u001b[32m~/Projects/autoflow.ai/core/autoflow/models/__init__.py:4\u001b[39m\n\u001b[32m      2\u001b[39m \u001b[38;5;28;01mfrom\u001b[39;00m\u001b[38;5;250m \u001b[39m\u001b[34;01m.\u001b[39;00m\u001b[34;01mdocument\u001b[39;00m\u001b[38;5;250m \u001b[39m\u001b[38;5;28;01mimport\u001b[39;00m Document \u001b[38;5;28;01mas\u001b[39;00m DBDocument\n\u001b[32m      3\u001b[39m \u001b[38;5;28;01mfrom\u001b[39;00m\u001b[38;5;250m \u001b[39m\u001b[34;01m.\u001b[39;00m\u001b[34;01mchunk\u001b[39;00m\u001b[38;5;250m \u001b[39m\u001b[38;5;28;01mimport\u001b[39;00m get_chunk_model\n\u001b[32m----> \u001b[39m\u001b[32m4\u001b[39m \u001b[38;5;28;01mfrom\u001b[39;00m\u001b[38;5;250m \u001b[39m\u001b[34;01m.\u001b[39;00m\u001b[34;01mentity\u001b[39;00m\u001b[38;5;250m \u001b[39m\u001b[38;5;28;01mimport\u001b[39;00m get_entity_model, EntityType\n\u001b[32m      5\u001b[39m \u001b[38;5;28;01mfrom\u001b[39;00m\u001b[38;5;250m \u001b[39m\u001b[34;01m.\u001b[39;00m\u001b[34;01mrelationship\u001b[39;00m\u001b[38;5;250m \u001b[39m\u001b[38;5;28;01mimport\u001b[39;00m get_relationship_model\n\u001b[32m      7\u001b[39m __all__ = [\n\u001b[32m      8\u001b[39m     \u001b[33m\"\u001b[39m\u001b[33mDBDocument\u001b[39m\u001b[33m\"\u001b[39m,\n\u001b[32m      9\u001b[39m     \u001b[33m\"\u001b[39m\u001b[33mget_chunk_model\u001b[39m\u001b[33m\"\u001b[39m,\n\u001b[32m   (...)\u001b[39m\u001b[32m     12\u001b[39m     \u001b[33m\"\u001b[39m\u001b[33mget_relationship_model\u001b[39m\u001b[33m\"\u001b[39m,\n\u001b[32m     13\u001b[39m ]\n",
      "\u001b[31mModuleNotFoundError\u001b[39m: No module named 'autoflow.models.entity'"
     ]
    }
   ],
   "source": [
    "from uuid import UUID\n",
    "from autoflow.types import IndexMethod\n",
    "from autoflow.llms.chat_models import ChatModel\n",
    "from autoflow.llms.embeddings import EmbeddingModel\n",
    "\n",
    "chat_model = ChatModel(\"gpt-4o-mini\")\n",
    "embed_model = EmbeddingModel(\n",
    "    model_name=\"text-embedding_models-3-small\", dimensions=1536\n",
    ")\n",
    "\n",
    "kb = af.create_knowledge_base(\n",
    "    id=UUID(\"655b6cf3-8b30-4839-ba8b-5ed3c502f30e\"),\n",
    "    name=\"New KB\",\n",
    "    description=\"This is a knowledge base for testing\",\n",
    "    index_methods=[IndexMethod.VECTOR_SEARCH, IndexMethod.KNOWLEDGE_GRAPH],\n",
    "    chat_model=chat_model,\n",
    "    embedding_model=embed_model,\n",
    ")\n",
    "kb.model_dump()"
   ]
  },
  {
   "cell_type": "markdown",
   "id": "4cfc2d80",
   "metadata": {},
   "source": [
    "### Import documents from files"
   ]
  },
  {
   "cell_type": "code",
   "execution_count": 8,
   "id": "77dbdac1",
   "metadata": {
    "ExecuteTime": {
     "end_time": "2025-03-25T17:18:30.388669Z",
     "start_time": "2025-03-25T17:18:30.383295Z"
    }
   },
   "outputs": [
    {
     "data": {
      "text/plain": [
       "'/Users/liangzhiyuan/Projects/autoflow.ai/core/docs'"
      ]
     },
     "execution_count": 8,
     "metadata": {},
     "output_type": "execute_result"
    }
   ],
   "source": [
    "current_dir = os.path.dirname(os.path.abspath(\"__file__\"))\n",
    "current_dir"
   ]
  },
  {
   "cell_type": "code",
   "execution_count": 9,
   "id": "f729326f",
   "metadata": {
    "ExecuteTime": {
     "end_time": "2025-03-25T17:18:33.505133Z",
     "start_time": "2025-03-25T17:18:32.936783Z"
    }
   },
   "outputs": [
    {
     "data": {
      "text/plain": [
       "[]"
      ]
     },
     "execution_count": 9,
     "metadata": {},
     "output_type": "execute_result"
    }
   ],
   "source": [
    "from pathlib import Path\n",
    "\n",
    "kb.add(\n",
    "    files=[\n",
    "        Path(current_dir) / \"fixtures\" / \"tidb-overview.md\",\n",
    "    ]\n",
    ")"
   ]
  },
  {
   "cell_type": "markdown",
   "id": "84fd9b606e6a11a5",
   "metadata": {},
   "source": [
    "### Search Documents"
   ]
  },
  {
   "cell_type": "code",
   "execution_count": 10,
   "id": "259ad7a9",
   "metadata": {
    "ExecuteTime": {
     "end_time": "2025-03-25T17:18:35.033068Z",
     "start_time": "2025-03-25T17:18:35.014435Z"
    }
   },
   "outputs": [
    {
     "data": {
      "text/plain": [
       "[(0.7382171054172685,\n",
       "  'What is TiDB Self-Managed Key features\\n<!-- Localization note for TiDB:\\n- English: use distributed SQL, and start to emphasize HTAP\\n- Chinese: can keep \"NewSQL\" and emphasize one-stop real-time HTAP (\"一栈式实时 HTAP\")\\n- Japanese: use NewSQL because it is well-recognized\\n-->\\nTiDB (/\\'taɪdiːbi:/, \"Ti\" stands for Titanium) is an open-source distributed SQL database that supports Hybrid Transactional and Analytical Processing (HTAP) workloads. It is MySQL compatible and features horizontal scalability, strong consistency, and high availability. The goal of TiDB is to provide users with a one-stop database solution that covers OLTP (Online Transactional Processing), OLAP (Online Analytical Processing), and HTAP services. TiDB is suitable for various use cases that require high availability and strong consistency with large-scale data.\\nTiDB Self-Managed is a product option of TiDB, where users or organizations can deploy and manage TiDB on their own infrastructure with complete flexibility. With TiDB Self-Managed, you can enjoy the power of open source, distributed SQL while retaining full control over your environment.\\nThe following video introduces key features of TiDB.\\n\\n- **Easy horizontal scaling**\\nThe TiDB architecture design separates computing from storage, letting you scale out or scale in the computing or storage capacity online as needed. The scaling process is transparent to application operations and maintenance staff.\\n- **Financial-grade high availability**\\nData is stored in multiple replicas, and the Multi-Raft protocol is used to obtain the transaction log. A transaction can only be committed when data has been successfully written into the majority of replicas. This guarantees strong consistency and availability when a minority of replicas go down. You can configure the geographic location and number of replicas as needed to meet different disaster tolerance levels.\\n- **Real-time HTAP**\\nTiDB provides two storage engines: TiKV, a row-based storage engine, and TiFlash, a columnar storage engine. TiFlash uses the Multi-Raft Learner protocol to replicate data from TiKV in real time, ensuring consistent data between the TiKV row-based storage engine and the TiFlash columnar storage engine. TiKV and TiFlash can be deployed on different machines as needed to solve the problem of HTAP resource isolation.\\n- **Cloud-native distributed database**\\nTiDB is a distributed database designed for the cloud, providing flexible scalability, reliability, and security on the cloud platform. Users can elastically scale TiDB to meet the requirements of their changing workloads. In TiDB, each piece of data has at least 3 replicas, which can be scheduled in different cloud availability zones to tolerate the outage of a whole data center. TiDB Operator helps manage TiDB on Kubernetes and automates tasks related to operating the TiDB cluster, making TiDB easier to deploy on any cloud that provides managed Kubernetes. TiDB Cloud, the fully-managed TiDB service, is the easiest, most economical, and most resilient way to unlock the full power of TiDB in the cloud, allowing you to deploy and run TiDB clusters with just a few clicks.\\n- **Compatible with the MySQL protocol and MySQL ecosystem**\\nTiDB is compatible with the MySQL protocol, common features of MySQL, and the MySQL ecosystem. To migrate applications to TiDB, you do not need to change a single line of code in many cases, or only need to modify a small amount of code. In addition, TiDB provides a series of data migration tools to help easily migrate application data into TiDB.'),\n",
       " (0.7380258973218252,\n",
       "  'What is TiDB Self-Managed See also\\n- TiDB Architecture\\n- TiDB Storage\\n- TiDB Computing\\n- TiDB Scheduling')]"
      ]
     },
     "execution_count": 10,
     "metadata": {},
     "output_type": "execute_result"
    }
   ],
   "source": [
    "result = kb.search_documents(\n",
    "    query=\"What is TiDB?\",\n",
    "    similarity_top_k=2,\n",
    ")\n",
    "[(c.score, c.chunk.text) for c in result.chunks]"
   ]
  },
  {
   "cell_type": "markdown",
   "id": "f2a0de8057cdf16b",
   "metadata": {},
   "source": [
    "### Search Knowledge Graph"
   ]
  },
  {
   "cell_type": "code",
   "execution_count": 11,
   "id": "6fc5bc93",
   "metadata": {
    "ExecuteTime": {
     "end_time": "2025-03-25T17:18:37.600185Z",
     "start_time": "2025-03-25T17:18:37.415453Z"
    }
   },
   "outputs": [
    {
     "name": "stderr",
     "output_type": "stream",
     "text": [
      "/Users/liangzhiyuan/Projects/autoflow.ai/core/.venv/lib/python3.12/site-packages/sqlmodel/orm/session.py:66: SAWarning: SELECT statement has a cartesian product between FROM element(s) \"candidates\" and FROM element \"entities_655b6cf3-8b30-4839-ba8b-5ed3c502f30e\".  Apply join condition(s) between each element to resolve.\n",
      "  results = super().execute(\n"
     ]
    },
    {
     "data": {
      "text/plain": [
       "['TiDB -> TiDB can be deployed in a Self-Managed model, providing users with control over their database setup. -> Self-Managed',\n",
       " 'TiDB -> TiDB Self-Managed is a deployment option of TiDB that allows users to manage the database on their own infrastructure. -> TiDB Self-Managed',\n",
       " 'TiDB -> TiDB utilizes TiKV as its row-based storage engine to support real-time data replication. -> TiKV',\n",
       " 'TiDB -> TiDB employs TiFlash as its columnar storage engine to ensure consistent data storage and real-time replication from TiKV. -> TiFlash',\n",
       " 'TiDB -> TiDB Operator facilitates the management of TiDB on Kubernetes, automating operational tasks. -> TiDB Operator',\n",
       " 'TiDB -> TiDB Cloud is the fully-managed service that allows users to deploy and run TiDB clusters in the cloud. -> TiDB Cloud',\n",
       " 'TiDB Self-Managed -> TiDB Self-Managed utilizes TiDB Architecture to structure its deployment and operations. -> TiDB Architecture',\n",
       " 'TiDB Self-Managed -> TiDB Self-Managed relies on TiDB Storage for data management and persistence. -> TiDB Storage',\n",
       " 'TiDB Self-Managed -> TiDB Self-Managed employs TiDB Computing to execute queries and process data. -> TiDB Computing',\n",
       " 'TiDB Self-Managed -> TiDB Self-Managed incorporates TiDB Scheduling to manage task execution and resource allocation. -> TiDB Scheduling']"
      ]
     },
     "execution_count": 11,
     "metadata": {},
     "output_type": "execute_result"
    }
   ],
   "source": [
    "kg = kb.search_knowledge_graph(\n",
    "    query=\"What is TiDB?\",\n",
    ")\n",
    "[(r.rag_description) for r in kg.relationships]"
   ]
  }
 ],
 "metadata": {
  "kernelspec": {
   "display_name": ".venv",
   "language": "python",
   "name": "python3"
  },
  "language_info": {
   "codemirror_mode": {
    "name": "ipython",
    "version": 3
   },
   "file_extension": ".py",
   "mimetype": "text/x-python",
   "name": "python",
   "nbconvert_exporter": "python",
   "pygments_lexer": "ipython3",
   "version": "3.12.4"
  }
 },
 "nbformat": 4,
 "nbformat_minor": 5
}
