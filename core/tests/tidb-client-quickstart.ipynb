{
 "cells": [
  {
   "cell_type": "markdown",
   "id": "b90e936b724dae40",
   "metadata": {},
   "source": [
    "# TiDB Vector SDK V2\n",
    "\n",
    "A powerful Python SDK for vector storage and retrieval operations with TiDB.\n",
    "\n",
    "- 🔄 Automatic embedding generation\n",
    "- 🔍 Vector similarity search\n",
    "- 🎯 Advanced filtering capabilities\n",
    "- 📦 Bulk operations support"
   ]
  },
  {
   "cell_type": "markdown",
   "id": "d774f9944686ca99",
   "metadata": {},
   "source": [
    "## Installation"
   ]
  },
  {
   "cell_type": "code",
   "execution_count": null,
   "id": "b81aa3ab",
   "metadata": {},
   "outputs": [],
   "source": [
    "%pip install autoflow-ai==0.0.1.dev10\n",
    "%pip install dotenv ipywidgets pymysql sqlmodel"
   ]
  },
  {
   "cell_type": "markdown",
   "id": "279c55c04195fad0",
   "metadata": {},
   "source": [
    "#### Configure environment variable\n",
    "\n",
    "Go [tidbcloud.com](http://tidbcloud.com/) or using [tiup playground](https://docs.pingcap.com/tidb/stable/tiup-playground/) to create a free TiDB database cluster\n",
    "\n",
    "Configuration can be provided through environment variables, or using `.env`:"
   ]
  },
  {
   "cell_type": "code",
   "execution_count": null,
   "id": "a4d9eecc110097aa",
   "metadata": {},
   "outputs": [],
   "source": [
    "# Create .env file, then edit your .env, for example:\n",
    "# $ cat .env\n",
    "# DATABASE_URL='mysql+pymysql://root@localhost:4000/test'\n",
    "# OPENAI_API_KEY='your_openai_api_key'\n",
    "%cp .env.example .env"
   ]
  },
  {
   "cell_type": "markdown",
   "id": "22bfc51ebffcd51a",
   "metadata": {},
   "source": [
    "## Quickstart"
   ]
  },
  {
   "cell_type": "markdown",
   "id": "dc2df9bbafbf7080",
   "metadata": {},
   "source": [
    "### Connect to TiDB"
   ]
  },
  {
   "cell_type": "code",
   "execution_count": 39,
   "id": "4995a54f311c4b1c",
   "metadata": {},
   "outputs": [],
   "source": [
    "import os\n",
    "from autoflow.storage.tidb import TiDBClient\n",
    "\n",
    "# Format: mysql+pymysql://<username>:<password>@<host>:4000/<database>\n",
    "db = TiDBClient.connect(os.getenv(\"DATABASE_URL\"))"
   ]
  },
  {
   "cell_type": "markdown",
   "id": "efe66290f9e9df4b",
   "metadata": {},
   "source": [
    "### Create table"
   ]
  },
  {
   "cell_type": "code",
   "execution_count": 40,
   "id": "bdddb9f0a005b74d",
   "metadata": {},
   "outputs": [],
   "source": [
    "from typing import Optional, Any\n",
    "from autoflow.storage.tidb.base import TiDBModel\n",
    "from sqlmodel import Field\n",
    "from autoflow.llms.embeddings import EmbeddingFunction\n",
    "\n",
    "# Define your embedding model.\n",
    "text_embed = EmbeddingFunction(\"openai/text-embedding-3-small\")\n",
    "\n",
    "class Chunk(TiDBModel, table=True):    \n",
    "    __tablename__ = \"chunks\"\n",
    "    __table_args__ = {'extend_existing': True}\n",
    "\n",
    "    id: int = Field(primary_key=True)\n",
    "    text: str = Field()\n",
    "    text_vec: Optional[Any] = text_embed.VectorField(source_field=\"text\")   # 👈 Define the vector field.\n",
    "    user_id: int = Field()\n",
    "\n",
    "table = db.create_table(schema=Chunk)"
   ]
  },
  {
   "cell_type": "markdown",
   "id": "3eab5d6eaaaaa868",
   "metadata": {},
   "source": [
    "### Insert Data\n",
    "\n",
    "🔢 Auto embedding: when you insert new data, the SDK automatically embeds the corpus for you."
   ]
  },
  {
   "cell_type": "code",
   "execution_count": 46,
   "id": "baec9a5ae06231be",
   "metadata": {},
   "outputs": [
    {
     "data": {
      "text/plain": [
       "4"
      ]
     },
     "execution_count": 46,
     "metadata": {},
     "output_type": "execute_result"
    }
   ],
   "source": [
    "table.insert(Chunk(id=1, text=\"The quick brown fox jumps over the lazy dog\", user_id=1),)\n",
    "table.bulk_insert([\n",
    "    Chunk(id=2, text=\"A quick brown dog runs in the park\", user_id=2),\n",
    "    Chunk(id=3, text=\"The lazy fox sleeps under the tree\", user_id=2),\n",
    "    Chunk(id=4, text=\"A dog and a fox play in the park\", user_id=3)\n",
    "])\n",
    "table.rows()"
   ]
  },
  {
   "cell_type": "markdown",
   "id": "c985564294102cd3",
   "metadata": {},
   "source": [
    "### Vector Search"
   ]
  },
  {
   "cell_type": "code",
   "execution_count": 53,
   "id": "3c4313022f06bd3e",
   "metadata": {},
   "outputs": [
    {
     "data": {
      "text/plain": [
       "[('A quick brown dog runs in the park', 0.665493189763966),\n",
       " ('The lazy fox sleeps under the tree', 0.554631888866523)]"
      ]
     },
     "execution_count": 53,
     "metadata": {},
     "output_type": "execute_result"
    }
   ],
   "source": [
    "from autoflow.storage.tidb import DistanceMetric\n",
    "\n",
    "chunks = (\n",
    "    table.search(\"A quick fox in the park\")         # 👈 The query will be embedding automatically.\n",
    "        # .distance_metric(metric=DistanceMetric.COSINE)\n",
    "        # .num_candidate(20)\n",
    "        .filter({\n",
    "            \"user_id\": 2\n",
    "        })\n",
    "        .limit(2)\n",
    "        .to_pydantic()\n",
    ")\n",
    "[(c.text, c.score) for c in chunks]"
   ]
  },
  {
   "cell_type": "markdown",
   "id": "6d0f67ab",
   "metadata": {},
   "source": [
    "### Advanced Filtering\n",
    "\n",
    "TiDB Client supports various filter operators for flexible querying:\n",
    "\n",
    "| Operator | Description | Example |\n",
    "|----------|-------------|---------|\n",
    "| `$eq` | Equal to | `{\"field\": {\"$eq\": \"hello\"}}` |\n",
    "| `$gt` | Greater than | `{\"field\": {\"$gt\": 1}}` |\n",
    "| `$gte` | Greater than or equal | `{\"field\": {\"$gte\": 1}}` |\n",
    "| `$lt` | Less than | `{\"field\": {\"$lt\": 1}}` |\n",
    "| `$lte` | Less than or equal | `{\"field\": {\"$lte\": 1}}` |\n",
    "| `$in` | In array | `{\"field\": {\"$in\": [1, 2, 3]}}` |\n",
    "| `$nin` | Not in array | `{\"field\": {\"$nin\": [1, 2, 3]}}` |\n",
    "| `$and` | Logical AND | `{\"$and\": [{\"field1\": 1}, {\"field2\": 2}]}` |\n",
    "| `$or` | Logical OR | `{\"$or\": [{\"field1\": 1}, {\"field2\": 2}]}` |\n"
   ]
  },
  {
   "cell_type": "code",
   "execution_count": 49,
   "id": "ace02b45",
   "metadata": {},
   "outputs": [
    {
     "data": {
      "text/plain": [
       "[(1, 'The quick brown fox jumps over the lazy dog', 1)]"
      ]
     },
     "execution_count": 49,
     "metadata": {},
     "output_type": "execute_result"
    }
   ],
   "source": [
    "chunks = table.query({\"user_id\": 1})\n",
    "[\n",
    "    (c.id,  c.text, c.user_id)\n",
    "    for c in chunks\n",
    "]"
   ]
  },
  {
   "cell_type": "markdown",
   "id": "af9c3428",
   "metadata": {},
   "source": [
    "### Truncate table\n",
    "\n",
    "Clear all data in the table:"
   ]
  },
  {
   "cell_type": "code",
   "execution_count": 45,
   "id": "cceb0bf0",
   "metadata": {},
   "outputs": [
    {
     "data": {
      "text/plain": [
       "0"
      ]
     },
     "execution_count": 45,
     "metadata": {},
     "output_type": "execute_result"
    }
   ],
   "source": [
    "table.truncate()\n",
    "table.rows()"
   ]
  }
 ],
 "metadata": {},
 "nbformat": 5,
 "nbformat_minor": 9
}
