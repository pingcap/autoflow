{
 "cells": [
  {
   "cell_type": "markdown",
   "id": "b90e936b724dae40",
   "metadata": {},
   "source": [
    "# TiDB Vector SDK V2\n",
    "\n",
    "A powerful Python SDK for vector storage and retrieval operations with TiDB.\n",
    "\n",
    "- 🔄 Automatic embedding generation\n",
    "- 🔍 Vector similarity search\n",
    "- 🎯 Advanced filtering capabilities\n",
    "- 📦 Bulk operations support"
   ]
  },
  {
   "cell_type": "markdown",
   "id": "d774f9944686ca99",
   "metadata": {},
   "source": [
    "## Installation"
   ]
  },
  {
   "cell_type": "code",
   "execution_count": null,
   "id": "b81aa3ab",
   "metadata": {},
   "outputs": [],
   "source": [
    "%pip install autoflow-ai==0.0.1.dev10\n",
    "%pip install dotenv ipywidgets pymysql sqlmodel"
   ]
  },
  {
   "cell_type": "markdown",
   "id": "279c55c04195fad0",
   "metadata": {},
   "source": [
    "#### Configure environment variable\n",
    "\n",
    "Go [tidbcloud.com](http://tidbcloud.com/) or using [tiup playground](https://docs.pingcap.com/tidb/stable/tiup-playground/) to create a free TiDB database cluster\n",
    "\n",
    "Configuration can be provided through environment variables, or using `.env`:"
   ]
  },
  {
   "cell_type": "code",
   "execution_count": null,
   "id": "a4d9eecc110097aa",
   "metadata": {},
   "outputs": [],
   "source": [
    "# Create .env file, then edit your .env, for example:\n",
    "# $ cat .env\n",
    "# DATABASE_URL='mysql+pymysql://root@localhost:4000/test'\n",
    "# OPENAI_API_KEY='your_openai_api_key'\n",
    "%cp .env.example .env"
   ]
  },
  {
   "cell_type": "markdown",
   "id": "22bfc51ebffcd51a",
   "metadata": {},
   "source": [
    "## Quickstart"
   ]
  },
  {
   "cell_type": "markdown",
   "id": "dc2df9bbafbf7080",
   "metadata": {},
   "source": [
    "### Connect to TiDB"
   ]
  },
  {
   "cell_type": "code",
   "execution_count": 3,
   "id": "4995a54f311c4b1c",
   "metadata": {},
   "outputs": [],
   "source": [
    "import os\n",
    "from autoflow.storage.tidb import TiDBClient\n",
    "\n",
    "# Format: mysql+pymysql://<username>:<password>@<host>:4000/<database>\n",
    "db = TiDBClient.connect(os.getenv(\"DATABASE_URL\"))"
   ]
  },
  {
   "cell_type": "markdown",
   "id": "efe66290f9e9df4b",
   "metadata": {},
   "source": [
    "### Create table"
   ]
  },
  {
   "cell_type": "code",
   "execution_count": 4,
   "id": "bdddb9f0a005b74d",
   "metadata": {},
   "outputs": [],
   "source": [
    "from typing import Optional, Any\n",
    "from autoflow.storage.tidb.base import TiDBModel\n",
    "from sqlmodel import Field\n",
    "from autoflow.llms.embeddings import EmbeddingFunction\n",
    "\n",
    "# Define your embedding model.\n",
    "text_embed = EmbeddingFunction(\"openai/text-embedding-3-small\")\n",
    "\n",
    "class Chunk(TiDBModel, table=True):\n",
    "    __tablename__ = \"chunks\"\n",
    "    id: int = Field(primary_key=True)\n",
    "    text: str = Field()\n",
    "    text_vec: Optional[Any] = text_embed.VectorField(source_field=\"text\")\n",
    "    user_id: int = Field()\n",
    "\n",
    "table = db.create_table(schema=Chunk)"
   ]
  },
  {
   "cell_type": "markdown",
   "id": "3eab5d6eaaaaa868",
   "metadata": {},
   "source": [
    "### Insert Data"
   ]
  },
  {
   "cell_type": "code",
   "execution_count": 5,
   "id": "baec9a5ae06231be",
   "metadata": {},
   "outputs": [
    {
     "data": {
      "text/plain": [
       "[Chunk(user_id=2, id=2, text='A quick brown dog runs in the park', text_vec=array([-0.0412815 , -0.00934362,  0.01239674, ..., -0.00587278,\n",
       "        -0.00735941,  0.01383422], dtype=float32)),\n",
       " Chunk(user_id=2, id=3, text='The lazy fox sleeps under the tree', text_vec=array([-0.01610469, -0.00269681, -0.01787939, ..., -0.00041015,\n",
       "         0.01320426,  0.02987844], dtype=float32)),\n",
       " Chunk(user_id=3, id=4, text='A dog and a fox play in the park', text_vec=array([-2.7123539e-02, -4.4581316e-02, -3.8457386e-02, ...,\n",
       "        -1.1360981e-03,  9.5597192e-05,  3.4092940e-02], dtype=float32))]"
      ]
     },
     "execution_count": 5,
     "metadata": {},
     "output_type": "execute_result"
    }
   ],
   "source": [
    "table.insert(Chunk(id=1, text=\"The quick brown fox jumps over the lazy dog\", user_id=1),)\n",
    "table.bulk_insert([\n",
    "    Chunk(id=2, text=\"A quick brown dog runs in the park\", user_id=2),\n",
    "    Chunk(id=3, text=\"The lazy fox sleeps under the tree\", user_id=2),\n",
    "    Chunk(id=4, text=\"A dog and a fox play in the park\", user_id=3)\n",
    "])"
   ]
  },
  {
   "cell_type": "markdown",
   "id": "c985564294102cd3",
   "metadata": {},
   "source": [
    "### Vector Search"
   ]
  },
  {
   "cell_type": "code",
   "execution_count": 8,
   "id": "3c4313022f06bd3e",
   "metadata": {},
   "outputs": [
    {
     "data": {
      "text/plain": [
       "[(4, 'A dog and a fox play in the park', 0.7308190419242949),\n",
       " (2, 'A quick brown dog runs in the park', 0.665493189763966),\n",
       " (1, 'The quick brown fox jumps over the lazy dog', 0.6157064668170177)]"
      ]
     },
     "execution_count": 8,
     "metadata": {},
     "output_type": "execute_result"
    }
   ],
   "source": [
    "chunks = table.search(\"A quick fox in the park\").limit(3).to_pydantic()\n",
    "[\n",
    "    (c.id,  c.text, c.score)\n",
    "    for c in chunks\n",
    "]"
   ]
  },
  {
   "cell_type": "markdown",
   "id": "6d0f67ab",
   "metadata": {},
   "source": [
    "### Advanced Filtering\n",
    "\n",
    "TiDB Client supports various filter operators for flexible querying:\n",
    "\n",
    "| Operator | Description | Example |\n",
    "|----------|-------------|---------|\n",
    "| `$eq` | Equal to | `{\"field\": {\"$eq\": \"hello\"}}` |\n",
    "| `$gt` | Greater than | `{\"field\": {\"$gt\": 1}}` |\n",
    "| `$gte` | Greater than or equal | `{\"field\": {\"$gte\": 1}}` |\n",
    "| `$lt` | Less than | `{\"field\": {\"$lt\": 1}}` |\n",
    "| `$lte` | Less than or equal | `{\"field\": {\"$lte\": 1}}` |\n",
    "| `$in` | In array | `{\"field\": {\"$in\": [1, 2, 3]}}` |\n",
    "| `$nin` | Not in array | `{\"field\": {\"$nin\": [1, 2, 3]}}` |\n",
    "| `$and` | Logical AND | `{\"$and\": [{\"field1\": 1}, {\"field2\": 2}]}` |\n",
    "| `$or` | Logical OR | `{\"$or\": [{\"field1\": 1}, {\"field2\": 2}]}` |\n"
   ]
  },
  {
   "cell_type": "code",
   "execution_count": 11,
   "id": "ace02b45",
   "metadata": {},
   "outputs": [
    {
     "data": {
      "text/plain": [
       "[(1, 'The quick brown fox jumps over the lazy dog', 1)]"
      ]
     },
     "execution_count": 11,
     "metadata": {},
     "output_type": "execute_result"
    }
   ],
   "source": [
    "chunks = table.query({\"user_id\": 1})\n",
    "[\n",
    "    (c.id,  c.text, c.user_id)\n",
    "    for c in chunks\n",
    "]"
   ]
  },
  {
   "cell_type": "markdown",
   "id": "af9c3428",
   "metadata": {},
   "source": [
    "### Truncate table"
   ]
  },
  {
   "cell_type": "code",
   "execution_count": 12,
   "id": "cceb0bf0",
   "metadata": {},
   "outputs": [],
   "source": [
    "table.truncate()"
   ]
  }
 ],
 "metadata": {
  "kernelspec": {
   "display_name": "Python 3",
   "language": "python",
   "name": "python3"
  },
  "language_info": {
   "codemirror_mode": {
    "name": "ipython",
    "version": 3
   },
   "file_extension": ".py",
   "mimetype": "text/x-python",
   "name": "python",
   "nbconvert_exporter": "python",
   "pygments_lexer": "ipython3",
   "version": "3.11.9"
  }
 },
 "nbformat": 5,
 "nbformat_minor": 9
}
